{
 "cells": [
  {
   "cell_type": "markdown",
   "id": "f9a61b9e",
   "metadata": {},
   "source": [
    "Control\n",
    "=============\n",
    "# Control\n",
    "- Contiene una colección de notebooks de [Jupyter](https://jupyter.org/) con notas y ejemplos con el contenido propuesto para los cursos **Control análogo** y **Control digital**.\n",
    "\n",
    "- Estas notas fueron escritas por [Jean Pierre DÍAZ-PAZ](https://www.ecoprofe.com/JPDP).\n",
    "\n",
    "- Los notebooks contienen código en [IPython 3](http://ipython.org/).\n"
   ]
  },
  {
   "cell_type": "markdown",
   "id": "397b94ff",
   "metadata": {},
   "source": [
    "## 0  Introducción\n",
    "\n",
    "- [Introducción a la programación con Python y Jupyter](PythonJupyter.ipynb)\n",
    "- [Cálculos en ingeniería con Sympy y Jupyter Notebooks](SympyJupyter.ipynb)\n",
    "- [Ejercicio: Análisis de un circuito con Sympy](EjercicioSympy.ipynb)\n",
    "- [Señales Estándar](SenalesEstandar.ipynb)\n",
    "- [Caracterización de Sistemas LTI en el Dominio del Tiempo](CaracterizacionLTI.ipynb)\n",
    "\n"
   ]
  },
  {
   "cell_type": "markdown",
   "id": "0c4d05a7",
   "metadata": {},
   "source": [
    "## 1  Modelos dinámicos en tiempo continuo\n",
    "\n",
    "- [Modelo dinámico de un circuito RLC](CircuitoRLC.ipynb)\n",
    "- [Ejercicio: Análisis de un circuito con almacenamiento de energía](EjercicioCircuito.ipynb)\n",
    "- [Generalidades de la transformada de Laplace](Transformada_Laplace.ipynb)\n",
    "- [Respuesta dinámica](RespuestaDinamica.ipynb)\n",
    "- [Simulación de funciones de transferencia arbitrarias](Simulacion.ipynb)\n",
    "- [Identificación de sistemas](Identificacion.ipynb)"
   ]
  },
  {
   "cell_type": "markdown",
   "id": "6a993173",
   "metadata": {},
   "source": [
    "## 2  Sistemas realimentados\n",
    "\n",
    "- [Bucle de control en tiempo continuo](Bucle_control.ipynb)\n",
    "- [Diagramas de bloques](Diagramas_bloques.ipynb)\n",
    "- [Efectos de la realimentación](EfectosLazoCerrado.ipynb)\n",
    "- [Error de estado estable](ErrorEstadoEstable.ipynb)\n"
   ]
  },
  {
   "cell_type": "markdown",
   "id": "8d7cc94c",
   "metadata": {},
   "source": [
    "## 3 Lugar geométrico de las raíces\n",
    "\n",
    "\n",
    "- [Criterio de Routh](Routh.ipynb)\n",
    "- [Lugar geométrico de las raíces](LGDR.ipynb)\n",
    "- [Diseño de controladores mediante Lugar Geométrico de las Raíces](controlLGDR.ipynb)\n",
    "\n"
   ]
  },
  {
   "cell_type": "markdown",
   "id": "4e92b811",
   "metadata": {},
   "source": [
    "## 4 PID\n",
    "\n",
    "\n",
    "- [Análisis de la respuesta en frecuencia](Frecuencia.ipynb)"
   ]
  },
  {
   "cell_type": "markdown",
   "id": "8d639fcd",
   "metadata": {},
   "source": [
    "## 5 Análisis en frecuencia\n",
    "\n",
    "\n",
    "- [Análisis de la respuesta en frecuencia](Frecuencia.ipynb)\n",
    "\n"
   ]
  },
  {
   "cell_type": "code",
   "execution_count": null,
   "id": "56f51efb",
   "metadata": {},
   "outputs": [],
   "source": []
  }
 ],
 "metadata": {
  "kernelspec": {
   "display_name": "Python 3",
   "language": "python",
   "name": "python3"
  },
  "language_info": {
   "codemirror_mode": {
    "name": "ipython",
    "version": 3
   },
   "file_extension": ".py",
   "mimetype": "text/x-python",
   "name": "python",
   "nbconvert_exporter": "python",
   "pygments_lexer": "ipython3",
   "version": "3.7.3"
  },
  "latex_envs": {
   "bibliofile": "biblio.bib",
   "cite_by": "apalike",
   "current_citInitial": 1,
   "eqLabelWithNumbers": true,
   "eqNumInitial": 0
  }
 },
 "nbformat": 4,
 "nbformat_minor": 5
}
