{
 "cells": [
  {
   "cell_type": "code",
   "execution_count": 9,
   "id": "8b641925",
   "metadata": {},
   "outputs": [
    {
     "name": "stdout",
     "output_type": "stream",
     "text": [
      "[0] [0] []\n"
     ]
    }
   ],
   "source": [
    "e3,e2,e1 = ([0],[0],[])\n",
    "print(e3,e2,e1)"
   ]
  },
  {
   "cell_type": "code",
   "execution_count": 8,
   "id": "a632226d",
   "metadata": {},
   "outputs": [
    {
     "name": "stdout",
     "output_type": "stream",
     "text": [
      "1 1 2\n"
     ]
    }
   ],
   "source": [
    "e3,e2,e1 = (e2,e1,2)\n",
    "print(e3,e2,e1)"
   ]
  },
  {
   "cell_type": "code",
   "execution_count": 11,
   "id": "fcba4588",
   "metadata": {},
   "outputs": [
    {
     "data": {
      "text/plain": [
       "list"
      ]
     },
     "execution_count": 11,
     "metadata": {},
     "output_type": "execute_result"
    }
   ],
   "source": [
    "type(e3)"
   ]
  },
  {
   "cell_type": "code",
   "execution_count": null,
   "id": "f9220b94",
   "metadata": {},
   "outputs": [],
   "source": []
  }
 ],
 "metadata": {
  "kernelspec": {
   "display_name": "Python 3",
   "language": "python",
   "name": "python3"
  },
  "language_info": {
   "codemirror_mode": {
    "name": "ipython",
    "version": 3
   },
   "file_extension": ".py",
   "mimetype": "text/x-python",
   "name": "python",
   "nbconvert_exporter": "python",
   "pygments_lexer": "ipython3",
   "version": "3.7.3"
  },
  "latex_envs": {
   "bibliofile": "biblio.bib",
   "cite_by": "apalike",
   "current_citInitial": 1,
   "eqLabelWithNumbers": true,
   "eqNumInitial": 0
  }
 },
 "nbformat": 4,
 "nbformat_minor": 5
}
