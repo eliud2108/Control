{
 "cells": [
  {
   "cell_type": "code",
   "execution_count": 1,
   "id": "845287fa",
   "metadata": {},
   "outputs": [],
   "source": [
    "import numpy as np\n",
    "import matplotlib.pyplot as plt\n",
    "%matplotlib inline\n",
    "import control\n",
    "from ipywidgets import interact\n",
    "\n",
    "ts = np.linspace(0, 10, 1000)\n",
    "\n",
    "def pzmap_k(kc):\n",
    "    plt.rcParams['figure.figsize'] = 10,4\n",
    "\n",
    "    print(kc)\n",
    "    ax_pzmap = plt.subplot2grid((1, 2), (0, 0))\n",
    "    ax_resp = plt.subplot2grid((1, 2), (0, 1))\n",
    "\n",
    "    gLC = control.feedback(kc*Gp,1)\n",
    "    _, yLC = control.step_response(gLC, ts)\n",
    "\n",
    "    pLC = gLC.pole()\n",
    "    cLC = gLC.zero()\n",
    "    \n",
    "    \n",
    "    ax_pzmap.plot(pLA.real, pLA.imag, 'rx',\n",
    "                  cLA.real, cLA.imag, 'ro',\n",
    "                  pLC.real, pLC.imag, 'bx',\n",
    "                  cLC.real, cLC.imag, 'bo')\n",
    "    ax_pzmap.legend(('p LA', 'c LA', 'p LC','c LC'))\n",
    "    ax_pzmap.axis(visualizacion_s)\n",
    "    ax_pzmap.grid()\n",
    "    ax_resp.plot(ts,yLA,'r',ts,yLC,'b')\n",
    "    ax_resp.axis(visualizacion_t)\n",
    "    ax_resp.grid()\n",
    "\n",
    "\n",
    "def rlocus_int(kc):\n",
    "    print(kc)\n",
    "    plt.rcParams['figure.figsize'] = 10,4\n",
    "    ax_pzmap = plt.subplot2grid((1, 2), (0, 0))\n",
    "    ax_resp = plt.subplot2grid((1, 2), (0, 1))\n",
    "    _, y = control.step_response(Gp, ts)\n",
    "\n",
    "    gLC = control.feedback(kc*Gp,1)\n",
    "    _, yLC = control.step_response(gLC, ts)\n",
    "\n",
    "    rlist,klist = control.root_locus(Gp,plot = False);\n",
    "    \n",
    "    pLC = gLC.pole()\n",
    "    cLC = gLC.zero()\n",
    "    \n",
    "    \n",
    "    ax_pzmap.plot(pLA.real, pLA.imag, 'rx',\n",
    "                  cLA.real, cLA.imag, 'ro',\n",
    "                  pLC.real, pLC.imag, 'bx',\n",
    "                  cLC.real, cLC.imag, 'bo',\n",
    "                  rlist.real, rlist.imag, '-k')\n",
    "    ax_pzmap.legend(('p LA', 'c LA', 'p LC','c LC','LGDR'))\n",
    "    ax_pzmap.axis(visualizacion_s)\n",
    "    ax_pzmap.grid()\n",
    "    ax_resp.plot(ts,yLA,'r',ts,yLC,'b')\n",
    "    ax_resp.axis(visualizacion_t)\n",
    "    ax_resp.grid()\n"
   ]
  },
  {
   "cell_type": "markdown",
   "id": "c0fbdab3",
   "metadata": {},
   "source": [
    "# Lugar Geométrico de las Raíces\n",
    "\n"
   ]
  },
  {
   "cell_type": "markdown",
   "id": "d8f7ea41",
   "metadata": {},
   "source": [
    "Dado el bucle de control y cosideraciones en los sistemas que lo componen, la función de transferencia de un proceso controlado es:\n",
    "\n",
    "\\begin{equation}\n",
    "\\frac{C(s)}{R(s)} = \\frac{G_c(s)G_p(s)}{1 + G_c(s)G_p(s)H(s)}\n",
    "\\end{equation}\n",
    "\n",
    "Para efectos prácticos considere que $H(s)=1$. Si además se tiene en cuenta que los sistemas son LTI, puede considerarse que sus modelos corresponden a una fracción de polinomios.\n",
    "\n",
    "$$G_c(s)= \\frac{N_c(s)}{D_c(s)}$$\n",
    "$$G_p(s)= \\frac{N_p(s)}{D_p(s)}$$\n",
    "\n",
    "Y la función de transferencia de lazo cerrado queda:\n",
    "\n",
    "$$\\frac{C(s)}{R(s)} = \\frac{\\frac{N_c(s)N_p(s)}{D_c(s)D_p(s)}}{\\frac{D_c(s)D_p(s) + N_c(s)N_p(s)}{D_c(s)D_p(s)}} = \\frac{N_c(s)N_p(s)}{D_c(s)D_p(s) + N_c(s)N_p(s)}$$\n",
    "\n",
    "\n",
    "Cuando se considera que $G_c(s)=k_c$, la función de transferencia de lazo cerrado se reduce a:\n",
    "\n",
    "\\begin{equation}\n",
    "\\frac{C(s)}{R(s)} = \\frac{k_c G_p(s)}{1 + k_c G_p(s)}\n",
    "\\end{equation}\n",
    "\n",
    "o\n",
    "\n",
    "$$\\frac{C(s)}{R(s)} = \\frac{k_cN_p(s)}{D_p(s) + k_cN_p(s)}$$\n",
    "\n",
    "\n",
    "Observe que:\n",
    "- Los polos del sistema en lazo cerrado dependen de qué valor tome $k_c$.\n",
    "- Los ceros del sistema en lazo cerrado son los mismos que en lazo abierto al menos si $k_c   \\neq 0$.\n",
    "\n",
    "\n",
    "\n",
    "\n",
    "**¿Cómo varía la ubicación de los polos en función de $k_c$?**\n"
   ]
  },
  {
   "cell_type": "markdown",
   "id": "3546a9a2",
   "metadata": {},
   "source": [
    "**Ejemplo**\n",
    "\n",
    "Suponga un proceso modelado por:\n",
    "\n",
    "$$G_p(s) = \\frac{1}{s - 1}$$\n",
    "\n",
    "y una estrategia de contro definida por:\n",
    "\n",
    "$$G_c(s) = k_c$$\n"
   ]
  },
  {
   "cell_type": "code",
   "execution_count": 2,
   "id": "63dddc2f",
   "metadata": {},
   "outputs": [
    {
     "data": {
      "text/latex": [
       "$$\\frac{1}{s - 1}$$"
      ],
      "text/plain": [
       "TransferFunction(array([1]), array([ 1, -1]))"
      ]
     },
     "execution_count": 2,
     "metadata": {},
     "output_type": "execute_result"
    }
   ],
   "source": [
    "# Se define la función de transferencia del proceso\n",
    "Gp = control.tf(1, [1,-1])\n",
    "Gp"
   ]
  },
  {
   "cell_type": "markdown",
   "id": "ee90ab07",
   "metadata": {},
   "source": [
    "Varíe $k_c$ y observe cómo varía la posición de los polos del sistema."
   ]
  },
  {
   "cell_type": "code",
   "execution_count": 3,
   "id": "98c7247b",
   "metadata": {},
   "outputs": [
    {
     "data": {
      "application/vnd.jupyter.widget-view+json": {
       "model_id": "ffaf478f87b841199e1b0264f320a540",
       "version_major": 2,
       "version_minor": 0
      },
      "text/plain": [
       "interactive(children=(FloatSlider(value=0.0, description='kc', max=10.0, min=-10.0), Output()), _dom_classes=(…"
      ]
     },
     "metadata": {},
     "output_type": "display_data"
    },
    {
     "data": {
      "text/plain": [
       "<function __main__.pzmap_k(kc)>"
      ]
     },
     "execution_count": 3,
     "metadata": {},
     "output_type": "execute_result"
    }
   ],
   "source": [
    "visualizacion_s = [-10, 10, -5, 5]\n",
    "visualizacion_t = [0, 10, -2, 2]\n",
    "\n",
    "pLA = Gp.pole()\n",
    "cLA = Gp.zero()\n",
    "_, yLA = control.step_response(Gp, ts)\n",
    "\n",
    "interact(pzmap_k, \n",
    "         kc=(-10., 10.))"
   ]
  },
  {
   "cell_type": "markdown",
   "id": "3272554e",
   "metadata": {},
   "source": [
    "¿Qué pasa con un sistema de segundo orden?"
   ]
  },
  {
   "cell_type": "code",
   "execution_count": 4,
   "id": "de5fb1b1",
   "metadata": {},
   "outputs": [
    {
     "data": {
      "text/latex": [
       "$$\\frac{2}{s^2 + 4 s + 1}$$"
      ],
      "text/plain": [
       "TransferFunction(array([2]), array([1, 4, 1]))"
      ]
     },
     "execution_count": 4,
     "metadata": {},
     "output_type": "execute_result"
    }
   ],
   "source": [
    "# Se define la función de transferencia del proceso\n",
    "Gp = control.tf(2, [1,4,1])\n",
    "Gp\n"
   ]
  },
  {
   "cell_type": "code",
   "execution_count": 5,
   "id": "7f77ecd8",
   "metadata": {},
   "outputs": [
    {
     "data": {
      "application/vnd.jupyter.widget-view+json": {
       "model_id": "1b1c3172dee84a4a909cbe4367fa2f65",
       "version_major": 2,
       "version_minor": 0
      },
      "text/plain": [
       "interactive(children=(FloatSlider(value=5.0, description='kc', max=10.0), Output()), _dom_classes=('widget-int…"
      ]
     },
     "metadata": {},
     "output_type": "display_data"
    },
    {
     "data": {
      "text/plain": [
       "<function __main__.pzmap_k(kc)>"
      ]
     },
     "execution_count": 5,
     "metadata": {},
     "output_type": "execute_result"
    }
   ],
   "source": [
    "visualizacion_s = [-10, 10, -5, 5]\n",
    "visualizacion_t = [0, 10, -2, 2]\n",
    "\n",
    "pLA = Gp.pole()\n",
    "cLA = Gp.zero()\n",
    "_, yLA = control.step_response(Gp, ts)\n",
    "\n",
    "interact(pzmap_k, \n",
    "         kc=(0., 10.))"
   ]
  },
  {
   "cell_type": "markdown",
   "id": "9e7354a7",
   "metadata": {},
   "source": [
    "Observe que en ambos casos, al variar el parámetro $k_c>0$,los polos del sistema en lazo cerrado describen trayectorias contiguas en el plano complejo $s$. A estas trayectorias se les conoce como [**Lugar Geométrico de las Raíces**](https://en.wikipedia.org/wiki/Root_locus).\n",
    "\n",
    "En este caso se ha variado el valor $k_c$, sin embargo es posible generar lugares variando un parámetro diferente dentro de $G_c(s)$ o $H(s)$.\n",
    "\n",
    "Hay técnicas numéricas para dibujar una aproximación del Lugar Geométrico de las Raíces, sin embargo, se usarán técnicas computacionales."
   ]
  },
  {
   "cell_type": "markdown",
   "id": "0d4fadd1",
   "metadata": {},
   "source": [
    "**Ejemplo**\n",
    "\n",
    "Considere un sistema de orden 3.\n",
    "\n",
    "$$G_p(s) = \\frac{2}{s \\left ( s^2 + 3s + 2\\right ) }$$\n",
    "\n",
    "Construya el Lugar de las raíces."
   ]
  },
  {
   "cell_type": "code",
   "execution_count": 6,
   "id": "f4e5105d",
   "metadata": {},
   "outputs": [
    {
     "data": {
      "text/latex": [
       "$$\\frac{2}{s^3 + 3 s^2 + 2 s}$$"
      ],
      "text/plain": [
       "TransferFunction(array([2]), array([1, 3, 2, 0]))"
      ]
     },
     "execution_count": 6,
     "metadata": {},
     "output_type": "execute_result"
    }
   ],
   "source": [
    "# Se define la función de transferencia del proceso\n",
    "Gp = control.tf(2, [1,3,2,0])\n",
    "Gp"
   ]
  },
  {
   "cell_type": "code",
   "execution_count": 7,
   "id": "1d3b75b8",
   "metadata": {},
   "outputs": [
    {
     "name": "stdout",
     "output_type": "stream",
     "text": [
      "2\n"
     ]
    },
    {
     "data": {
      "image/png": "[encoded data removed]",
      "text/plain": [
       "<Figure size 720x288 with 2 Axes>"
      ]
     },
     "metadata": {
      "needs_background": "light"
     },
     "output_type": "display_data"
    }
   ],
   "source": [
    "visualizacion_s = [-5, 5, -5, 5]\n",
    "visualizacion_t = [0, 10, -2, 4]\n",
    "\n",
    "pLA = Gp.pole()\n",
    "cLA = Gp.zero()\n",
    "_, yLA = control.step_response(Gp, ts)\n",
    "\n",
    "rlocus_int(2)"
   ]
  },
  {
   "cell_type": "code",
   "execution_count": 8,
   "id": "94ee907e",
   "metadata": {},
   "outputs": [
    {
     "data": {
      "application/vnd.jupyter.widget-view+json": {
       "model_id": "b1a8a662898a476187b23177ff856ac7",
       "version_major": 2,
       "version_minor": 0
      },
      "text/plain": [
       "interactive(children=(FloatSlider(value=2.5, description='kc', max=5.0), Output()), _dom_classes=('widget-inte…"
      ]
     },
     "metadata": {},
     "output_type": "display_data"
    },
    {
     "data": {
      "text/plain": [
       "<function __main__.rlocus_int(kc)>"
      ]
     },
     "execution_count": 8,
     "metadata": {},
     "output_type": "execute_result"
    }
   ],
   "source": [
    "visualizacion_s = [-5, 5, -5, 5]\n",
    "visualizacion_t = [0, 10, -2, 4]\n",
    "\n",
    "pLA = Gp.pole()\n",
    "cLA = Gp.zero()\n",
    "_, yLA = control.step_response(Gp, ts)\n",
    "\n",
    "interact(rlocus_int, \n",
    "         kc=(0., 5.))"
   ]
  },
  {
   "cell_type": "markdown",
   "id": "9a2d08e9",
   "metadata": {},
   "source": [
    "Observe:\n",
    "- Este sistema es inestable en lazo abierto.\n",
    "- Al cerrar el lazo, el sistema se estabiliza pero si la ganancia sobrepasa un valor, se vuelve inestable nuevamente.\n",
    "\n",
    "Retomando la expresión\n",
    "\n",
    "$$\\frac{C(s)}{R(s)} = \\frac{k_cN_p(s)}{D_p(s) + k_cN_p(s)}$$\n",
    "\n",
    "Se llama ecuación característica a $D_p(s) + k_cN_p(s) = 0$. Esta permite definir la ubicación de los polos de lazo cerrado. \n",
    "\n",
    "**Preguntas**\n",
    "\n",
    "- ¿Hacia dónde se mueven los polos de lazo cerrado cuando $k_c \\rightarrow \\infty$?\n",
    "- ¿Puede encontrar los rangos de $k_c$ que hacen estable al sistema?"
   ]
  },
  {
   "cell_type": "markdown",
   "id": "6b60fcc0",
   "metadata": {},
   "source": [
    "Repita los análisis realizados con:\n",
    "\n",
    "$$G_p(s) = \\frac{s+3}{\\left (s+2 \\right )\\left (s+1 \\right )} $$"
   ]
  },
  {
   "cell_type": "code",
   "execution_count": null,
   "id": "7c221697",
   "metadata": {},
   "outputs": [],
   "source": []
  }
 ],
 "metadata": {
  "kernelspec": {
   "display_name": "Python 3",
   "language": "python",
   "name": "python3"
  },
  "language_info": {
   "codemirror_mode": {
    "name": "ipython",
    "version": 3
   },
   "file_extension": ".py",
   "mimetype": "text/x-python",
   "name": "python",
   "nbconvert_exporter": "python",
   "pygments_lexer": "ipython3",
   "version": "3.7.3"
  },
  "latex_envs": {
   "bibliofile": "biblio.bib",
   "cite_by": "apalike",
   "current_citInitial": 1,
   "eqLabelWithNumbers": true,
   "eqNumInitial": 0
  }
 },
 "nbformat": 4,
 "nbformat_minor": 5
}
