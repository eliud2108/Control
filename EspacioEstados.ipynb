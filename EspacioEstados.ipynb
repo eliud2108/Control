{
 "cells": [
  {
   "cell_type": "code",
   "execution_count": 24,
   "id": "f7b4d416",
   "metadata": {},
   "outputs": [],
   "source": [
    "from sympy import MatrixSymbol, Matrix, Identity\n",
    "\n",
    "import sympy as sym\n",
    "\n",
    "sym.init_printing()\n",
    "%matplotlib inline\n",
    "\n",
    "import pandas as pd\n",
    "import numpy as np\n",
    "import matplotlib.pyplot as plt\n",
    "import control"
   ]
  },
  {
   "cell_type": "markdown",
   "id": "6ba19bd4",
   "metadata": {},
   "source": [
    "#  Espacio de estados\n",
    "\n",
    "Hasta el momento se han analizado sistemas lineales e invariantes en el tiempo, de una entrada y una salida en el dominio de la frecuencia. La representación en espacio de estados permite modelar y analizar sistemas con múltiples entradas y salidas, tanto para sistemas lineales como no lineales.\n",
    "\n",
    "Un modelo en espacio de estados de un sistema físico describe relaciones entre entradas, salidas y variables de estado relacionadas por ecuaciones diferenciales de orden $n$ en el dominio del tiempo. Estas ecuaciones se compactan en una ecuación diferencial matricial de primer orden. Las variables de entradas, salidas y estados son expresadas como vectores, y si es un sistema LTI, las ecuaciones se escriben matricialmente. \n",
    "\n"
   ]
  },
  {
   "cell_type": "markdown",
   "id": "0885cad6",
   "metadata": {},
   "source": [
    "La función de transferencia de un sistema cuya entrada es una señal $u$ y cuya salida es $y$ de un sistema corresponde a $\\frac{U(s)}{y(s)}$.\n",
    "\n",
    "Su representación en espacio de estados se muestra en el siguiente diagrama.\n",
    "\n",
    "![EspacioEstados](figuras/EspacioEstadosDiagrama.png)"
   ]
  },
  {
   "cell_type": "markdown",
   "id": "ff4d672c",
   "metadata": {},
   "source": [
    "- La entrada $u$ puede tener un efecto directo sobre la salida a través de $D$.\n",
    "- $X$ es un vector de señales internas del sistema.\n",
    "- $\\dot{X}$ es el vector de derivadas de $X$.\n",
    "- $u$ altera la derivada de $X$ a través de $B$.\n",
    "- $X$ realimenta a sus derivadas a través de $A$.\n",
    "- $X$ envía información desde el estado hacia la salida $y$ a través de $C$.\n",
    "\n",
    "$$\\dot{X} = A \\cdot X + B \\cdot u $$\n",
    "$$y =  C \\cdot X +  D \\cdot u $$"
   ]
  },
  {
   "cell_type": "markdown",
   "id": "42f90ddf",
   "metadata": {},
   "source": [
    "- **Estado**: Los valores que toma, en un instante determinado, un conjunto de variables a partir de cuál se define el comportamiento de un sistema.\n",
    "- **Variables de estado**: Las variables que determinan el estado de un sistema dinámico. Las variables de estado no necesitan ser físicamente medibles (observables) pero es recomendable que lo sean.\n",
    "- **Vector de estado**: El compuesto por todas las variables de estado.\n",
    "- **Espacio de estados**: Un espacio compuesto por las variables de estado.\n",
    "- **Ecuaciones de estado**: Las relaciones entre los estados y las entradas."
   ]
  },
  {
   "cell_type": "markdown",
   "id": "6b8cd1f8",
   "metadata": {},
   "source": [
    "**Ejemplo**\n",
    "\n",
    "Considere un sistema físico de entrada $u(t)$ y salida $y(t)$ que es modelado por la siguiente ecuación diferencial:\n",
    "\n",
    "$$m \\frac{d^2y}{dt^2} + b \\frac{dy}{dt} + k y(t) = u(t)$$\n"
   ]
  },
  {
   "cell_type": "markdown",
   "id": "36208194",
   "metadata": {},
   "source": [
    "$$s^2mY(s) + bsY(s) + kY(s) = U(s)$$\n",
    "\n",
    "$$(s^2m + bs + k )Y(s) = U(s)$$\n",
    "\n",
    "$$\\frac{Y(s)}{U(s)} = \\frac{1}{s^2m + bs + k}$$"
   ]
  },
  {
   "cell_type": "markdown",
   "id": "5dbdee78",
   "metadata": {},
   "source": [
    "Como el sistema es de orden 2, se define un vector de estados en 2 dimensiones.\n",
    "\n",
    "$$x = \\left [ \\matrix{x_1 \\\\ x_2} \\right ]  $$"
   ]
  },
  {
   "cell_type": "markdown",
   "id": "4a3da242",
   "metadata": {},
   "source": [
    "Se escogen las variables de estado:\n",
    "\n",
    "\\begin{align}\n",
    "x_1(t) &= y(t) \\\\\n",
    "x_2(t) &= \\frac{dy}{dt} = \\dot{y}(t)\n",
    "\\end{align}"
   ]
  },
  {
   "cell_type": "markdown",
   "id": "60a1361b",
   "metadata": {},
   "source": [
    "De donde se desprende que:\n",
    "\\begin{align}\n",
    "\\dot{x}_1(t) &= \\frac{dy}{dt} = x_2(t) \\\\\n",
    "\\dot{x}_2(t) &= \\frac{d^2y}{dt^2} \\\\ \n",
    "&=  \\frac{1}{m}\\left ( -b\\frac{dy}{dt} - ky(t) + u(t)\\right ) \\\\\n",
    "&=  \\frac{1}{m}\\left ( -b x_2(t) - k x_1(t) + u(t)\\right ) \\\\\n",
    "&=  - \\frac{k}{m} x_1(t) - \\frac{b}{m} x_2(t) + \\frac{1}{m}u(t)\n",
    "\\end{align}\n"
   ]
  },
  {
   "cell_type": "markdown",
   "id": "526f0b28",
   "metadata": {},
   "source": [
    "Además, la ecuación de salida es:\n",
    "\n",
    "$$y(t) = x_1(t)$$"
   ]
  },
  {
   "cell_type": "markdown",
   "id": "4d0a6425",
   "metadata": {},
   "source": [
    "Estas ecuaciones se pueden representar vectorialmente como:\n",
    "\n",
    "\\begin{align}\n",
    "\\dot{x}_1(t) &= \\left [ \\matrix{0 & 1} \\right ] \\cdot \\left [ \\matrix{x_1 \\\\ x_2} \\right ]  \\\\\n",
    "\\dot{x}_2(t) &=  \\left [ \\matrix{-\\frac{k}{m} & -\\frac{b}{m}} \\right ] \\cdot \\left [ \\matrix{x_1 \\\\ x_2} \\right ]  + \\frac{1}{m}u\\\\\n",
    "y(t) &= x_1(t)\n",
    "\\end{align}\n",
    "\n",
    "O matricialmente como:\n",
    "\n",
    "$$ \\left [ \\matrix{\\dot{x}_1 \\\\ \\dot{x}_2} \\right ] = \\left [ \\matrix{ 0 & 1 \\\\ -\\frac{k}{m} & -\\frac{b}{m} } \\right ]  \\left [ \\matrix{x_1 \\\\ x_2} \\right ] + \\left [ \\matrix{0 \\\\ \\frac{1}{m} } \\right ]u$$ \n",
    "\n",
    "$$y = \\left [ \\matrix{1 & 0} \\right ] \\left [ \\matrix{x_1 \\\\ x_2} \\right ]$$"
   ]
  },
  {
   "cell_type": "markdown",
   "id": "46521d48",
   "metadata": {},
   "source": [
    "Dada la forma estándar de los modelos en espacio de estados,\n",
    "\n",
    "$$\\dot{X} = A \\cdot X + B \\cdot u $$\n",
    "$$y =  C \\cdot X +  D \\cdot u $$\n",
    "\n",
    "Se tiene que:\n",
    "\n",
    "$$A = \\left [ \\matrix{ 0 & 1 \\\\ -\\frac{k}{m} & -\\frac{b}{m} } \\right ], \\; \n",
    "B = \\left [ \\matrix{0 \\\\ \\frac{1}{m} } \\right ], \\;\n",
    "C = \\left [ \\matrix{1 & 0} \\right ], \\;\n",
    "D = 0$$"
   ]
  },
  {
   "cell_type": "markdown",
   "id": "de80a650",
   "metadata": {},
   "source": [
    "## El modelo analizado como función de transferencia\n",
    "\n",
    "Teniendo en cuenta condiciones iniciales iguales a cero, se aplica la transformada de Laplace.\n",
    "\n",
    "$$sX(s) = A \\cdot X(s) + B \\cdot U(s) $$\n",
    "$$Y(S) =  C \\cdot X(s) +  D \\cdot U(s) $$\n",
    "\n",
    "\n"
   ]
  },
  {
   "cell_type": "markdown",
   "id": "6a2e6902",
   "metadata": {},
   "source": [
    "Operando la ecuación de estados:\n",
    "\n",
    "$$sX(s) - A \\cdot X(s) = B \\cdot U(s) $$\n",
    "\n",
    "o\n",
    "\n",
    "$$\\left ( sI - A \\right ) X(s) = B \\cdot U(s) $$\n",
    "\n",
    "$$ X(s) = \\left ( sI - A \\right )^{-1} B \\cdot U(s) $$\n"
   ]
  },
  {
   "cell_type": "markdown",
   "id": "ea5a0b38",
   "metadata": {},
   "source": [
    "Incorporando la ecuación de estados en la de salida,\n",
    "\n",
    "$$Y(S) =  C \\cdot \\left ( sI - A \\right )^{-1} B \\cdot U(s)  +  D \\cdot U(s)$$\n",
    "\n",
    "$$Y(S) =  \\left ( C \\cdot \\left ( sI - A \\right )^{-1} B  +  D \\right ) \\cdot U(s)$$"
   ]
  },
  {
   "cell_type": "markdown",
   "id": "bda16d95",
   "metadata": {},
   "source": [
    "La función de transferencia en términos de las matrices del modelo en espacio de estados es:\n",
    "\n",
    "$$\\frac{Y(S)}{U(s)} = G(s)=  C \\cdot \\left ( sI - A \\right )^{-1} B  +  D $$\n",
    "\n",
    "Cuando el sistema tiene múltiples entradas y múltiples salidas, se obtiene una matriz de transferencia."
   ]
  },
  {
   "cell_type": "code",
   "execution_count": 25,
   "id": "bc3b78de",
   "metadata": {},
   "outputs": [],
   "source": [
    "k,m,b,t = sym.symbols(['k','m','b','t'],real = True,positive = True)\n",
    "s = sym.symbols('s',complex = True)"
   ]
  },
  {
   "cell_type": "code",
   "execution_count": 26,
   "id": "a4392a67",
   "metadata": {},
   "outputs": [
    {
     "data": {
      "text/latex": [
       "$\\displaystyle \\left[\\begin{matrix}0 & 1\\\\- \\frac{k}{m} & - \\frac{b}{m}\\end{matrix}\\right]$"
      ],
      "text/plain": [
       "⎡ 0    1 ⎤\n",
       "⎢        ⎥\n",
       "⎢-k   -b ⎥\n",
       "⎢───  ───⎥\n",
       "⎣ m    m ⎦"
      ]
     },
     "execution_count": 26,
     "metadata": {},
     "output_type": "execute_result"
    }
   ],
   "source": [
    "A = Matrix([[0,1],[-k/m,-b/m]])\n",
    "A"
   ]
  },
  {
   "cell_type": "code",
   "execution_count": 27,
   "id": "0e98ae13",
   "metadata": {},
   "outputs": [
    {
     "data": {
      "text/latex": [
       "$\\displaystyle \\left[\\begin{matrix}0\\\\\\frac{1}{m}\\end{matrix}\\right]$"
      ],
      "text/plain": [
       "⎡0⎤\n",
       "⎢ ⎥\n",
       "⎢1⎥\n",
       "⎢─⎥\n",
       "⎣m⎦"
      ]
     },
     "execution_count": 27,
     "metadata": {},
     "output_type": "execute_result"
    }
   ],
   "source": [
    "B = Matrix([[0],[1/m]])\n",
    "B"
   ]
  },
  {
   "cell_type": "code",
   "execution_count": 28,
   "id": "28a99a16",
   "metadata": {},
   "outputs": [
    {
     "data": {
      "text/latex": [
       "$\\displaystyle \\left[\\begin{matrix}1 & 0\\end{matrix}\\right]$"
      ],
      "text/plain": [
       "[1  0]"
      ]
     },
     "execution_count": 28,
     "metadata": {},
     "output_type": "execute_result"
    }
   ],
   "source": [
    "C = Matrix([[1,0]])\n",
    "C"
   ]
  },
  {
   "cell_type": "code",
   "execution_count": 29,
   "id": "c7da8699",
   "metadata": {},
   "outputs": [
    {
     "data": {
      "text/latex": [
       "$\\displaystyle \\left[\\begin{matrix}0\\end{matrix}\\right]$"
      ],
      "text/plain": [
       "[0]"
      ]
     },
     "execution_count": 29,
     "metadata": {},
     "output_type": "execute_result"
    }
   ],
   "source": [
    "D = Matrix([[0]])\n",
    "D"
   ]
  },
  {
   "cell_type": "code",
   "execution_count": 30,
   "id": "b681947e",
   "metadata": {},
   "outputs": [
    {
     "data": {
      "text/latex": [
       "$\\displaystyle \\left[\\begin{matrix}1 & 0\\\\0 & 1\\end{matrix}\\right]$"
      ],
      "text/plain": [
       "⎡1  0⎤\n",
       "⎢    ⎥\n",
       "⎣0  1⎦"
      ]
     },
     "execution_count": 30,
     "metadata": {},
     "output_type": "execute_result"
    }
   ],
   "source": [
    "I =  Matrix([[1,0],[0,1]])\n",
    "I"
   ]
  },
  {
   "cell_type": "code",
   "execution_count": 31,
   "id": "df600bd3",
   "metadata": {},
   "outputs": [
    {
     "data": {
      "text/latex": [
       "$\\displaystyle \\left[\\begin{matrix}s & -1\\\\\\frac{k}{m} & \\frac{b}{m} + s\\end{matrix}\\right]$"
      ],
      "text/plain": [
       "⎡s   -1  ⎤\n",
       "⎢        ⎥\n",
       "⎢k  b    ⎥\n",
       "⎢─  ─ + s⎥\n",
       "⎣m  m    ⎦"
      ]
     },
     "execution_count": 31,
     "metadata": {},
     "output_type": "execute_result"
    }
   ],
   "source": [
    "s*I-A"
   ]
  },
  {
   "cell_type": "code",
   "execution_count": 32,
   "id": "250bebaa",
   "metadata": {},
   "outputs": [
    {
     "data": {
      "text/latex": [
       "$\\displaystyle \\left[\\begin{matrix}- \\frac{\\frac{b}{m} + s}{- \\frac{k}{m} - s \\left(\\frac{b}{m} + s\\right)} & - \\frac{1}{- \\frac{k}{m} - s \\left(\\frac{b}{m} + s\\right)}\\\\\\frac{k}{m \\left(- \\frac{k}{m} - s \\left(\\frac{b}{m} + s\\right)\\right)} & - \\frac{s}{- \\frac{k}{m} - s \\left(\\frac{b}{m} + s\\right)}\\end{matrix}\\right]$"
      ],
      "text/plain": [
       "⎡      ⎛b    ⎞                       ⎤\n",
       "⎢     -⎜─ + s⎟                       ⎥\n",
       "⎢      ⎝m    ⎠              -1       ⎥\n",
       "⎢  ───────────────    ───────────────⎥\n",
       "⎢    k     ⎛b    ⎞      k     ⎛b    ⎞⎥\n",
       "⎢  - ─ - s⋅⎜─ + s⎟    - ─ - s⋅⎜─ + s⎟⎥\n",
       "⎢    m     ⎝m    ⎠      m     ⎝m    ⎠⎥\n",
       "⎢                                    ⎥\n",
       "⎢         k                 -s       ⎥\n",
       "⎢───────────────────  ───────────────⎥\n",
       "⎢  ⎛  k     ⎛b    ⎞⎞    k     ⎛b    ⎞⎥\n",
       "⎢m⋅⎜- ─ - s⋅⎜─ + s⎟⎟  - ─ - s⋅⎜─ + s⎟⎥\n",
       "⎣  ⎝  m     ⎝m    ⎠⎠    m     ⎝m    ⎠⎦"
      ]
     },
     "execution_count": 32,
     "metadata": {},
     "output_type": "execute_result"
    }
   ],
   "source": [
    "INV=(s*I-A).inv()\n",
    "INV"
   ]
  },
  {
   "cell_type": "markdown",
   "id": "f0ab587a",
   "metadata": {},
   "source": [
    "Encuentre la función de transferencia $G(s)$\n",
    "\n",
    "$$\\frac{Y(S)}{U(s)} = G(s)=  C \\cdot \\left ( sI - A \\right )^{-1} B  +  D $$"
   ]
  },
  {
   "cell_type": "code",
   "execution_count": 36,
   "id": "9f114fd2",
   "metadata": {},
   "outputs": [
    {
     "data": {
      "text/latex": [
       "$\\displaystyle \\left[\\begin{matrix}- \\frac{\\frac{b}{m} + s}{- \\frac{k}{m} - s \\left(\\frac{b}{m} + s\\right)} & - \\frac{1}{- \\frac{k}{m} - s \\left(\\frac{b}{m} + s\\right)}\\end{matrix}\\right]$"
      ],
      "text/plain": [
       "⎡    ⎛b    ⎞                     ⎤\n",
       "⎢   -⎜─ + s⎟                     ⎥\n",
       "⎢    ⎝m    ⎠            -1       ⎥\n",
       "⎢───────────────  ───────────────⎥\n",
       "⎢  k     ⎛b    ⎞    k     ⎛b    ⎞⎥\n",
       "⎢- ─ - s⋅⎜─ + s⎟  - ─ - s⋅⎜─ + s⎟⎥\n",
       "⎣  m     ⎝m    ⎠    m     ⎝m    ⎠⎦"
      ]
     },
     "execution_count": 36,
     "metadata": {},
     "output_type": "execute_result"
    }
   ],
   "source": [
    "C*INV"
   ]
  },
  {
   "cell_type": "code",
   "execution_count": 38,
   "id": "5f0fb2d7",
   "metadata": {},
   "outputs": [
    {
     "data": {
      "text/latex": [
       "$\\displaystyle \\left[\\begin{matrix}- \\frac{1}{m \\left(- \\frac{k}{m} - s \\left(\\frac{b}{m} + s\\right)\\right)}\\end{matrix}\\right]$"
      ],
      "text/plain": [
       "⎡        -1         ⎤\n",
       "⎢───────────────────⎥\n",
       "⎢  ⎛  k     ⎛b    ⎞⎞⎥\n",
       "⎢m⋅⎜- ─ - s⋅⎜─ + s⎟⎟⎥\n",
       "⎣  ⎝  m     ⎝m    ⎠⎠⎦"
      ]
     },
     "execution_count": 38,
     "metadata": {},
     "output_type": "execute_result"
    }
   ],
   "source": [
    "C*INV*B"
   ]
  },
  {
   "cell_type": "code",
   "execution_count": 41,
   "id": "75fb90c0",
   "metadata": {},
   "outputs": [
    {
     "data": {
      "image/png": "[encoded data removed]",
      "text/latex": [
       "$\\displaystyle \\frac{1}{k + s \\left(b + m s\\right)}$"
      ],
      "text/plain": [
       "       1       \n",
       "───────────────\n",
       "k + s⋅(b + m⋅s)"
      ]
     },
     "execution_count": 41,
     "metadata": {},
     "output_type": "execute_result"
    }
   ],
   "source": [
    "GS = C*INV*B+D\n",
    "GS[0].simplify()"
   ]
  },
  {
   "cell_type": "markdown",
   "id": "8aeb296c",
   "metadata": {},
   "source": [
    "$$\\frac{Y(s)}{U(s)} = \\frac{1}{s^2m + bs + k}$$"
   ]
  },
  {
   "cell_type": "markdown",
   "id": "f5478f29",
   "metadata": {},
   "source": [
    "## Representación de un modelo dinámico\n",
    "\n",
    "Con la notación matricial analizada puede llevarse una ecuación diferencial de orden $n$ mediante una ecuación matricial de orden 1."
   ]
  },
  {
   "cell_type": "markdown",
   "id": "d2c20503",
   "metadata": {},
   "source": [
    "\n",
    "Considere un sistema de entrada $u(t)$ y salida $y(t)$ que se modela según la siguiente ecuación diferencial.\n",
    "\n",
    "\n",
    "$$a_0y(t)+a_1\\frac{dy}{dt}+a_2\\frac{d^2y}{dt^2}+\\cdots+a_n\\frac{d^ny}{dt^n} = u(t)$$\n",
    "\n",
    "$$a_0y(t) = -a_1\\frac{dy}{dt}-a_2\\frac{d^2y}{dt^2}-\\cdots-a_{n-1}\\frac{d^{n-1}y}{dt^{n-1}}-a_n\\frac{d^ny}{dt^n} + u(t)$$\n",
    "\n",
    "$$a_n\\frac{d^ny}{dt^n} = -a_0y(t) -a_1\\frac{dy}{dt} -a_2\\frac{d^2y}{dt^2}-\\cdots-a_{n-1}\\frac{d^{n-1}y}{dt^{n-1}} +u(t)$$\n"
   ]
  },
  {
   "cell_type": "markdown",
   "id": "7f0ac080",
   "metadata": {},
   "source": [
    "Se definen las variables de estado:\n",
    "\n",
    "\\begin{align}\n",
    "x_1 &= y \\\\\n",
    "x_2 &= \\frac{dy}{dt} \\\\\n",
    "x_3 &= \\frac{d^2y}{dt^2} \\\\\n",
    "\\cdots &= \\cdots \\\\\n",
    "x_n &= \\frac{d^{n-1}y}{dt^{n-1}} \\\\\n",
    "\\end{align}"
   ]
  },
  {
   "cell_type": "markdown",
   "id": "2e18e674",
   "metadata": {},
   "source": [
    "La ecuación diferencial puede reescribirse como:\n",
    "\n",
    "\\begin{align}\n",
    "\\dot{x}_1 &= \\frac{dy}{dt} = x_2 \\\\\n",
    "\\dot{x}_2 &= \\frac{d^2y}{dt^2} = x_3 \\\\\n",
    "\\dot{x}_3 &= \\frac{d^3y}{dt^3} = x_4 \\\\\n",
    "&\\vdots\\\\\n",
    "\\dot{x}_{n-1} &= \\frac{d^{n-1}y}{dt^{n-1}} =  x_{n}  \\\\\n",
    "\\dot{x}_n &= -\\frac{a_0}{a_n}x_1 -\\frac{a_1}{a_n}x_2 -\\frac{a_2}{a_n}x_3 -\\dots -\\frac{a_{n-2}}{a_{n}}x_{n-1}  -\\frac{a_{n-1}}{a_{n}}x_{n}  + \\frac{1}{a_{n}}u\n",
    "\\end{align}"
   ]
  },
  {
   "cell_type": "markdown",
   "id": "978b30cc",
   "metadata": {},
   "source": [
    "Matricialmente se representa la ecuación de estados:\n",
    "\n",
    "$$ \\left[\\matrix{ \n",
    "\\dot{x}_1 \\\\ \\dot{x}_2 \\\\ \\dot{x}_3 \\\\ \\vdots \\\\ \\dot{x}_{n-1} \\\\ \\dot{x}_n } \n",
    "\\right ] = \n",
    "\\left [ \\matrix{ \n",
    "0 & 1 & 0 & 0 & \\dots & 0 & 0 \\\\ \n",
    "0 & 0 & 1 & 0 & \\dots & 0 & 0 \\\\\n",
    "0 & 0 & 0 & 1 & \\dots & 0 & 0 \\\\\n",
    "\\vdots & \\vdots & \\vdots & \\vdots & \\ddots & \\vdots & \\vdots \\\\\n",
    "0 & 0 & 0 & 0 & \\dots & 0 & 1 \\\\\n",
    "-\\frac{a_{0}}{a_{n}} & -\\frac{a_{1}}{a_{n}} & -\\frac{a_{2}}{a_{n}} & -\\frac{a_{3}}{a_{n}} & \\dots & -\\frac{a_{n-2}}{a_{n}} & -\\frac{a_{n-1}}{a_{n}} \\\\\n",
    "} \\right ]  \n",
    "\\left [ \\matrix{x_1 \\\\ x_2 \\\\ x_3 \\\\ \\vdots \\\\ x_{n-1} \\\\x_n} \n",
    "\\right ]\n",
    "+\n",
    "\\left [ \\matrix{0 \\\\ 0 \\\\ 0 \\\\ \\vdots \\\\ 0 \\\\ \\frac{1}{a_{n}} } \\right ]u$$ \n",
    "\n",
    "Y la ecuación de salida:\n",
    "\n",
    "$$y = \\left [ \\matrix{1 & 0 & 0 \\dots & 0 & 0} \\right ] \n",
    "\\left [ \\matrix{x_1 \\\\ x_2 \\\\ x_3 \\\\ \\vdots \\\\ x_{n-1} \\\\x_n} \n",
    "\\right ]$$"
   ]
  },
  {
   "cell_type": "markdown",
   "id": "c2892230",
   "metadata": {},
   "source": [
    "El modelo en espacio de estados es:\n",
    "\n",
    "$$\\dot{X} = A \\cdot X + B \\cdot u $$\n",
    "$$y =  C \\cdot X +  D \\cdot u $$\n",
    "\n",
    "donde\n",
    "\n",
    "$$A = \\left [ \\matrix{ \n",
    "0 & 1 & 0 & 0 & \\dots & 0 & 0 \\\\ \n",
    "0 & 0 & 1 & 0 & \\dots & 0 & 0 \\\\\n",
    "0 & 0 & 0 & 1 & \\dots & 0 & 0 \\\\\n",
    "\\vdots & \\vdots & \\vdots & \\vdots & \\ddots & \\vdots & \\vdots \\\\\n",
    "0 & 0 & 0 & 0 & \\dots & 0 & 1 \\\\\n",
    "-\\frac{a_{0}}{a_{n}} & -\\frac{a_{1}}{a_{n}} & -\\frac{a_{2}}{a_{n}} & -\\frac{a_{3}}{a_{n}} & \\dots & -\\frac{a_{n-2}}{a_{n}} & -\\frac{a_{n-1}}{a_{n}} \\\\\n",
    "} \\right ]  $$\n",
    "\n",
    "$$ B = \\left [ \\matrix{0 \\\\ 0 \\\\ 0 \\\\ \\vdots \\\\ 0 \\\\ \\frac{1}{a_{n}} } \\right ] $$\n",
    "\n",
    "$$ C = \\left [ \\matrix{1 & 0 & 0 \\dots & 0 & 0} \\right ] $$"
   ]
  },
  {
   "cell_type": "code",
   "execution_count": null,
   "id": "c1c812aa",
   "metadata": {},
   "outputs": [],
   "source": []
  },
  {
   "cell_type": "markdown",
   "id": "a88d5e55",
   "metadata": {},
   "source": [
    "## Valores propios de la matriz A\n",
    "\n",
    "La función de transferencia en términos de las matrices del modelo en espacio de estados es:\n",
    "\n",
    "$$\\frac{Y(S)}{U(s)} = G(s)=  C \\cdot \\left ( sI - A \\right )^{-1} B  +  D $$\n",
    "\n",
    "Observe el papel que tiene el término $sI - A$. El operador de inversión aporta el polinomio denominador, es decir, define los polos del sistema. Así, los valores propios de la matriz $A$ son las raíces de la ecuación característica del sistema."
   ]
  },
  {
   "cell_type": "markdown",
   "id": "354bcfc2",
   "metadata": {},
   "source": [
    "Considere un sistema cuya matriz de transición A es:\n",
    "\n",
    "$$A = \\left [ \\matrix{0&1&0\\\\0&0&1\\\\-6&-11&-6} \\right ]$$"
   ]
  },
  {
   "cell_type": "code",
   "execution_count": 10,
   "id": "a8e0f714",
   "metadata": {},
   "outputs": [
    {
     "data": {
      "text/latex": [
       "$\\displaystyle \\left[\\begin{matrix}0 & 1 & 0\\\\0 & 0 & 1\\\\-6 & -11 & -6\\end{matrix}\\right]$"
      ],
      "text/plain": [
       "⎡0    1   0 ⎤\n",
       "⎢           ⎥\n",
       "⎢0    0   1 ⎥\n",
       "⎢           ⎥\n",
       "⎣-6  -11  -6⎦"
      ]
     },
     "execution_count": 10,
     "metadata": {},
     "output_type": "execute_result"
    }
   ],
   "source": [
    "A = Matrix([[0,1,0],[0,0,1],[-6,-11,-6]])\n",
    "A"
   ]
  },
  {
   "cell_type": "code",
   "execution_count": 11,
   "id": "65be5461",
   "metadata": {},
   "outputs": [
    {
     "data": {
      "image/png": "[encoded data removed]",
      "text/latex": [
       "$\\displaystyle \\left\\{ -3 : 1, \\  -2 : 1, \\  -1 : 1\\right\\}$"
      ],
      "text/plain": [
       "{-3: 1, -2: 1, -1: 1}"
      ]
     },
     "execution_count": 11,
     "metadata": {},
     "output_type": "execute_result"
    }
   ],
   "source": [
    "A.eigenvals()"
   ]
  },
  {
   "cell_type": "markdown",
   "id": "e1dafe8d",
   "metadata": {},
   "source": [
    "## Transformaciones de matrices\n",
    "\n",
    "Dada una matriz de transición de estados $A$, puede transformarse para que tenga otras propiedades mediante una matriz de transformación $P$:\n",
    "\n",
    "$$P^{-1}AP$$\n",
    "\n"
   ]
  },
  {
   "cell_type": "markdown",
   "id": "68a7bed6",
   "metadata": {},
   "source": [
    "### Diagonalización de A\n",
    "\n",
    "Considere que $A$ es una matriz de transición de $n \\times n$ con valores propios distintos como la que se muestra a continuación:\n",
    "\n",
    "$$A = \\left [ \\matrix{ \n",
    "0 & 1 & 0 & 0 & \\dots & 0 & 0 \\\\ \n",
    "0 & 0 & 1 & 0 & \\dots & 0 & 0 \\\\\n",
    "0 & 0 & 0 & 1 & \\dots & 0 & 0 \\\\\n",
    "\\vdots & \\vdots & \\vdots & \\vdots & \\ddots & \\vdots & \\vdots \\\\\n",
    "0 & 0 & 0 & 0 & \\dots & 0 & 1 \\\\\n",
    "-{a_{n}} & -{a_{n-1}} & -{a_{n-2}} & -{a_{n-3}} & \\dots & -{a_{2}} & -{a_{1}} \\\\\n",
    "} \\right ]  $$\n",
    "\n",
    "Cuyos $n$ valores propios distintos son:\n",
    "\n",
    "$$\\lambda_1,\\lambda_2,\\dots,\\lambda_n,$$ \n",
    "\n"
   ]
  },
  {
   "cell_type": "markdown",
   "id": "01d4603f",
   "metadata": {},
   "source": [
    "Considere la matriz de transformación\n",
    "\n",
    "\n",
    "$$P = \\left [ \\matrix{ \n",
    "1 & 1 & 1 & 1 & \\dots & 1 & 1 \\\\ \n",
    "\\lambda_1 & \\lambda_2 & \\lambda_3 & \\lambda_4 & \\dots & \\lambda_{n-1} & \\lambda_n \\\\\n",
    "\\lambda_1^2 & \\lambda_2^2 & \\lambda_3^2 & \\lambda_4^2 & \\dots & \\lambda_{n-1}^2 & \\lambda_n^2 \\\\\n",
    "\\vdots & \\vdots & \\vdots & \\vdots & \\ddots & \\vdots & \\vdots \\\\\n",
    "\\lambda_1^{n-2} & \\lambda_2^{n-2} & \\lambda_3^{n-2} & \\lambda_4^{n-2} & \\dots & \\lambda_{n-1}^{n-2} & \\lambda_n^{n-2} \\\\\n",
    "\\lambda_1^{n-1} & \\lambda_2^{n-1} & \\lambda_3^{n-1} & \\lambda_4^{n-1} & \\dots & \\lambda_{n-1}^{n-1} & \\lambda_n^{n-1} \\\\\n",
    "} \\right ]  $$\n",
    "\n",
    "La matríz de transformación $P^{-1}AP$ es la matriz diagonal\n",
    "\n",
    "$$P^{-1}AP= \\left [ \\matrix{ \n",
    "\\lambda_1 & 0 & 0 & 0 & \\dots & 0 & 0 \\\\ \n",
    "0 & \\lambda_2 & 0 & 0 & \\dots & 0 & 0 \\\\\n",
    "0 & 0 & \\lambda_3 & 0 & \\dots & 0 & 0 \\\\\n",
    "\\vdots & \\vdots & \\vdots & \\vdots & \\ddots & \\vdots & \\vdots \\\\\n",
    "0 & 0 & 0 & 0 & \\dots & \\lambda_{n-1} & 0 \\\\\n",
    "0 & 0 & 0 & 0 & \\dots & 0 & \\lambda_{n} \\\\\n",
    "} \\right ]  $$"
   ]
  },
  {
   "cell_type": "markdown",
   "id": "0ead6ad6",
   "metadata": {},
   "source": [
    "**Ejemplo**\n",
    "\n",
    "Considere el sistema descrito por:\n",
    "\n",
    "\n",
    "$$\\dot{X} = A \\cdot X + B \\cdot u $$\n",
    "$$y =  C \\cdot X +  D \\cdot u $$\n",
    "\n",
    "con\n",
    "\n",
    "$$A = \\left [ \\matrix{0&1&0\\\\0&0&1\\\\-6&-11&-6} \\right ]$$\n",
    "$$B = \\left [ \\matrix{0\\\\0\\\\6} \\right ]$$\n",
    "$$C = \\left [ \\matrix{1&0&0} \\right ]$$\n",
    "$$D = 0$$"
   ]
  },
  {
   "cell_type": "code",
   "execution_count": 12,
   "id": "d19d1de0",
   "metadata": {},
   "outputs": [],
   "source": [
    "A = Matrix([[0,1,0],[0,0,1],[-6,-11,-6]])\n",
    "B = Matrix([[0],[0],[6]])\n",
    "C = Matrix([[1,0,0]])\n",
    "D = Matrix([[0]])"
   ]
  },
  {
   "cell_type": "markdown",
   "id": "3d3f0236",
   "metadata": {},
   "source": [
    "Los valores propios de $A$ son:"
   ]
  },
  {
   "cell_type": "code",
   "execution_count": 13,
   "id": "fe8d876c",
   "metadata": {},
   "outputs": [
    {
     "data": {
      "image/png": "[encoded data removed]",
      "text/latex": [
       "$\\displaystyle \\left\\{ -3 : 1, \\  -2 : 1, \\  -1 : 1\\right\\}$"
      ],
      "text/plain": [
       "{-3: 1, -2: 1, -1: 1}"
      ]
     },
     "execution_count": 13,
     "metadata": {},
     "output_type": "execute_result"
    }
   ],
   "source": [
    "A.eigenvals()"
   ]
  },
  {
   "cell_type": "markdown",
   "id": "b3f184d5",
   "metadata": {},
   "source": [
    "Se define la matriz de transformación \n"
   ]
  },
  {
   "cell_type": "code",
   "execution_count": 14,
   "id": "1afaf11d",
   "metadata": {},
   "outputs": [
    {
     "data": {
      "text/latex": [
       "$\\displaystyle \\left[\\begin{matrix}1 & 1 & 1\\\\-3 & -2 & -1\\\\9 & 4 & 1\\end{matrix}\\right]$"
      ],
      "text/plain": [
       "⎡1   1   1 ⎤\n",
       "⎢          ⎥\n",
       "⎢-3  -2  -1⎥\n",
       "⎢          ⎥\n",
       "⎣9   4   1 ⎦"
      ]
     },
     "execution_count": 14,
     "metadata": {},
     "output_type": "execute_result"
    }
   ],
   "source": [
    "P = Matrix([[1,1,1],[-3,-2,-1],[9,4,1]])\n",
    "P"
   ]
  },
  {
   "cell_type": "markdown",
   "id": "e4d2bf10",
   "metadata": {},
   "source": [
    "A partir de la matriz de transformación se define un nuevo conjunto de variables de estado\n",
    "\n",
    "$$x=P \\cdot z$$\n"
   ]
  },
  {
   "cell_type": "markdown",
   "id": "985132dc",
   "metadata": {},
   "source": [
    "Al introducir la transformación a la ecuación del sistema se obtiene:\n",
    "\n",
    "\n",
    "$$P \\cdot \\dot{z} = A \\cdot P \\cdot z + B \\cdot u $$\n",
    "$$y =  C \\cdot P \\cdot z +  D \\cdot u $$\n",
    "\n"
   ]
  },
  {
   "cell_type": "markdown",
   "id": "8a035416",
   "metadata": {},
   "source": [
    "Como la ecuación de transición de estados debe definir las derivadas de las variables de estado, se cambia a:\n",
    "\n",
    "$$\\dot{z} = \\overbrace{P^{-1} \\cdot A \\cdot P}^{A_1} \\cdot z + \\overbrace{P^{-1} \\cdot B}^{B_1} \\cdot u $$\n",
    "$$y =  \\underbrace{C \\cdot P}_{C_1} \\cdot z +  D \\cdot u $$"
   ]
  },
  {
   "cell_type": "code",
   "execution_count": 15,
   "id": "8652e1be",
   "metadata": {},
   "outputs": [
    {
     "data": {
      "text/latex": [
       "$\\displaystyle \\left[\\begin{matrix}-3 & 0 & 0\\\\0 & -2 & 0\\\\0 & 0 & -1\\end{matrix}\\right]$"
      ],
      "text/plain": [
       "⎡-3  0   0 ⎤\n",
       "⎢          ⎥\n",
       "⎢0   -2  0 ⎥\n",
       "⎢          ⎥\n",
       "⎣0   0   -1⎦"
      ]
     },
     "execution_count": 15,
     "metadata": {},
     "output_type": "execute_result"
    }
   ],
   "source": [
    "A1 = P.inv()*A*P\n",
    "A1"
   ]
  },
  {
   "cell_type": "code",
   "execution_count": 16,
   "id": "f1e04429",
   "metadata": {},
   "outputs": [
    {
     "data": {
      "text/latex": [
       "$\\displaystyle \\left[\\begin{matrix}3\\\\-6\\\\3\\end{matrix}\\right]$"
      ],
      "text/plain": [
       "⎡3 ⎤\n",
       "⎢  ⎥\n",
       "⎢-6⎥\n",
       "⎢  ⎥\n",
       "⎣3 ⎦"
      ]
     },
     "execution_count": 16,
     "metadata": {},
     "output_type": "execute_result"
    }
   ],
   "source": [
    "B1 = P.inv()*B\n",
    "B1"
   ]
  },
  {
   "cell_type": "code",
   "execution_count": 17,
   "id": "34254679",
   "metadata": {},
   "outputs": [
    {
     "data": {
      "text/latex": [
       "$\\displaystyle \\left[\\begin{matrix}1 & 1 & 1\\end{matrix}\\right]$"
      ],
      "text/plain": [
       "[1  1  1]"
      ]
     },
     "execution_count": 17,
     "metadata": {},
     "output_type": "execute_result"
    }
   ],
   "source": [
    "C1 = C*P\n",
    "C1"
   ]
  },
  {
   "cell_type": "markdown",
   "id": "555ba21b",
   "metadata": {},
   "source": [
    "Así, el modelo original\n",
    "\n",
    "$$\\dot{X} = A \\cdot X + B \\cdot u $$\n",
    "$$y =  C \\cdot X +  D \\cdot u $$\n",
    "\n",
    "con\n",
    "\n",
    "$$A = \\left [ \\matrix{0&1&0\\\\0&0&1\\\\-6&-11&-6} \\right ]$$\n",
    "$$B = \\left [ \\matrix{0\\\\0\\\\6} \\right ]$$\n",
    "$$C = \\left [ \\matrix{1&0&0} \\right ]$$\n",
    "$$D = 0$$\n",
    "\n",
    "También puede representarse como:\n",
    "\n",
    "\n",
    "\n",
    "$$\\dot{Z} = A_1 \\cdot Z + B_1 \\cdot u $$\n",
    "$$y =  C_1 \\cdot Z +  D_1 \\cdot u $$\n",
    "\n",
    "con\n",
    "\n",
    "$$A_1 = \\left [ \\matrix{-3&0&0\\\\0&-2&0\\\\0&0&-1} \\right ]$$\n",
    "$$B_1 = \\left [ \\matrix{3\\\\-6\\\\3} \\right ]$$\n",
    "$$C_1 = \\left [ \\matrix{1&1&1} \\right ]$$\n",
    "$$D_1 = 0$$"
   ]
  },
  {
   "cell_type": "markdown",
   "id": "4ec516da",
   "metadata": {},
   "source": [
    "Compare la función de transferencia que se obtiene con cada modelo en espacio de estados\n",
    "\n",
    "$$ C \\cdot \\left ( sI - A \\right )^{-1} B  +  D$$\n"
   ]
  },
  {
   "cell_type": "code",
   "execution_count": 18,
   "id": "0ea3c941",
   "metadata": {},
   "outputs": [
    {
     "data": {
      "image/png": "[encoded data removed]",
      "text/latex": [
       "$\\displaystyle \\frac{6}{s^{3} + 6 s^{2} + 11 s + 6}$"
      ],
      "text/plain": [
       "         6          \n",
       "────────────────────\n",
       " 3      2           \n",
       "s  + 6⋅s  + 11⋅s + 6"
      ]
     },
     "execution_count": 18,
     "metadata": {},
     "output_type": "execute_result"
    }
   ],
   "source": [
    "I = Matrix([[1,0,0],[0,1,0],[0,0,1]])\n",
    "(C*(s*I-A).inv()*B + D)[0].simplify()"
   ]
  },
  {
   "cell_type": "code",
   "execution_count": 19,
   "id": "e4382ee7",
   "metadata": {},
   "outputs": [
    {
     "data": {
      "image/png": "[encoded data removed]",
      "text/latex": [
       "$\\displaystyle \\frac{6}{s^{3} + 6 s^{2} + 11 s + 6}$"
      ],
      "text/plain": [
       "         6          \n",
       "────────────────────\n",
       " 3      2           \n",
       "s  + 6⋅s  + 11⋅s + 6"
      ]
     },
     "execution_count": 19,
     "metadata": {},
     "output_type": "execute_result"
    }
   ],
   "source": [
    "(C1*(s*I-A1).inv()*B1 + D)[0].simplify()"
   ]
  },
  {
   "cell_type": "code",
   "execution_count": 20,
   "id": "56866061",
   "metadata": {},
   "outputs": [
    {
     "data": {
      "text/latex": [
       "\\[\n",
       "\\left(\n",
       "\\begin{array}{rllrllrll|rll}\n",
       "0\\phantom{.}&\\hspace{-1em}&\\hspace{-1em}\\phantom{\\cdot}&1\\phantom{.}&\\hspace{-1em}&\\hspace{-1em}\\phantom{\\cdot}&0\\phantom{.}&\\hspace{-1em}&\\hspace{-1em}\\phantom{\\cdot}&0\\phantom{.}&\\hspace{-1em}&\\hspace{-1em}\\phantom{\\cdot}\\\\\n",
       "0\\phantom{.}&\\hspace{-1em}&\\hspace{-1em}\\phantom{\\cdot}&0\\phantom{.}&\\hspace{-1em}&\\hspace{-1em}\\phantom{\\cdot}&1\\phantom{.}&\\hspace{-1em}&\\hspace{-1em}\\phantom{\\cdot}&0\\phantom{.}&\\hspace{-1em}&\\hspace{-1em}\\phantom{\\cdot}\\\\\n",
       "-6\\phantom{.}&\\hspace{-1em}&\\hspace{-1em}\\phantom{\\cdot}&-11\\phantom{.}&\\hspace{-1em}&\\hspace{-1em}\\phantom{\\cdot}&-6\\phantom{.}&\\hspace{-1em}&\\hspace{-1em}\\phantom{\\cdot}&6\\phantom{.}&\\hspace{-1em}&\\hspace{-1em}\\phantom{\\cdot}\\\\\n",
       "\\hline\n",
       "1\\phantom{.}&\\hspace{-1em}&\\hspace{-1em}\\phantom{\\cdot}&0\\phantom{.}&\\hspace{-1em}&\\hspace{-1em}\\phantom{\\cdot}&0\\phantom{.}&\\hspace{-1em}&\\hspace{-1em}\\phantom{\\cdot}&0\\phantom{.}&\\hspace{-1em}&\\hspace{-1em}\\phantom{\\cdot}\\\\\n",
       "\\end{array}\\right)\n",
       "\\]"
      ],
      "text/plain": [
       "StateSpace(array([[  0.,   1.,   0.],\n",
       "       [  0.,   0.,   1.],\n",
       "       [ -6., -11.,  -6.]]), array([[0.],\n",
       "       [0.],\n",
       "       [6.]]), array([[1., 0., 0.]]), array([[0.]]))"
      ]
     },
     "execution_count": 20,
     "metadata": {},
     "output_type": "execute_result"
    }
   ],
   "source": [
    "Gss = control.ss(A,B,C,D)\n",
    "Gss"
   ]
  },
  {
   "cell_type": "code",
   "execution_count": 21,
   "id": "c5e65698",
   "metadata": {},
   "outputs": [
    {
     "data": {
      "text/latex": [
       "\\[\n",
       "\\left(\n",
       "\\begin{array}{rllrllrll|rll}\n",
       "-3\\phantom{.}&\\hspace{-1em}&\\hspace{-1em}\\phantom{\\cdot}&0\\phantom{.}&\\hspace{-1em}&\\hspace{-1em}\\phantom{\\cdot}&0\\phantom{.}&\\hspace{-1em}&\\hspace{-1em}\\phantom{\\cdot}&3\\phantom{.}&\\hspace{-1em}&\\hspace{-1em}\\phantom{\\cdot}\\\\\n",
       "0\\phantom{.}&\\hspace{-1em}&\\hspace{-1em}\\phantom{\\cdot}&-2\\phantom{.}&\\hspace{-1em}&\\hspace{-1em}\\phantom{\\cdot}&0\\phantom{.}&\\hspace{-1em}&\\hspace{-1em}\\phantom{\\cdot}&-6\\phantom{.}&\\hspace{-1em}&\\hspace{-1em}\\phantom{\\cdot}\\\\\n",
       "0\\phantom{.}&\\hspace{-1em}&\\hspace{-1em}\\phantom{\\cdot}&0\\phantom{.}&\\hspace{-1em}&\\hspace{-1em}\\phantom{\\cdot}&-1\\phantom{.}&\\hspace{-1em}&\\hspace{-1em}\\phantom{\\cdot}&3\\phantom{.}&\\hspace{-1em}&\\hspace{-1em}\\phantom{\\cdot}\\\\\n",
       "\\hline\n",
       "1\\phantom{.}&\\hspace{-1em}&\\hspace{-1em}\\phantom{\\cdot}&1\\phantom{.}&\\hspace{-1em}&\\hspace{-1em}\\phantom{\\cdot}&1\\phantom{.}&\\hspace{-1em}&\\hspace{-1em}\\phantom{\\cdot}&0\\phantom{.}&\\hspace{-1em}&\\hspace{-1em}\\phantom{\\cdot}\\\\\n",
       "\\end{array}\\right)\n",
       "\\]"
      ],
      "text/plain": [
       "StateSpace(array([[-3.,  0.,  0.],\n",
       "       [ 0., -2.,  0.],\n",
       "       [ 0.,  0., -1.]]), array([[ 3.],\n",
       "       [-6.],\n",
       "       [ 3.]]), array([[1., 1., 1.]]), array([[0.]]))"
      ]
     },
     "execution_count": 21,
     "metadata": {},
     "output_type": "execute_result"
    }
   ],
   "source": [
    "Gss1 = control.ss(A1,B1,C1,D)\n",
    "Gss1"
   ]
  },
  {
   "cell_type": "code",
   "execution_count": 22,
   "id": "78513926",
   "metadata": {},
   "outputs": [
    {
     "data": {
      "text/plain": [
       "[<matplotlib.lines.Line2D at 0x1a7795615c0>]"
      ]
     },
     "execution_count": 22,
     "metadata": {},
     "output_type": "execute_result"
    },
    {
     "data": {
      "image/png": "[encoded data removed]",
      "text/plain": [
       "<Figure size 432x288 with 1 Axes>"
      ]
     },
     "metadata": {
      "needs_background": "light"
     },
     "output_type": "display_data"
    }
   ],
   "source": [
    "t,y = control.step_response(Gss)\n",
    "plt.plot(t,y)"
   ]
  },
  {
   "cell_type": "code",
   "execution_count": null,
   "id": "2ad9d020",
   "metadata": {},
   "outputs": [],
   "source": []
  }
 ],
 "metadata": {
  "kernelspec": {
   "display_name": "Python 3",
   "language": "python",
   "name": "python3"
  },
  "language_info": {
   "codemirror_mode": {
    "name": "ipython",
    "version": 3
   },
   "file_extension": ".py",
   "mimetype": "text/x-python",
   "name": "python",
   "nbconvert_exporter": "python",
   "pygments_lexer": "ipython3",
   "version": "3.7.3"
  },
  "latex_envs": {
   "bibliofile": "biblio.bib",
   "cite_by": "apalike",
   "current_citInitial": 1,
   "eqLabelWithNumbers": true,
   "eqNumInitial": 0
  }
 },
 "nbformat": 4,
 "nbformat_minor": 5
}
