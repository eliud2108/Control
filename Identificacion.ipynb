{
 "cells": [
  {
   "cell_type": "code",
   "execution_count": 1,
   "metadata": {},
   "outputs": [
    {
     "name": "stdout",
     "output_type": "stream",
     "text": [
      "Requirement already satisfied: tbcontrol in c:\\users\\usuario\\.conda\\envs\\sistdin\\lib\\site-packages (0.2.1)\n",
      "Requirement already satisfied: scipy in c:\\users\\usuario\\.conda\\envs\\sistdin\\lib\\site-packages (from tbcontrol) (1.3.0)\n",
      "Requirement already satisfied: numpy in c:\\users\\usuario\\.conda\\envs\\sistdin\\lib\\site-packages (from tbcontrol) (1.21.5)\n",
      "Requirement already satisfied: packaging in c:\\users\\usuario\\.conda\\envs\\sistdin\\lib\\site-packages (from tbcontrol) (21.0)\n",
      "Requirement already satisfied: tqdm in c:\\users\\usuario\\.conda\\envs\\sistdin\\lib\\site-packages (from tbcontrol) (4.62.3)\n",
      "Requirement already satisfied: pyparsing>=2.0.2 in c:\\users\\usuario\\.conda\\envs\\sistdin\\lib\\site-packages (from packaging->tbcontrol) (2.4.7)\n",
      "Requirement already satisfied: colorama in c:\\users\\usuario\\.conda\\envs\\sistdin\\lib\\site-packages (from tqdm->tbcontrol) (0.4.4)\n"
     ]
    }
   ],
   "source": [
    "!pip install tbcontrol\n",
    "import control\n",
    "import numpy\n",
    "import matplotlib.pyplot as plt\n",
    "import tbcontrol\n",
    "tbcontrol.expectversion(\"0.1.10\")\n",
    "%matplotlib inline\n",
    "# import pandas as pd\n",
    "import scipy.optimize\n",
    "from tbcontrol.responses import fopdt, sopdt\n",
    "from ipywidgets import interact\n",
    "\n",
    "def resultplot1(K, tau, theta, y0):\n",
    "    plt.figure(figsize=(21, 7))\n",
    "    plt.scatter(ts, ym)\n",
    "    plt.plot(ts, fopdt(ts, K, tau, theta, y0), color='red')\n",
    "    plt.grid(True)\n",
    "\n",
    "def resultplot2(K, tau, zeta, theta, y0):\n",
    "    plt.figure(figsize=(21, 7))\n",
    "    plt.scatter(ts, ym)\n",
    "    plt.plot(ts, sopdt(ts, K, tau, zeta,theta, y0), color='red')\n",
    "    plt.grid(True)"
   ]
  },
  {
   "cell_type": "markdown",
   "metadata": {},
   "source": [
    "# Identificación: Ajuste de la respuesta al escalón\n",
    "\n",
    "\n",
    "## Respuesta al escalón\n",
    "\n",
    "La respuesta de un sistema **LTI** $\\mathcal{H}$ ante una señal escalón $\\epsilon(t)$ en la entrada se conoce como [*respuesta al escalón*](https://en.wikipedia.org/wiki/Step_response) $h_\\epsilon(t)$.\n",
    "\n",
    "Se define como:\n",
    "\n",
    "\\begin{equation}\n",
    "h_\\epsilon(t) = \\mathcal{H} \\{ \\epsilon(t) \\}\n",
    "\\end{equation}\n",
    "\n",
    "Puede entenderse la señal escalón en la entrada como el encendido/activación de un sistema en el instante $t=0$. Se relaciona con la respuesta al impulso $h(t)$ mediante:\n",
    "\n",
    "\\begin{equation}\n",
    "h_\\epsilon(t) = \\epsilon(t) * h(t) = \\int_{-\\infty}^{t} h(\\tau) \\; d\\tau\n",
    "\\end{equation}\n",
    "\n",
    "Pues debe tenerse en cuenta que:\n",
    "\n",
    "\\begin{equation}\n",
    "\\epsilon(t) = \\int_{-\\infty}^{t} \\delta(\\tau) d\\tau\n",
    "\\end{equation}\n",
    "\n",
    "Esta expresión muestra que la respuesta al impulso puede encontrarse a partir de la respuesta al escalón mediante:\n",
    "\n",
    "\n",
    "\\begin{equation}\n",
    "h(t) = \\frac{d h_\\epsilon(t)}{dt}\n",
    "\\end{equation}\n",
    "\n",
    "Así, la respuesta de un sistema LTI $y(t) = \\mathcal{H} \\{ x(t) \\}$  ante cualquier señal de entrada $x(t)$ puede encontrarse a partir de la respuesta al escalón como:\n",
    "\n",
    "\\begin{equation}\n",
    "y(t) = x(t) * \\frac{d h_\\epsilon(t)}{dt} = \\frac{d x(t)}{dt} * h_\\epsilon(t)\n",
    "\\end{equation}\n",
    "\n",
    "Observe que la señal de salida del sistema LTI está definida por :\n",
    "- La covolución de la **derivada de la señal de entrada** con la **respuesta al escalón**.\n",
    "- La covolución de la **señal de entrada** con la **derivada de la respuesta al escalón**.\n",
    "\n",
    "Así, la respuesta al escalón es una alternativa apropiada a la caracterización de sistemas LTI pues el impulso de Dirac no puede obtenerse en la el mundo real."
   ]
  },
  {
   "cell_type": "markdown",
   "metadata": {},
   "source": [
    "## Función de transferencia\n",
    "\n",
    "En el dominio del tiempo, la salida $y(t)$ de un [sistema LTI](https://es.wikipedia.org/wiki/Sistema_LTI) está determinada por la convolución entre la entrada $x(t)$ y su [respuesta al impulso](../systems_time_domain/impulse_response.ipynb) $h(t)$.\n",
    "\n",
    "![bloque](figuras/bloque_tiempo.PNG)\n",
    "\n",
    "\n",
    "\\begin{equation}\n",
    "y(t) = x(t) * h(t)\n",
    "\\end{equation}\n",
    "\n",
    "En el dominio transformado se tiene\n",
    "\n",
    "\\begin{equation}\n",
    "Y(s) = X(s) \\cdot H(s)\n",
    "\\end{equation}\n",
    "\n",
    "\\begin{equation}\n",
    "H(s) = \\frac{Y(s)}{X(s)}\n",
    "\\end{equation}\n",
    "\n",
    "donde:\n",
    "- $X(s) = \\mathcal{L} \\{ x(t) \\}$ es la transformada de Laplace de la señal de entrada.\n",
    "- $Y(s) = \\mathcal{L} \\{ y(t) \\}$ es la transformada de Laplace de la señal salida.\n",
    "- $H(s) = \\mathcal{L} \\{ h(t) \\}$ es la transformada de Laplace de la respuesta impulsional, también denominada [Función de transferencia](https://es.wikipedia.org/wiki/Funci%C3%B3n_de_transferencia).\n",
    "\n",
    "\n",
    "Así, un sistema LTI queda modelado mediante la respuesta impulsional bien sea en el dominio temporal o en el dominio frecuencial.\n",
    "\n",
    "\n",
    "### Estrategia tentativa para obtener un modelo\n",
    "\n",
    "Pasos para obtener experimentalmente un modelo $H(S)$ apropiado para un sistema:\n",
    "\n",
    "- Se excita el sistema con una entrada conocida evitando comportamientos no lineales.\n",
    "- Se encuentra una expresión matemática en el dominio de las frecuencias que se ajuste a la señal de salida obtenida.\n",
    "- Se encuentra el cociente entre las representaciones frecuenciales de la salida y la entrada.\n",
    "\n",
    "En sistemas de orden elevado es recomendable encontrar modelos de orden más bajo."
   ]
  },
  {
   "cell_type": "markdown",
   "metadata": {},
   "source": [
    "## Ejemplo\n",
    "\n",
    "Suponga un sistema de orden elevado cuyo modelo conoce\n",
    "\n",
    "\\begin{equation}\n",
    "G_{real}(s) = \\frac{s+2}{2s^3 + 3s^2 + 4s + 1}\n",
    "\\end{equation}\n",
    "\n",
    "La respuesta ante un escalón unitario es:\n",
    "\\begin{equation}\n",
    "\\frac{1}{s} \\cdot \\frac{s+2}{2s^3 + 3s^2 + 4s + 1}\n",
    "\\end{equation}"
   ]
  },
  {
   "cell_type": "code",
   "execution_count": 2,
   "metadata": {},
   "outputs": [
    {
     "data": {
      "text/latex": [
       "$$\\frac{s + 2}{2 s^3 + 3 s^2 + 4 s + 1}$$"
      ],
      "text/plain": [
       "TransferFunction(array([1, 2]), array([2, 3, 4, 1]))"
      ]
     },
     "execution_count": 2,
     "metadata": {},
     "output_type": "execute_result"
    }
   ],
   "source": [
    "# Se define la función de transferencia\n",
    "Greal = control.tf([1, 2], [2, 3, 4, 1])\n",
    "Greal"
   ]
  },
  {
   "cell_type": "code",
   "execution_count": 3,
   "metadata": {},
   "outputs": [],
   "source": [
    "# Simulación del sistema ante un escalón unitario\n",
    "ts, ys = control.step_response(Greal)\n",
    "_, u = control.step_response(control.tf(1, 1),ts)"
   ]
  },
  {
   "cell_type": "markdown",
   "metadata": {},
   "source": [
    "En datos de sistemas reales se tiene el efecto de ruido y sesgo, lo que modifica el valor inicial de la señal de salida e introduce un comportamieto aleatorio alrededor de la señal de salida \"ideal\"."
   ]
  },
  {
   "cell_type": "code",
   "execution_count": 4,
   "metadata": {},
   "outputs": [],
   "source": [
    "yinitial = 5\n",
    "measurement_noise = numpy.random.randn(len(ys))*0.1"
   ]
  },
  {
   "cell_type": "code",
   "execution_count": 5,
   "metadata": {},
   "outputs": [],
   "source": [
    "ym = ys + yinitial + measurement_noise"
   ]
  },
  {
   "cell_type": "code",
   "execution_count": 6,
   "metadata": {},
   "outputs": [
    {
     "data": {
      "image/png": "[encoded data removed]",
      "text/plain": [
       "<Figure size 1512x504 with 1 Axes>"
      ]
     },
     "metadata": {
      "needs_background": "light"
     },
     "output_type": "display_data"
    }
   ],
   "source": [
    "plt.figure(figsize=(21, 7))\n",
    "plt.scatter(ts, ym, label='Datos')\n",
    "plt.plot(ts, ys + yinitial, color='red', label='Modelo ideal')\n",
    "plt.legend(loc='best')\n",
    "plt.grid(True)\n",
    "\n",
    "import pandas as pd\n",
    "import numpy as np\n",
    "df = pd.DataFrame(np.transpose(np.array([ts,u,ym])),\n",
    "                  columns=['tiempo',\n",
    "                           'U',\n",
    "                           'Y'])\n",
    "df.to_csv('Datos\\DatoEscalon.csv')"
   ]
  },
  {
   "cell_type": "markdown",
   "metadata": {},
   "source": [
    "## Ajuste de un modelo de primer orden\n",
    "\n",
    "Se encuentra un modelo de primer orden de la forma:\n",
    "\n",
    "\\begin{equation}\n",
    "G(s) = \\frac{K}{\\tau s + 1} \\cdot e^{-s\\theta}\n",
    "\\end{equation}\n",
    "\n",
    "Introduciendo además el sesgo.\n",
    "\n",
    "Librería `tbcontrol.responses`"
   ]
  },
  {
   "cell_type": "code",
   "execution_count": 7,
   "metadata": {},
   "outputs": [
    {
     "data": {
      "text/plain": [
       "<function tbcontrol.responses.fopdt(t, K, tau, theta=0, y0=0)>"
      ]
     },
     "execution_count": 7,
     "metadata": {},
     "output_type": "execute_result"
    }
   ],
   "source": [
    "fopdt"
   ]
  },
  {
   "cell_type": "code",
   "execution_count": 8,
   "metadata": {},
   "outputs": [
    {
     "data": {
      "application/vnd.jupyter.widget-view+json": {
       "model_id": "28d376cab3e1476f9552d9f8ac86e56d",
       "version_major": 2,
       "version_minor": 0
      },
      "text/plain": [
       "interactive(children=(FloatSlider(value=5.0, description='K', max=10.0), FloatSlider(value=5.0, description='t…"
      ]
     },
     "metadata": {},
     "output_type": "display_data"
    }
   ],
   "source": [
    "interact(resultplot1, \n",
    "         K=(0., 10.), \n",
    "         tau=(0., 10.), \n",
    "         theta=(0., 10.), \n",
    "         y0=(0., 20.));\n"
   ]
  },
  {
   "cell_type": "markdown",
   "metadata": {},
   "source": [
    "We can use the `scipy.optimize.curve_fit` tool to do this fit just like when we did regression without time."
   ]
  },
  {
   "cell_type": "code",
   "execution_count": 9,
   "metadata": {},
   "outputs": [
    {
     "data": {
      "text/plain": [
       "[1.9181178755509678, 2.634047313724768, 0.7970392081409169, 5.063474197360777]"
      ]
     },
     "execution_count": 9,
     "metadata": {},
     "output_type": "execute_result"
    }
   ],
   "source": [
    "[K, tau, theta, y0], _ = scipy.optimize.curve_fit(fopdt, ts, ym, [3.0, 1.3, 1.3, 9.2])\n",
    "[K, tau, theta, y0]"
   ]
  },
  {
   "cell_type": "markdown",
   "metadata": {},
   "source": [
    "Estos parámetros definen la función de transferencia de primer orden que mejor se ajusta al comportamiento medido."
   ]
  },
  {
   "cell_type": "code",
   "execution_count": 10,
   "metadata": {},
   "outputs": [],
   "source": [
    "Y_1orden = fopdt(ts, K, tau, theta, y0)"
   ]
  },
  {
   "cell_type": "markdown",
   "metadata": {},
   "source": [
    "\\begin{equation}\n",
    "G(s) = \\frac{K}{\\tau s + 1} \\cdot e^{-s\\theta}\n",
    "\\end{equation}\n",
    "más sesgo."
   ]
  },
  {
   "cell_type": "markdown",
   "metadata": {},
   "source": [
    "## Ajuste de un modelo de segundo orden\n",
    "\n",
    "\n",
    "\n",
    "También puede ajustarse un modelo de segundo orden.\n",
    "\n",
    "\\begin{align}\n",
    "G(s) &= \\frac{K}{(\\tau s)^2 + 2\\tau \\zeta s + 1} \\cdot e^{-s\\theta} \\\\\n",
    "&= \\frac{K \\omega_0^2}{s^2 + 2\\zeta \\omega_0 s + \\omega_0^2} \\cdot e^{-s\\theta} \\\\\n",
    "\\end{align}\n",
    "\n",
    "Introduciendo además el sesgo."
   ]
  },
  {
   "cell_type": "code",
   "execution_count": 11,
   "metadata": {},
   "outputs": [
    {
     "data": {
      "application/vnd.jupyter.widget-view+json": {
       "model_id": "bbcadac6e3504d3898bfd694abf5169f",
       "version_major": 2,
       "version_minor": 0
      },
      "text/plain": [
       "interactive(children=(FloatSlider(value=5.0, description='K', max=10.0), FloatSlider(value=5.0, description='t…"
      ]
     },
     "metadata": {},
     "output_type": "display_data"
    }
   ],
   "source": [
    "interact(resultplot2, \n",
    "         K=(0., 10.), \n",
    "         tau=(0., 10.), \n",
    "         theta=(0., 10.),\n",
    "         zeta = (-2.0, 2.0),\n",
    "         y0=(0., 20.));\n"
   ]
  },
  {
   "cell_type": "code",
   "execution_count": 12,
   "metadata": {},
   "outputs": [
    {
     "data": {
      "text/plain": [
       "[2.0026889738601947,\n",
       " 1.0228718054577015,\n",
       " 1.4960643785011534,\n",
       " 0.23831376323926884,\n",
       " 4.980301786495217]"
      ]
     },
     "execution_count": 12,
     "metadata": {},
     "output_type": "execute_result"
    }
   ],
   "source": [
    "p2_inicial = [2, 0.6, 2, 0.5, 10]\n",
    "[K_2, tau_2, zeta_2, theta_2, y0_2], pcov = scipy.optimize.curve_fit(sopdt, ts, ym, p2_inicial)\n",
    "[K_2, tau_2, zeta_2, theta_2, y0_2]"
   ]
  },
  {
   "cell_type": "code",
   "execution_count": 13,
   "metadata": {},
   "outputs": [
    {
     "data": {
      "text/plain": [
       "array([0.0717199 , 0.44016312, 0.53483623, 0.33501957, 0.07080369])"
      ]
     },
     "execution_count": 13,
     "metadata": {},
     "output_type": "execute_result"
    }
   ],
   "source": [
    "perr = numpy.sqrt(numpy.diag(pcov))\n",
    "perr"
   ]
  },
  {
   "cell_type": "code",
   "execution_count": 14,
   "metadata": {},
   "outputs": [],
   "source": [
    "Y_2orden = sopdt(ts, K_2, tau_2, zeta_2, theta_2, y0_2)"
   ]
  },
  {
   "cell_type": "code",
   "execution_count": 15,
   "metadata": {},
   "outputs": [
    {
     "data": {
      "image/png": "[encoded data removed]",
      "text/plain": [
       "<Figure size 1512x504 with 1 Axes>"
      ]
     },
     "metadata": {
      "needs_background": "light"
     },
     "output_type": "display_data"
    }
   ],
   "source": [
    "plt.figure(figsize=(21, 7))\n",
    "plt.scatter(ts, ym, label='Data')\n",
    "plt.plot(ts, Y_1orden, color='red', label='ajuste orden 1')\n",
    "plt.plot(ts, Y_2orden, color='blue', label='ajuste orden 2')\n",
    "plt.plot(ts, ys + 10, color='gray', label='Original')\n",
    "plt.legend(loc='best')\n",
    "plt.grid(True)"
   ]
  },
  {
   "cell_type": "code",
   "execution_count": null,
   "metadata": {},
   "outputs": [],
   "source": []
  }
 ],
 "metadata": {
  "kernelspec": {
   "display_name": "Python 3",
   "language": "python",
   "name": "python3"
  },
  "language_info": {
   "codemirror_mode": {
    "name": "ipython",
    "version": 3
   },
   "file_extension": ".py",
   "mimetype": "text/x-python",
   "name": "python",
   "nbconvert_exporter": "python",
   "pygments_lexer": "ipython3",
   "version": "3.7.3"
  },
  "latex_envs": {
   "bibliofile": "biblio.bib",
   "cite_by": "apalike",
   "current_citInitial": 1,
   "eqLabelWithNumbers": true,
   "eqNumInitial": 0
  }
 },
 "nbformat": 4,
 "nbformat_minor": 4
}
