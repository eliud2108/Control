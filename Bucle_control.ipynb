{
 "cells": [
  {
   "cell_type": "markdown",
   "id": "a6078d35",
   "metadata": {},
   "source": [
    "# Bucle de control\n",
    "\n",
    "## Objetivos\n",
    "- Identificar los elementos típicos de los sistemas controlados.\n",
    "- Identificar las tareas de cada elemento del bucle de control.\n",
    "\n",
    "\n",
    "## Definición\n",
    "Se conoce como bucle de control al conjunto de sistemas interactando entre sí para tener [control en lazo cerrado](https://www.electronics-tutorials.ws/systems/closed-loop-system.html). El objetivo de esta interacción es obtener comportamientos deseados como respuesta de una planta.\n",
    "\n",
    "En este diagrama se observa un bucle (bucla o lazo) típico de control que sirve como orientación a la hora de automatizar procesos.\n",
    "\n",
    "![bucle](figuras/bucle.PNG)\n",
    "\n",
    "- La **planta** es el proceso que se debe controlar.\n",
    "- El **actuador** cambia el comportamiento de la planta a partir de las ordenes del **controlador**.\n",
    "- El **controlador** toma decisiones a partir del error del proceso para que el sistema controlado cumpla con el objetivo impuesto con la señal de **referencia**.\n",
    "- El **sensor** se encarga de medir el comportamiento de la **planta** para dar esta información al **controlador**.\n",
    "\n",
    "Con la tecnología del momento, los controladores son electrónicos. Por esta razón, el **actuador** recibe señales eléctricas y las lleva a la naturaleza propia de la planta, y el sensor transfiere la información del comportamiento de la planta a forma eléctrica.\n",
    "\n",
    "Si se considera que:\n",
    "- Los sistemas **actuador** y **planta** se ven como un solo sistema desde el punto de vista del controlador, podría adoptar el nombre de **proceso**.\n",
    "- El sistema **sensor** brinda información sin error de forma muy rápida en comparación a la evolución del proceso.\n"
   ]
  },
  {
   "cell_type": "markdown",
   "id": "41d38d36",
   "metadata": {},
   "source": [
    "## Reducción del bucle\n",
    "\n",
    "El bucle de control puede reducirse a:\n",
    "\n",
    "![Simple feedback loop](figuras/feedback.png)\n",
    "\n",
    "- $Y_{sp}$ es la señal de referencia (sp por SetPoint)\n",
    "- $Y$ es la señal de respuesta del sistema controlado.\n",
    "- $E = Y_{sp} - Y$ es la señal de error.\n",
    "- $G_C$ es el **controlador**.\n",
    "- $U$ es el decisión tomada por el **controlador** y la excitación del **proceso**.\n",
    "- $G_P$ es el **proceso**.\n",
    "\n",
    "Recuerde que las señales varían en el tiempo. Así, pueden definirse:\n",
    "\n",
    "\\begin{align}\n",
    "E(t) &= Y_{sp}(t)-Y(t)\\\\\n",
    "U(t) &=  \\mathcal{G_C} \\{E(t) \\}  =  \\mathcal{G_C} \\{ Y_{sp}(t)-Y(t) \\} \\\\\n",
    "Y(t) &=   \\mathcal{G_P} \\{U(t) \\} =   \\mathcal{G_P} \\{ \\mathcal{G_C} \\{ Y_{sp}(t)-Y(t) \\} \\}  \n",
    "\\end{align}\n",
    "\n"
   ]
  },
  {
   "cell_type": "markdown",
   "id": "11bbebcb",
   "metadata": {},
   "source": [
    "## Bucle con sistemas LTI\n",
    "\n",
    "Si los sistemas son **LTI**, se pueden denominar $g_{C}(t)$ a la respuesta impulsional del **controlador**, y $g_{P}(t)$ a la respuesta impulsional del **proceso**. Esto permite reescribir las expresiones anteriores como:\n",
    "\n",
    "\\begin{align}\n",
    "E(t) &= Y_{sp}(t)-Y(t)\\\\\n",
    "U(t) &=  g_C(t) * ( Y_{sp}(t)-Y(t) ) \\\\\n",
    "Y(t) &=  g_P(t) * g_C(t) * ( Y_{sp}(t)-Y(t) )\n",
    "\\end{align}\n",
    "\n",
    "Esto indica que la señal de respuesta depende de:\n",
    "- el deseo $Y_{sp}$\n",
    "- el proceso $G_{P}$\n",
    "- el controlador $G_{C}$\n",
    "\n",
    "Observe que para obtener un comportamiento deseado en $Y(t)=g_P(t)*g_C(t)*( Y_{sp}(t)-Y(t) )$ debe definirse $g_C(t)$ de manera que se corrijan los comportamientos del proceso. La labor de ingeniería de control es diseñar el controlador para cumplir especificaciones.\n",
    "\n",
    "Para facilitar el análisis y trabajo de los sistemas controlados, se usará la **transformada de Laplace**."
   ]
  },
  {
   "cell_type": "markdown",
   "id": "3e194760",
   "metadata": {},
   "source": [
    "## Juego de control\n"
   ]
  },
  {
   "cell_type": "code",
   "execution_count": 4,
   "id": "8c325099",
   "metadata": {},
   "outputs": [],
   "source": [
    "import matplotlib.pyplot as plt\n",
    "%matplotlib inline\n",
    "from juego import ControlGame\n",
    "game = ControlGame(runtime=45)  # segundos"
   ]
  },
  {
   "cell_type": "markdown",
   "id": "3fde4c5b",
   "metadata": {},
   "source": [
    "\n",
    "Suponga que usted debe operar un sistema **SISO** (de una entrada y una salida) usando un botón deslizable y su percepción del funcionamiento del sistema.\n",
    "\n",
    "- Ejecute la celda con `game.ui()`.\n",
    "- Presione el botón `Ejecutar` y mueva el botón `U(t)` para que la señal `Salida` siga a la señal `Referencia`, que cambia de forma aleatoria después de cierta cantidad de segundos.\n",
    "- Tenga en cuenta que el `Puntaje` crece más rápido mientras menor sea el error.\n",
    "- Ejecute la celda varias veces para ver cómo usted aprende a controlar el sistema.\n",
    "- Para visualizar su desempeño como controlador, ejecute la celda con `game.plot()`.\n"
   ]
  },
  {
   "cell_type": "code",
   "execution_count": 5,
   "id": "3b462464",
   "metadata": {},
   "outputs": [
    {
     "data": {
      "application/vnd.jupyter.widget-view+json": {
       "model_id": "8d77c9a9e4a848cf999a5a809f07c65f",
       "version_major": 2,
       "version_minor": 0
      },
      "text/plain": [
       "VBox(children=(HBox(children=(Button(description='Ejecutar', style=ButtonStyle()), Text(value='0', description…"
      ]
     },
     "metadata": {},
     "output_type": "display_data"
    }
   ],
   "source": [
    "game.ui()"
   ]
  },
  {
   "cell_type": "code",
   "execution_count": 7,
   "id": "28659497",
   "metadata": {
    "scrolled": true
   },
   "outputs": [
    {
     "data": {
      "image/png": "[encoded data removed]",
      "text/plain": [
       "<Figure size 432x288 with 2 Axes>"
      ]
     },
     "metadata": {
      "needs_background": "light"
     },
     "output_type": "display_data"
    }
   ],
   "source": [
    "game.plot()"
   ]
  },
  {
   "cell_type": "markdown",
   "id": "4962d333",
   "metadata": {},
   "source": [
    "Los cambios que acaba de realizar manualmente deben ser ejercidos de manera automática por el **controlador**.\n",
    "\n",
    "En el resto del curso se discutirá sobre las técnicas de análisis y diseño más usadas para sistemas análogos."
   ]
  },
  {
   "cell_type": "code",
   "execution_count": null,
   "id": "f65821f9",
   "metadata": {},
   "outputs": [],
   "source": []
  }
 ],
 "metadata": {
  "kernelspec": {
   "display_name": "Python 3",
   "language": "python",
   "name": "python3"
  },
  "language_info": {
   "codemirror_mode": {
    "name": "ipython",
    "version": 3
   },
   "file_extension": ".py",
   "mimetype": "text/x-python",
   "name": "python",
   "nbconvert_exporter": "python",
   "pygments_lexer": "ipython3",
   "version": "3.7.3"
  },
  "latex_envs": {
   "bibliofile": "biblio.bib",
   "cite_by": "apalike",
   "current_citInitial": 1,
   "eqLabelWithNumbers": true,
   "eqNumInitial": 0
  }
 },
 "nbformat": 4,
 "nbformat_minor": 5
}
