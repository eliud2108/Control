{
 "cells": [
  {
   "cell_type": "code",
   "execution_count": 29,
   "id": "0fe1fddb",
   "metadata": {},
   "outputs": [],
   "source": [
    "#!pip install seaborn\n",
    "import sympy as sym\n",
    "from sympy import apart\n",
    "\n",
    "import matplotlib.pyplot as plt\n",
    "import numpy as np\n",
    "import seaborn as sns\n",
    "sns.set()\n",
    "sns.set_style(\"whitegrid\", {'grid.linestyle': '--'})\n",
    "sym.init_printing()\n",
    "# %matplotlib inline\n",
    "%matplotlib notebook"
   ]
  },
  {
   "cell_type": "markdown",
   "id": "d44f89a9",
   "metadata": {},
   "source": [
    "# Respuesta dinámica\n",
    "\n",
    "Ya se ha establecido que el primer paso para analizar un sistema es obtener un modelo.\n",
    "\n",
    "En el área de la **ingeniería de control**, se configura una base de comparación del comportamiento de sistemas controlados contra señales de prueba particulares."
   ]
  },
  {
   "cell_type": "markdown",
   "id": "541e3a97",
   "metadata": {},
   "source": [
    "## Señales de prueba\n",
    "\n",
    "Las señales de prueba más comunes corresponden a funciones impulso, escalón, rampa, parábola, etc.\n",
    "\n",
    "Como ya se ha estudiado, la respuesta ante la señal impulso permite caracterizar completamente al sistema, sin embargo, no es posible obtener esta señal en laboratorio.\n",
    "\n",
    "La señal de prueba más apropiada para un sistema debe determinarse por la forma más frecuente de las excitaciones en su operación normal.\n",
    "\n",
    "### Impulso\n",
    "Entendido como la derivada del escalón.\n",
    "\\begin{equation}\n",
    "    \\delta(t) = \\frac{d\\epsilon}{dt}    \n",
    "\\end{equation}\n",
    "\n",
    "Aplicando la transformada de Laplace se obtiene:\n",
    "\\begin{equation}\n",
    "    \\mathcal{L} \\{ \\delta(t) \\} = 1    \n",
    "\\end{equation}\n",
    "\n",
    "Determina completamente el comportamiento del sistema.\n",
    "\n",
    "### Escalón\n",
    "\\begin{equation}\n",
    "\\epsilon(t) = \\begin{cases} 0 & t<0 \\\\  1 & t > 0 \\end{cases}\n",
    "\\end{equation}\n",
    "\n",
    "Aplicando la transformada de Laplace se obtiene:\n",
    "\\begin{equation}\n",
    "    \\mathcal{L} \\{ \\epsilon(t) \\} = \\frac{1}{s}  \n",
    "\\end{equation}\n",
    "\n",
    "Apropiada para visualizar el comportamiento de sistemas que buscan mantener variables fijas.\n",
    "\n",
    "### Rampa\n",
    "Entendida como la integral del escalón.\n",
    "\n",
    "\\begin{equation}\n",
    "    rampa(t) = \\int_{-\\infty}^{t} \\epsilon(\\tau) d\\tau = t \\cdot \\epsilon(t) \n",
    "\\end{equation}\n",
    "\n",
    "Aplicando la transformada de Laplace se obtiene:\n",
    "\\begin{equation}\n",
    "    \\mathcal{L} \\{ rampa(t) \\} = \\frac{1}{s^2}\n",
    "\\end{equation}\n",
    "\n",
    "Apropiada para visualizar el comportamiento de sistemas que buscan variables que cambian con velocidad constante.\n",
    "\n",
    "### Parábola\n",
    "Entendida como la integral de la rampa.\n",
    "\n",
    "\\begin{equation}\n",
    "    parabola(t) = \\int_{-\\infty}^{t} rampa(\\tau) d\\tau   = \\frac{t^2}{2} \\cdot \\epsilon(t)  \n",
    "\\end{equation}\n",
    "\n",
    "Aplicando la transformada de Laplace se obtiene:\n",
    "\\begin{equation}\n",
    "    \\mathcal{L} \\{ parabola(t) \\} = \\frac{1}{s^3}  \n",
    "\\end{equation}\n",
    "\n",
    "Apropiada para visualizar el comportamiento de sistemas que buscan variables que cambian con aceleración constante.\n"
   ]
  },
  {
   "cell_type": "markdown",
   "id": "df50b997",
   "metadata": {},
   "source": [
    "## Respuesta transitoria y respuesta estacionaria\n",
    "\n",
    "Cuando un [sistema estable](https://en.wikipedia.org/wiki/BIBO_stability) es excitado en el instante $t=0$, este responde de manera continua (respuesta transitoria) desde un estado inicial relacionado con las condiciones iniciales hasta que logra equilibrio (respuesta estacionaria).\n",
    "\n",
    "\n",
    "![RespuestaDinamica](figuras/RespuestaDinamica.png)"
   ]
  },
  {
   "cell_type": "markdown",
   "id": "600743f6",
   "metadata": {},
   "source": [
    "## Sistemas de primer orden\n",
    "\n",
    "Considere la siguiente función de transferencia:\n",
    "\n",
    "![bloque](figuras/bloque_frecuencia.PNG)\n",
    "\n",
    "\\begin{equation}\n",
    "G(s) = \\frac{C(s)}{R(s)} = \\frac{a}{b s + c}\n",
    "\\end{equation}\n",
    "\n",
    "Este sistema tiene $3$ parámetros ($a$, $b$ y $c$), sin embargo, para facilitar el análisis de estos sistemas puede transformarse la función a su forma canónica al dividir numerador y denominador por $c$.\n",
    "\n",
    "\\begin{equation}\n",
    "G(s) = \\frac{C(s)}{R(s)}  = \\frac{\\frac{a}{c}}{\\frac{b}{c} s + \\frac{c}{c}}= \\frac{k}{\\tau s + 1}\n",
    "\\end{equation}\n",
    "\n",
    "\n",
    "En la forma canónica, se definen los parámetro como:\n",
    "- $k$: ganancia en estado estacionario.\n",
    "- $\\tau$: constante de tiempo."
   ]
  },
  {
   "cell_type": "markdown",
   "id": "611ee31f",
   "metadata": {},
   "source": [
    "### Respuesta al escalón\n",
    "\n",
    "Si el sistema es excitado con un escalón unitario, la señal de salida en el dominio de la frecuencia es:\n",
    "\n",
    "\\begin{equation}\n",
    "C(s) = G(s) \\cdot R(s) = \\frac{k}{\\tau s + 1} \\cdot \\frac{1}{s}\n",
    "\\end{equation}\n",
    "\n",
    "Observe que esta expresión puede reescrbirse como:\n",
    "\n",
    "\\begin{equation}\n",
    "C(s)= k \\cdot \\left ( \\frac{1}{s} - \\frac{\\tau}{\\tau s + 1} \\right )\n",
    "\\end{equation}\n",
    "\n",
    "La transformada inversa de Laplace permite obtener una expresión para la señal de salida en el dominio del tiempo $c(t)$.\n",
    "\n",
    "\\begin{equation}\n",
    "c(t)= k \\left ( 1 - e^{-t/\\tau} \\right ) \\epsilon(t)\n",
    "\\end{equation}\n",
    "\n",
    "Observe que:\n",
    "\n",
    "- $c(t<0)=0$ (condción inicial).\n",
    "- $\\lim_{t\\rightarrow \\infty} c(t)=k$ (respuesta estacionaria).\n",
    "- La respuesta transitoria es dominada por $e^{-t/\\tau}$.\n",
    "- $c(\\tau) = 0.632k$, el sistema alcanza el $63.2\\%$ del valor final después de un tiempo $\\tau$.\n",
    "- $c(2\\tau) = 0.865k$, el sistema alcanza el $86.5\\%$ del valor final después de un tiempo $2\\tau$.\n",
    "- $c(3\\tau) = 0.95k$, el sistema alcanza el $95\\%$ del valor final después de un tiempo $3\\tau$.\n",
    "- $\\frac{dc}{dt}\\big\\vert_{t = 0^+} = \\frac{d}{dt} \\left ( k \\left ( 1 - e^{-t/\\tau} \\right ) \\right ) \\big\\vert_{t = 0^+} = \\frac{k}{\\tau}  e^{-t/\\tau} \\big\\vert_{t = 0^+} =\\frac{k}{\\tau}$\n",
    "- El sistema tiene un polo ubicado en $s=\\frac{-1}{\\tau}$\n"
   ]
  },
  {
   "cell_type": "code",
   "execution_count": 30,
   "id": "f9681137",
   "metadata": {},
   "outputs": [],
   "source": [
    "k, tau = sym.symbols('k, tau',real=True, positive=True)\n",
    "t = sym.symbols('t',real=True, positive=True)\n",
    "\n",
    "s = sym.Symbol('s')\n",
    "\n",
    "def L(f):\n",
    "    return sym.laplace_transform(f, t, s, noconds=True)\n",
    "def invL(F):\n",
    "    return sym.inverse_laplace_transform(F, s, t)"
   ]
  },
  {
   "cell_type": "code",
   "execution_count": 31,
   "id": "3467e6cb",
   "metadata": {},
   "outputs": [
    {
     "data": {
      "image/png": "[encoded data removed]",
      "text/latex": [
       "$\\displaystyle 1$"
      ],
      "text/plain": [
       "1"
      ]
     },
     "execution_count": 31,
     "metadata": {},
     "output_type": "execute_result"
    }
   ],
   "source": [
    "# la entrada r(t) es escalon unitario\n",
    "r = sym.Heaviside(t)\n",
    "r"
   ]
  },
  {
   "cell_type": "code",
   "execution_count": 32,
   "id": "de27daab",
   "metadata": {},
   "outputs": [
    {
     "data": {
      "image/png": "[encoded data removed]",
      "text/latex": [
       "$\\displaystyle \\frac{1}{s}$"
      ],
      "text/plain": [
       "1\n",
       "─\n",
       "s"
      ]
     },
     "execution_count": 32,
     "metadata": {},
     "output_type": "execute_result"
    }
   ],
   "source": [
    "# la entrada R(s) es la transformada de Laplace de r(t)\n",
    "R = L(r)\n",
    "R"
   ]
  },
  {
   "cell_type": "code",
   "execution_count": 33,
   "id": "0cad5036",
   "metadata": {},
   "outputs": [
    {
     "data": {
      "image/png": "[encoded data removed]",
      "text/latex": [
       "$\\displaystyle \\frac{k}{s \\tau + 1}$"
      ],
      "text/plain": [
       "   k   \n",
       "───────\n",
       "s⋅τ + 1"
      ]
     },
     "execution_count": 33,
     "metadata": {},
     "output_type": "execute_result"
    }
   ],
   "source": [
    "# Se define la función de transferencia del sistema G(s)\n",
    "G = k/(tau*s + 1)\n",
    "g =invL(G)\n",
    "G"
   ]
  },
  {
   "cell_type": "code",
   "execution_count": 34,
   "id": "3331c8ca",
   "metadata": {},
   "outputs": [
    {
     "data": {
      "image/png": "[encoded data removed]",
      "text/latex": [
       "$\\displaystyle \\frac{k}{s \\left(s \\tau + 1\\right)}$"
      ],
      "text/plain": [
       "     k     \n",
       "───────────\n",
       "s⋅(s⋅τ + 1)"
      ]
     },
     "execution_count": 34,
     "metadata": {},
     "output_type": "execute_result"
    }
   ],
   "source": [
    "# la salida se calcula como C(s) = G(s)R(s)\n",
    "C = G*R\n",
    "C"
   ]
  },
  {
   "cell_type": "code",
   "execution_count": 35,
   "id": "034d5c89",
   "metadata": {},
   "outputs": [
    {
     "data": {
      "image/png": "[encoded data removed]",
      "text/latex": [
       "$\\displaystyle k - k e^{- \\frac{t}{\\tau}}$"
      ],
      "text/plain": [
       "       -t \n",
       "       ───\n",
       "        τ \n",
       "k - k⋅ℯ   "
      ]
     },
     "execution_count": 35,
     "metadata": {},
     "output_type": "execute_result"
    }
   ],
   "source": [
    "# la salida c(t) es la transformada inversa de Laplace de C(s)\n",
    "c = invL(C)\n",
    "c"
   ]
  },
  {
   "cell_type": "markdown",
   "id": "cefc9419",
   "metadata": {},
   "source": [
    "Hasta este punto se ha encontrado la respuesta general de un sistema de primer orden ante una entrada escalón. Se recomienda variar los parámetros del sistema para identificar cómo varía su comportamiento."
   ]
  },
  {
   "cell_type": "code",
   "execution_count": 44,
   "id": "4d86e384",
   "metadata": {},
   "outputs": [
    {
     "data": {
      "image/png": "[encoded data removed]",
      "text/latex": [
       "$\\displaystyle 1 - e^{- t}$"
      ],
      "text/plain": [
       "     -t\n",
       "1 - ℯ  "
      ]
     },
     "execution_count": 44,
     "metadata": {},
     "output_type": "execute_result"
    }
   ],
   "source": [
    "# Para valores particulares de k y tau\n",
    "K = 1\n",
    "T = 1\n",
    "kt = {k: K, tau: T}\n",
    "ckt = c.subs(kt)\n",
    "ckt"
   ]
  },
  {
   "cell_type": "code",
   "execution_count": 45,
   "id": "0094f302",
   "metadata": {
    "scrolled": false
   },
   "outputs": [
    {
     "data": {
      "application/javascript": [
       "/* Put everything inside the global mpl namespace */\n",
       "window.mpl = {};\n",
       "\n",
       "\n",
       "mpl.get_websocket_type = function() {\n",
       "    if (typeof(WebSocket) !== 'undefined') {\n",
       "        return WebSocket;\n",
       "    } else if (typeof(MozWebSocket) !== 'undefined') {\n",
       "        return MozWebSocket;\n",
       "    } else {\n",
       "        alert('Your browser does not have WebSocket support. ' +\n",
       "              'Please try Chrome, Safari or Firefox ≥ 6. ' +\n",
       "              'Firefox 4 and 5 are also supported but you ' +\n",
       "              'have to enable WebSockets in about:config.');\n",
       "    };\n",
       "}\n",
       "\n",
       "mpl.figure = function(figure_id, websocket, ondownload, parent_element) {\n",
       "    this.id = figure_id;\n",
       "\n",
       "    this.ws = websocket;\n",
       "\n",
       "    this.supports_binary = (this.ws.binaryType != undefined);\n",
       "\n",
       "    if (!this.supports_binary) {\n",
       "        var warnings = document.getElementById(\"mpl-warnings\");\n",
       "        if (warnings) {\n",
       "            warnings.style.display = 'block';\n",
       "            warnings.textContent = (\n",
       "                \"This browser does not support binary websocket messages. \" +\n",
       "                    \"Performance may be slow.\");\n",
       "        }\n",
       "    }\n",
       "\n",
       "    this.imageObj = new Image();\n",
       "\n",
       "    this.context = undefined;\n",
       "    this.message = undefined;\n",
       "    this.canvas = undefined;\n",
       "    this.rubberband_canvas = undefined;\n",
       "    this.rubberband_context = undefined;\n",
       "    this.format_dropdown = undefined;\n",
       "\n",
       "    this.image_mode = 'full';\n",
       "\n",
       "    this.root = $('<div/>');\n",
       "    this._root_extra_style(this.root)\n",
       "    this.root.attr('style', 'display: inline-block');\n",
       "\n",
       "    $(parent_element).append(this.root);\n",
       "\n",
       "    this._init_header(this);\n",
       "    this._init_canvas(this);\n",
       "    this._init_toolbar(this);\n",
       "\n",
       "    var fig = this;\n",
       "\n",
       "    this.waiting = false;\n",
       "\n",
       "    this.ws.onopen =  function () {\n",
       "            fig.send_message(\"supports_binary\", {value: fig.supports_binary});\n",
       "            fig.send_message(\"send_image_mode\", {});\n",
       "            if (mpl.ratio != 1) {\n",
       "                fig.send_message(\"set_dpi_ratio\", {'dpi_ratio': mpl.ratio});\n",
       "            }\n",
       "            fig.send_message(\"refresh\", {});\n",
       "        }\n",
       "\n",
       "    this.imageObj.onload = function() {\n",
       "            if (fig.image_mode == 'full') {\n",
       "                // Full images could contain transparency (where diff images\n",
       "                // almost always do), so we need to clear the canvas so that\n",
       "                // there is no ghosting.\n",
       "                fig.context.clearRect(0, 0, fig.canvas.width, fig.canvas.height);\n",
       "            }\n",
       "            fig.context.drawImage(fig.imageObj, 0, 0);\n",
       "        };\n",
       "\n",
       "    this.imageObj.onunload = function() {\n",
       "        fig.ws.close();\n",
       "    }\n",
       "\n",
       "    this.ws.onmessage = this._make_on_message_function(this);\n",
       "\n",
       "    this.ondownload = ondownload;\n",
       "}\n",
       "\n",
       "mpl.figure.prototype._init_header = function() {\n",
       "    var titlebar = $(\n",
       "        '<div class=\"ui-dialog-titlebar ui-widget-header ui-corner-all ' +\n",
       "        'ui-helper-clearfix\"/>');\n",
       "    var titletext = $(\n",
       "        '<div class=\"ui-dialog-title\" style=\"width: 100%; ' +\n",
       "        'text-align: center; padding: 3px;\"/>');\n",
       "    titlebar.append(titletext)\n",
       "    this.root.append(titlebar);\n",
       "    this.header = titletext[0];\n",
       "}\n",
       "\n",
       "\n",
       "\n",
       "mpl.figure.prototype._canvas_extra_style = function(canvas_div) {\n",
       "\n",
       "}\n",
       "\n",
       "\n",
       "mpl.figure.prototype._root_extra_style = function(canvas_div) {\n",
       "\n",
       "}\n",
       "\n",
       "mpl.figure.prototype._init_canvas = function() {\n",
       "    var fig = this;\n",
       "\n",
       "    var canvas_div = $('<div/>');\n",
       "\n",
       "    canvas_div.attr('style', 'position: relative; clear: both; outline: 0');\n",
       "\n",
       "    function canvas_keyboard_event(event) {\n",
       "        return fig.key_event(event, event['data']);\n",
       "    }\n",
       "\n",
       "    canvas_div.keydown('key_press', canvas_keyboard_event);\n",
       "    canvas_div.keyup('key_release', canvas_keyboard_event);\n",
       "    this.canvas_div = canvas_div\n",
       "    this._canvas_extra_style(canvas_div)\n",
       "    this.root.append(canvas_div);\n",
       "\n",
       "    var canvas = $('<canvas/>');\n",
       "    canvas.addClass('mpl-canvas');\n",
       "    canvas.attr('style', \"left: 0; top: 0; z-index: 0; outline: 0\")\n",
       "\n",
       "    this.canvas = canvas[0];\n",
       "    this.context = canvas[0].getContext(\"2d\");\n",
       "\n",
       "    var backingStore = this.context.backingStorePixelRatio ||\n",
       "\tthis.context.webkitBackingStorePixelRatio ||\n",
       "\tthis.context.mozBackingStorePixelRatio ||\n",
       "\tthis.context.msBackingStorePixelRatio ||\n",
       "\tthis.context.oBackingStorePixelRatio ||\n",
       "\tthis.context.backingStorePixelRatio || 1;\n",
       "\n",
       "    mpl.ratio = (window.devicePixelRatio || 1) / backingStore;\n",
       "\n",
       "    var rubberband = $('<canvas/>');\n",
       "    rubberband.attr('style', \"position: absolute; left: 0; top: 0; z-index: 1;\")\n",
       "\n",
       "    var pass_mouse_events = true;\n",
       "\n",
       "    canvas_div.resizable({\n",
       "        start: function(event, ui) {\n",
       "            pass_mouse_events = false;\n",
       "        },\n",
       "        resize: function(event, ui) {\n",
       "            fig.request_resize(ui.size.width, ui.size.height);\n",
       "        },\n",
       "        stop: function(event, ui) {\n",
       "            pass_mouse_events = true;\n",
       "            fig.request_resize(ui.size.width, ui.size.height);\n",
       "        },\n",
       "    });\n",
       "\n",
       "    function mouse_event_fn(event) {\n",
       "        if (pass_mouse_events)\n",
       "            return fig.mouse_event(event, event['data']);\n",
       "    }\n",
       "\n",
       "    rubberband.mousedown('button_press', mouse_event_fn);\n",
       "    rubberband.mouseup('button_release', mouse_event_fn);\n",
       "    // Throttle sequential mouse events to 1 every 20ms.\n",
       "    rubberband.mousemove('motion_notify', mouse_event_fn);\n",
       "\n",
       "    rubberband.mouseenter('figure_enter', mouse_event_fn);\n",
       "    rubberband.mouseleave('figure_leave', mouse_event_fn);\n",
       "\n",
       "    canvas_div.on(\"wheel\", function (event) {\n",
       "        event = event.originalEvent;\n",
       "        event['data'] = 'scroll'\n",
       "        if (event.deltaY < 0) {\n",
       "            event.step = 1;\n",
       "        } else {\n",
       "            event.step = -1;\n",
       "        }\n",
       "        mouse_event_fn(event);\n",
       "    });\n",
       "\n",
       "    canvas_div.append(canvas);\n",
       "    canvas_div.append(rubberband);\n",
       "\n",
       "    this.rubberband = rubberband;\n",
       "    this.rubberband_canvas = rubberband[0];\n",
       "    this.rubberband_context = rubberband[0].getContext(\"2d\");\n",
       "    this.rubberband_context.strokeStyle = \"#000000\";\n",
       "\n",
       "    this._resize_canvas = function(width, height) {\n",
       "        // Keep the size of the canvas, canvas container, and rubber band\n",
       "        // canvas in synch.\n",
       "        canvas_div.css('width', width)\n",
       "        canvas_div.css('height', height)\n",
       "\n",
       "        canvas.attr('width', width * mpl.ratio);\n",
       "        canvas.attr('height', height * mpl.ratio);\n",
       "        canvas.attr('style', 'width: ' + width + 'px; height: ' + height + 'px;');\n",
       "\n",
       "        rubberband.attr('width', width);\n",
       "        rubberband.attr('height', height);\n",
       "    }\n",
       "\n",
       "    // Set the figure to an initial 600x600px, this will subsequently be updated\n",
       "    // upon first draw.\n",
       "    this._resize_canvas(600, 600);\n",
       "\n",
       "    // Disable right mouse context menu.\n",
       "    $(this.rubberband_canvas).bind(\"contextmenu\",function(e){\n",
       "        return false;\n",
       "    });\n",
       "\n",
       "    function set_focus () {\n",
       "        canvas.focus();\n",
       "        canvas_div.focus();\n",
       "    }\n",
       "\n",
       "    window.setTimeout(set_focus, 100);\n",
       "}\n",
       "\n",
       "mpl.figure.prototype._init_toolbar = function() {\n",
       "    var fig = this;\n",
       "\n",
       "    var nav_element = $('<div/>');\n",
       "    nav_element.attr('style', 'width: 100%');\n",
       "    this.root.append(nav_element);\n",
       "\n",
       "    // Define a callback function for later on.\n",
       "    function toolbar_event(event) {\n",
       "        return fig.toolbar_button_onclick(event['data']);\n",
       "    }\n",
       "    function toolbar_mouse_event(event) {\n",
       "        return fig.toolbar_button_onmouseover(event['data']);\n",
       "    }\n",
       "\n",
       "    for(var toolbar_ind in mpl.toolbar_items) {\n",
       "        var name = mpl.toolbar_items[toolbar_ind][0];\n",
       "        var tooltip = mpl.toolbar_items[toolbar_ind][1];\n",
       "        var image = mpl.toolbar_items[toolbar_ind][2];\n",
       "        var method_name = mpl.toolbar_items[toolbar_ind][3];\n",
       "\n",
       "        if (!name) {\n",
       "            // put a spacer in here.\n",
       "            continue;\n",
       "        }\n",
       "        var button = $('<button/>');\n",
       "        button.addClass('ui-button ui-widget ui-state-default ui-corner-all ' +\n",
       "                        'ui-button-icon-only');\n",
       "        button.attr('role', 'button');\n",
       "        button.attr('aria-disabled', 'false');\n",
       "        button.click(method_name, toolbar_event);\n",
       "        button.mouseover(tooltip, toolbar_mouse_event);\n",
       "\n",
       "        var icon_img = $('<span/>');\n",
       "        icon_img.addClass('ui-button-icon-primary ui-icon');\n",
       "        icon_img.addClass(image);\n",
       "        icon_img.addClass('ui-corner-all');\n",
       "\n",
       "        var tooltip_span = $('<span/>');\n",
       "        tooltip_span.addClass('ui-button-text');\n",
       "        tooltip_span.html(tooltip);\n",
       "\n",
       "        button.append(icon_img);\n",
       "        button.append(tooltip_span);\n",
       "\n",
       "        nav_element.append(button);\n",
       "    }\n",
       "\n",
       "    var fmt_picker_span = $('<span/>');\n",
       "\n",
       "    var fmt_picker = $('<select/>');\n",
       "    fmt_picker.addClass('mpl-toolbar-option ui-widget ui-widget-content');\n",
       "    fmt_picker_span.append(fmt_picker);\n",
       "    nav_element.append(fmt_picker_span);\n",
       "    this.format_dropdown = fmt_picker[0];\n",
       "\n",
       "    for (var ind in mpl.extensions) {\n",
       "        var fmt = mpl.extensions[ind];\n",
       "        var option = $(\n",
       "            '<option/>', {selected: fmt === mpl.default_extension}).html(fmt);\n",
       "        fmt_picker.append(option);\n",
       "    }\n",
       "\n",
       "    // Add hover states to the ui-buttons\n",
       "    $( \".ui-button\" ).hover(\n",
       "        function() { $(this).addClass(\"ui-state-hover\");},\n",
       "        function() { $(this).removeClass(\"ui-state-hover\");}\n",
       "    );\n",
       "\n",
       "    var status_bar = $('<span class=\"mpl-message\"/>');\n",
       "    nav_element.append(status_bar);\n",
       "    this.message = status_bar[0];\n",
       "}\n",
       "\n",
       "mpl.figure.prototype.request_resize = function(x_pixels, y_pixels) {\n",
       "    // Request matplotlib to resize the figure. Matplotlib will then trigger a resize in the client,\n",
       "    // which will in turn request a refresh of the image.\n",
       "    this.send_message('resize', {'width': x_pixels, 'height': y_pixels});\n",
       "}\n",
       "\n",
       "mpl.figure.prototype.send_message = function(type, properties) {\n",
       "    properties['type'] = type;\n",
       "    properties['figure_id'] = this.id;\n",
       "    this.ws.send(JSON.stringify(properties));\n",
       "}\n",
       "\n",
       "mpl.figure.prototype.send_draw_message = function() {\n",
       "    if (!this.waiting) {\n",
       "        this.waiting = true;\n",
       "        this.ws.send(JSON.stringify({type: \"draw\", figure_id: this.id}));\n",
       "    }\n",
       "}\n",
       "\n",
       "\n",
       "mpl.figure.prototype.handle_save = function(fig, msg) {\n",
       "    var format_dropdown = fig.format_dropdown;\n",
       "    var format = format_dropdown.options[format_dropdown.selectedIndex].value;\n",
       "    fig.ondownload(fig, format);\n",
       "}\n",
       "\n",
       "\n",
       "mpl.figure.prototype.handle_resize = function(fig, msg) {\n",
       "    var size = msg['size'];\n",
       "    if (size[0] != fig.canvas.width || size[1] != fig.canvas.height) {\n",
       "        fig._resize_canvas(size[0], size[1]);\n",
       "        fig.send_message(\"refresh\", {});\n",
       "    };\n",
       "}\n",
       "\n",
       "mpl.figure.prototype.handle_rubberband = function(fig, msg) {\n",
       "    var x0 = msg['x0'] / mpl.ratio;\n",
       "    var y0 = (fig.canvas.height - msg['y0']) / mpl.ratio;\n",
       "    var x1 = msg['x1'] / mpl.ratio;\n",
       "    var y1 = (fig.canvas.height - msg['y1']) / mpl.ratio;\n",
       "    x0 = Math.floor(x0) + 0.5;\n",
       "    y0 = Math.floor(y0) + 0.5;\n",
       "    x1 = Math.floor(x1) + 0.5;\n",
       "    y1 = Math.floor(y1) + 0.5;\n",
       "    var min_x = Math.min(x0, x1);\n",
       "    var min_y = Math.min(y0, y1);\n",
       "    var width = Math.abs(x1 - x0);\n",
       "    var height = Math.abs(y1 - y0);\n",
       "\n",
       "    fig.rubberband_context.clearRect(\n",
       "        0, 0, fig.canvas.width, fig.canvas.height);\n",
       "\n",
       "    fig.rubberband_context.strokeRect(min_x, min_y, width, height);\n",
       "}\n",
       "\n",
       "mpl.figure.prototype.handle_figure_label = function(fig, msg) {\n",
       "    // Updates the figure title.\n",
       "    fig.header.textContent = msg['label'];\n",
       "}\n",
       "\n",
       "mpl.figure.prototype.handle_cursor = function(fig, msg) {\n",
       "    var cursor = msg['cursor'];\n",
       "    switch(cursor)\n",
       "    {\n",
       "    case 0:\n",
       "        cursor = 'pointer';\n",
       "        break;\n",
       "    case 1:\n",
       "        cursor = 'default';\n",
       "        break;\n",
       "    case 2:\n",
       "        cursor = 'crosshair';\n",
       "        break;\n",
       "    case 3:\n",
       "        cursor = 'move';\n",
       "        break;\n",
       "    }\n",
       "    fig.rubberband_canvas.style.cursor = cursor;\n",
       "}\n",
       "\n",
       "mpl.figure.prototype.handle_message = function(fig, msg) {\n",
       "    fig.message.textContent = msg['message'];\n",
       "}\n",
       "\n",
       "mpl.figure.prototype.handle_draw = function(fig, msg) {\n",
       "    // Request the server to send over a new figure.\n",
       "    fig.send_draw_message();\n",
       "}\n",
       "\n",
       "mpl.figure.prototype.handle_image_mode = function(fig, msg) {\n",
       "    fig.image_mode = msg['mode'];\n",
       "}\n",
       "\n",
       "mpl.figure.prototype.updated_canvas_event = function() {\n",
       "    // Called whenever the canvas gets updated.\n",
       "    this.send_message(\"ack\", {});\n",
       "}\n",
       "\n",
       "// A function to construct a web socket function for onmessage handling.\n",
       "// Called in the figure constructor.\n",
       "mpl.figure.prototype._make_on_message_function = function(fig) {\n",
       "    return function socket_on_message(evt) {\n",
       "        if (evt.data instanceof Blob) {\n",
       "            /* FIXME: We get \"Resource interpreted as Image but\n",
       "             * transferred with MIME type text/plain:\" errors on\n",
       "             * Chrome.  But how to set the MIME type?  It doesn't seem\n",
       "             * to be part of the websocket stream */\n",
       "            evt.data.type = \"image/png\";\n",
       "\n",
       "            /* Free the memory for the previous frames */\n",
       "            if (fig.imageObj.src) {\n",
       "                (window.URL || window.webkitURL).revokeObjectURL(\n",
       "                    fig.imageObj.src);\n",
       "            }\n",
       "\n",
       "            fig.imageObj.src = (window.URL || window.webkitURL).createObjectURL(\n",
       "                evt.data);\n",
       "            fig.updated_canvas_event();\n",
       "            fig.waiting = false;\n",
       "            return;\n",
       "        }\n",
       "        else if (typeof evt.data === 'string' && evt.data.slice(0, 21) == \"data:image/png;base64\") {\n",
       "            fig.imageObj.src = evt.data;\n",
       "            fig.updated_canvas_event();\n",
       "            fig.waiting = false;\n",
       "            return;\n",
       "        }\n",
       "\n",
       "        var msg = JSON.parse(evt.data);\n",
       "        var msg_type = msg['type'];\n",
       "\n",
       "        // Call the  \"handle_{type}\" callback, which takes\n",
       "        // the figure and JSON message as its only arguments.\n",
       "        try {\n",
       "            var callback = fig[\"handle_\" + msg_type];\n",
       "        } catch (e) {\n",
       "            console.log(\"No handler for the '\" + msg_type + \"' message type: \", msg);\n",
       "            return;\n",
       "        }\n",
       "\n",
       "        if (callback) {\n",
       "            try {\n",
       "                // console.log(\"Handling '\" + msg_type + \"' message: \", msg);\n",
       "                callback(fig, msg);\n",
       "            } catch (e) {\n",
       "                console.log(\"Exception inside the 'handler_\" + msg_type + \"' callback:\", e, e.stack, msg);\n",
       "            }\n",
       "        }\n",
       "    };\n",
       "}\n",
       "\n",
       "// from http://stackoverflow.com/questions/1114465/getting-mouse-location-in-canvas\n",
       "mpl.findpos = function(e) {\n",
       "    //this section is from http://www.quirksmode.org/js/events_properties.html\n",
       "    var targ;\n",
       "    if (!e)\n",
       "        e = window.event;\n",
       "    if (e.target)\n",
       "        targ = e.target;\n",
       "    else if (e.srcElement)\n",
       "        targ = e.srcElement;\n",
       "    if (targ.nodeType == 3) // defeat Safari bug\n",
       "        targ = targ.parentNode;\n",
       "\n",
       "    // jQuery normalizes the pageX and pageY\n",
       "    // pageX,Y are the mouse positions relative to the document\n",
       "    // offset() returns the position of the element relative to the document\n",
       "    var x = e.pageX - $(targ).offset().left;\n",
       "    var y = e.pageY - $(targ).offset().top;\n",
       "\n",
       "    return {\"x\": x, \"y\": y};\n",
       "};\n",
       "\n",
       "/*\n",
       " * return a copy of an object with only non-object keys\n",
       " * we need this to avoid circular references\n",
       " * http://stackoverflow.com/a/24161582/3208463\n",
       " */\n",
       "function simpleKeys (original) {\n",
       "  return Object.keys(original).reduce(function (obj, key) {\n",
       "    if (typeof original[key] !== 'object')\n",
       "        obj[key] = original[key]\n",
       "    return obj;\n",
       "  }, {});\n",
       "}\n",
       "\n",
       "mpl.figure.prototype.mouse_event = function(event, name) {\n",
       "    var canvas_pos = mpl.findpos(event)\n",
       "\n",
       "    if (name === 'button_press')\n",
       "    {\n",
       "        this.canvas.focus();\n",
       "        this.canvas_div.focus();\n",
       "    }\n",
       "\n",
       "    var x = canvas_pos.x * mpl.ratio;\n",
       "    var y = canvas_pos.y * mpl.ratio;\n",
       "\n",
       "    this.send_message(name, {x: x, y: y, button: event.button,\n",
       "                             step: event.step,\n",
       "                             guiEvent: simpleKeys(event)});\n",
       "\n",
       "    /* This prevents the web browser from automatically changing to\n",
       "     * the text insertion cursor when the button is pressed.  We want\n",
       "     * to control all of the cursor setting manually through the\n",
       "     * 'cursor' event from matplotlib */\n",
       "    event.preventDefault();\n",
       "    return false;\n",
       "}\n",
       "\n",
       "mpl.figure.prototype._key_event_extra = function(event, name) {\n",
       "    // Handle any extra behaviour associated with a key event\n",
       "}\n",
       "\n",
       "mpl.figure.prototype.key_event = function(event, name) {\n",
       "\n",
       "    // Prevent repeat events\n",
       "    if (name == 'key_press')\n",
       "    {\n",
       "        if (event.which === this._key)\n",
       "            return;\n",
       "        else\n",
       "            this._key = event.which;\n",
       "    }\n",
       "    if (name == 'key_release')\n",
       "        this._key = null;\n",
       "\n",
       "    var value = '';\n",
       "    if (event.ctrlKey && event.which != 17)\n",
       "        value += \"ctrl+\";\n",
       "    if (event.altKey && event.which != 18)\n",
       "        value += \"alt+\";\n",
       "    if (event.shiftKey && event.which != 16)\n",
       "        value += \"shift+\";\n",
       "\n",
       "    value += 'k';\n",
       "    value += event.which.toString();\n",
       "\n",
       "    this._key_event_extra(event, name);\n",
       "\n",
       "    this.send_message(name, {key: value,\n",
       "                             guiEvent: simpleKeys(event)});\n",
       "    return false;\n",
       "}\n",
       "\n",
       "mpl.figure.prototype.toolbar_button_onclick = function(name) {\n",
       "    if (name == 'download') {\n",
       "        this.handle_save(this, null);\n",
       "    } else {\n",
       "        this.send_message(\"toolbar_button\", {name: name});\n",
       "    }\n",
       "};\n",
       "\n",
       "mpl.figure.prototype.toolbar_button_onmouseover = function(tooltip) {\n",
       "    this.message.textContent = tooltip;\n",
       "};\n",
       "mpl.toolbar_items = [[\"Home\", \"Reset original view\", \"fa fa-home icon-home\", \"home\"], [\"Back\", \"Back to previous view\", \"fa fa-arrow-left icon-arrow-left\", \"back\"], [\"Forward\", \"Forward to next view\", \"fa fa-arrow-right icon-arrow-right\", \"forward\"], [\"\", \"\", \"\", \"\"], [\"Pan\", \"Pan axes with left mouse, zoom with right\", \"fa fa-arrows icon-move\", \"pan\"], [\"Zoom\", \"Zoom to rectangle\", \"fa fa-square-o icon-check-empty\", \"zoom\"], [\"\", \"\", \"\", \"\"], [\"Download\", \"Download plot\", \"fa fa-floppy-o icon-save\", \"download\"]];\n",
       "\n",
       "mpl.extensions = [\"eps\", \"pdf\", \"png\", \"ps\", \"raw\", \"svg\"];\n",
       "\n",
       "mpl.default_extension = \"png\";var comm_websocket_adapter = function(comm) {\n",
       "    // Create a \"websocket\"-like object which calls the given IPython comm\n",
       "    // object with the appropriate methods. Currently this is a non binary\n",
       "    // socket, so there is still some room for performance tuning.\n",
       "    var ws = {};\n",
       "\n",
       "    ws.close = function() {\n",
       "        comm.close()\n",
       "    };\n",
       "    ws.send = function(m) {\n",
       "        //console.log('sending', m);\n",
       "        comm.send(m);\n",
       "    };\n",
       "    // Register the callback with on_msg.\n",
       "    comm.on_msg(function(msg) {\n",
       "        //console.log('receiving', msg['content']['data'], msg);\n",
       "        // Pass the mpl event to the overridden (by mpl) onmessage function.\n",
       "        ws.onmessage(msg['content']['data'])\n",
       "    });\n",
       "    return ws;\n",
       "}\n",
       "\n",
       "mpl.mpl_figure_comm = function(comm, msg) {\n",
       "    // This is the function which gets called when the mpl process\n",
       "    // starts-up an IPython Comm through the \"matplotlib\" channel.\n",
       "\n",
       "    var id = msg.content.data.id;\n",
       "    // Get hold of the div created by the display call when the Comm\n",
       "    // socket was opened in Python.\n",
       "    var element = $(\"#\" + id);\n",
       "    var ws_proxy = comm_websocket_adapter(comm)\n",
       "\n",
       "    function ondownload(figure, format) {\n",
       "        window.open(figure.imageObj.src);\n",
       "    }\n",
       "\n",
       "    var fig = new mpl.figure(id, ws_proxy,\n",
       "                           ondownload,\n",
       "                           element.get(0));\n",
       "\n",
       "    // Call onopen now - mpl needs it, as it is assuming we've passed it a real\n",
       "    // web socket which is closed, not our websocket->open comm proxy.\n",
       "    ws_proxy.onopen();\n",
       "\n",
       "    fig.parent_element = element.get(0);\n",
       "    fig.cell_info = mpl.find_output_cell(\"<div id='\" + id + \"'></div>\");\n",
       "    if (!fig.cell_info) {\n",
       "        console.error(\"Failed to find cell for figure\", id, fig);\n",
       "        return;\n",
       "    }\n",
       "\n",
       "    var output_index = fig.cell_info[2]\n",
       "    var cell = fig.cell_info[0];\n",
       "\n",
       "};\n",
       "\n",
       "mpl.figure.prototype.handle_close = function(fig, msg) {\n",
       "    var width = fig.canvas.width/mpl.ratio\n",
       "    fig.root.unbind('remove')\n",
       "\n",
       "    // Update the output cell to use the data from the current canvas.\n",
       "    fig.push_to_output();\n",
       "    var dataURL = fig.canvas.toDataURL();\n",
       "    // Re-enable the keyboard manager in IPython - without this line, in FF,\n",
       "    // the notebook keyboard shortcuts fail.\n",
       "    IPython.keyboard_manager.enable()\n",
       "    $(fig.parent_element).html('<img src=\"' + dataURL + '\" width=\"' + width + '\">');\n",
       "    fig.close_ws(fig, msg);\n",
       "}\n",
       "\n",
       "mpl.figure.prototype.close_ws = function(fig, msg){\n",
       "    fig.send_message('closing', msg);\n",
       "    // fig.ws.close()\n",
       "}\n",
       "\n",
       "mpl.figure.prototype.push_to_output = function(remove_interactive) {\n",
       "    // Turn the data on the canvas into data in the output cell.\n",
       "    var width = this.canvas.width/mpl.ratio\n",
       "    var dataURL = this.canvas.toDataURL();\n",
       "    this.cell_info[1]['text/html'] = '<img src=\"' + dataURL + '\" width=\"' + width + '\">';\n",
       "}\n",
       "\n",
       "mpl.figure.prototype.updated_canvas_event = function() {\n",
       "    // Tell IPython that the notebook contents must change.\n",
       "    IPython.notebook.set_dirty(true);\n",
       "    this.send_message(\"ack\", {});\n",
       "    var fig = this;\n",
       "    // Wait a second, then push the new image to the DOM so\n",
       "    // that it is saved nicely (might be nice to debounce this).\n",
       "    setTimeout(function () { fig.push_to_output() }, 1000);\n",
       "}\n",
       "\n",
       "mpl.figure.prototype._init_toolbar = function() {\n",
       "    var fig = this;\n",
       "\n",
       "    var nav_element = $('<div/>');\n",
       "    nav_element.attr('style', 'width: 100%');\n",
       "    this.root.append(nav_element);\n",
       "\n",
       "    // Define a callback function for later on.\n",
       "    function toolbar_event(event) {\n",
       "        return fig.toolbar_button_onclick(event['data']);\n",
       "    }\n",
       "    function toolbar_mouse_event(event) {\n",
       "        return fig.toolbar_button_onmouseover(event['data']);\n",
       "    }\n",
       "\n",
       "    for(var toolbar_ind in mpl.toolbar_items){\n",
       "        var name = mpl.toolbar_items[toolbar_ind][0];\n",
       "        var tooltip = mpl.toolbar_items[toolbar_ind][1];\n",
       "        var image = mpl.toolbar_items[toolbar_ind][2];\n",
       "        var method_name = mpl.toolbar_items[toolbar_ind][3];\n",
       "\n",
       "        if (!name) { continue; };\n",
       "\n",
       "        var button = $('<button class=\"btn btn-default\" href=\"#\" title=\"' + name + '\"><i class=\"fa ' + image + ' fa-lg\"></i></button>');\n",
       "        button.click(method_name, toolbar_event);\n",
       "        button.mouseover(tooltip, toolbar_mouse_event);\n",
       "        nav_element.append(button);\n",
       "    }\n",
       "\n",
       "    // Add the status bar.\n",
       "    var status_bar = $('<span class=\"mpl-message\" style=\"text-align:right; float: right;\"/>');\n",
       "    nav_element.append(status_bar);\n",
       "    this.message = status_bar[0];\n",
       "\n",
       "    // Add the close button to the window.\n",
       "    var buttongrp = $('<div class=\"btn-group inline pull-right\"></div>');\n",
       "    var button = $('<button class=\"btn btn-mini btn-primary\" href=\"#\" title=\"Stop Interaction\"><i class=\"fa fa-power-off icon-remove icon-large\"></i></button>');\n",
       "    button.click(function (evt) { fig.handle_close(fig, {}); } );\n",
       "    button.mouseover('Stop Interaction', toolbar_mouse_event);\n",
       "    buttongrp.append(button);\n",
       "    var titlebar = this.root.find($('.ui-dialog-titlebar'));\n",
       "    titlebar.prepend(buttongrp);\n",
       "}\n",
       "\n",
       "mpl.figure.prototype._root_extra_style = function(el){\n",
       "    var fig = this\n",
       "    el.on(\"remove\", function(){\n",
       "\tfig.close_ws(fig, {});\n",
       "    });\n",
       "}\n",
       "\n",
       "mpl.figure.prototype._canvas_extra_style = function(el){\n",
       "    // this is important to make the div 'focusable\n",
       "    el.attr('tabindex', 0)\n",
       "    // reach out to IPython and tell the keyboard manager to turn it's self\n",
       "    // off when our div gets focus\n",
       "\n",
       "    // location in version 3\n",
       "    if (IPython.notebook.keyboard_manager) {\n",
       "        IPython.notebook.keyboard_manager.register_events(el);\n",
       "    }\n",
       "    else {\n",
       "        // location in version 2\n",
       "        IPython.keyboard_manager.register_events(el);\n",
       "    }\n",
       "\n",
       "}\n",
       "\n",
       "mpl.figure.prototype._key_event_extra = function(event, name) {\n",
       "    var manager = IPython.notebook.keyboard_manager;\n",
       "    if (!manager)\n",
       "        manager = IPython.keyboard_manager;\n",
       "\n",
       "    // Check for shift+enter\n",
       "    if (event.shiftKey && event.which == 13) {\n",
       "        this.canvas_div.blur();\n",
       "        event.shiftKey = false;\n",
       "        // Send a \"J\" for go to next cell\n",
       "        event.which = 74;\n",
       "        event.keyCode = 74;\n",
       "        manager.command_mode();\n",
       "        manager.handle_keydown(event);\n",
       "    }\n",
       "}\n",
       "\n",
       "mpl.figure.prototype.handle_save = function(fig, msg) {\n",
       "    fig.ondownload(fig, null);\n",
       "}\n",
       "\n",
       "\n",
       "mpl.find_output_cell = function(html_output) {\n",
       "    // Return the cell and output element which can be found *uniquely* in the notebook.\n",
       "    // Note - this is a bit hacky, but it is done because the \"notebook_saving.Notebook\"\n",
       "    // IPython event is triggered only after the cells have been serialised, which for\n",
       "    // our purposes (turning an active figure into a static one), is too late.\n",
       "    var cells = IPython.notebook.get_cells();\n",
       "    var ncells = cells.length;\n",
       "    for (var i=0; i<ncells; i++) {\n",
       "        var cell = cells[i];\n",
       "        if (cell.cell_type === 'code'){\n",
       "            for (var j=0; j<cell.output_area.outputs.length; j++) {\n",
       "                var data = cell.output_area.outputs[j];\n",
       "                if (data.data) {\n",
       "                    // IPython >= 3 moved mimebundle to data attribute of output\n",
       "                    data = data.data;\n",
       "                }\n",
       "                if (data['text/html'] == html_output) {\n",
       "                    return [cell, data, j];\n",
       "                }\n",
       "            }\n",
       "        }\n",
       "    }\n",
       "}\n",
       "\n",
       "// Register the function which deals with the matplotlib target/channel.\n",
       "// The kernel may be null if the page has been refreshed.\n",
       "if (IPython.notebook.kernel != null) {\n",
       "    IPython.notebook.kernel.comm_manager.register_target('matplotlib', mpl.mpl_figure_comm);\n",
       "}\n"
      ],
      "text/plain": [
       "<IPython.core.display.Javascript object>"
      ]
     },
     "metadata": {},
     "output_type": "display_data"
    },
    {
     "data": {
      "text/html": [
       "<img src=\"data:image/png;base64,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\" width=\"798.75\">"
      ],
      "text/plain": [
       "<IPython.core.display.HTML object>"
      ]
     },
     "metadata": {},
     "output_type": "display_data"
    },
    {
     "data": {
      "image/png": "[encoded data removed]",
      "text/latex": [
       "$\\displaystyle \\left\\{ k : 1, \\  \\tau : 1\\right\\}$"
      ],
      "text/plain": [
       "{k: 1, τ: 1}"
      ]
     },
     "execution_count": 45,
     "metadata": {},
     "output_type": "execute_result"
    }
   ],
   "source": [
    "plt.rcParams['figure.figsize'] = 6, 3\n",
    "g0 = sym.plot(K,(t,0,5),show = False, line_color='green');\n",
    "g1 = sym.plot(ckt, (t,0,5),show = False, line_color='blue')\n",
    "g2 = sym.plot(t*K/T,(t,0,T),show = False, line_color='red');\n",
    "g0.extend(g1)\n",
    "g0.extend(g2)\n",
    "g0.show()\n",
    "kt"
   ]
  },
  {
   "cell_type": "markdown",
   "id": "dcfdc678",
   "metadata": {},
   "source": [
    "### Respesta ante la rampa\n",
    "\n",
    "Si el sistema es excitado con una rampa unitaria, la señal de salida en el dominio de la frecuencia es:\n",
    "\n",
    "\\begin{equation}\n",
    "C(s) = G(s) \\cdot R(s) = \\frac{k}{\\tau s + 1} \\cdot \\frac{1}{s^2}\n",
    "\\end{equation}\n",
    "\n",
    "Observe que esta expresión puede reescrbirse como:\n",
    "\n",
    "\\begin{equation}\n",
    "C(s)= k \\cdot \\left ( \\frac{1}{s^2} - \\frac{\\tau}{s} + \\frac{\\tau^2}{\\tau s + 1} \\right )\n",
    "\\end{equation}\n",
    "\n",
    "La transformada inversa de Laplace permite obtener una expresión para la señal de salida en el dominio del tiempo $c(t)$.\n",
    "\n",
    "\\begin{equation}\n",
    "c(t)= k \\left ( t - \\tau + \\tau e^{-t/\\tau} \\right ) \\epsilon(t)\n",
    "\\end{equation}\n",
    "\n",
    "Observe que:\n",
    "\n",
    "- $c(t)$ se compone de una rampa ($t$), una constante ($\\tau$) y una exponencial ($\\tau e^{-t/\\tau}$).\n",
    "- $c(t<0)=0$ (condción inicial).\n",
    "- A medida que $t\\rightarrow \\infty$, $\\tau e^{-t/\\tau} \\rightarrow 0$, por lo que $\\lim_{t\\rightarrow \\infty} c(t)=k \\left ( t - \\tau \\right )$, es decir hace un seguimiento de la rampa con una desviación que depende de $k$ y $\\tau$.\n",
    "\n",
    "- $\\lim_{t\\rightarrow \\infty} \\frac{dc}{dt} = \\lim_{t\\rightarrow \\infty} k \\left (1 - e^{-t/\\tau} \\right ) = k$\n",
    "\n"
   ]
  },
  {
   "cell_type": "code",
   "execution_count": 10,
   "id": "3b8ffa27",
   "metadata": {},
   "outputs": [
    {
     "data": {
      "image/png": "[encoded data removed]",
      "text/latex": [
       "$\\displaystyle \\frac{k}{s^{2} \\left(s \\tau + 1\\right)}$"
      ],
      "text/plain": [
       "     k      \n",
       "────────────\n",
       " 2          \n",
       "s ⋅(s⋅τ + 1)"
      ]
     },
     "execution_count": 10,
     "metadata": {},
     "output_type": "execute_result"
    }
   ],
   "source": [
    "# la salida se calcula como C(s) = G(s)R(s)\n",
    "C_ramp = G*(1/s**2)\n",
    "C_ramp"
   ]
  },
  {
   "cell_type": "code",
   "execution_count": 11,
   "id": "f33dd041",
   "metadata": {},
   "outputs": [
    {
     "data": {
      "image/png": "[encoded data removed]",
      "text/latex": [
       "$\\displaystyle k t - k \\tau + k \\tau e^{- \\frac{t}{\\tau}}$"
      ],
      "text/plain": [
       "                 -t \n",
       "                 ───\n",
       "                  τ \n",
       "k⋅t - k⋅τ + k⋅τ⋅ℯ   "
      ]
     },
     "execution_count": 11,
     "metadata": {},
     "output_type": "execute_result"
    }
   ],
   "source": [
    "# la salida c_ramp(t) es la transformada inversa de Laplace de C(s)\n",
    "c_ramp = invL(C_ramp)\n",
    "c_ramp"
   ]
  },
  {
   "cell_type": "code",
   "execution_count": 12,
   "id": "95eb828e",
   "metadata": {},
   "outputs": [
    {
     "data": {
      "image/png": "[encoded data removed]",
      "text/latex": [
       "$\\displaystyle 0.9 t - 0.9 + 0.9 e^{- t}$"
      ],
      "text/plain": [
       "                   -t\n",
       "0.9⋅t - 0.9 + 0.9⋅ℯ  "
      ]
     },
     "execution_count": 12,
     "metadata": {},
     "output_type": "execute_result"
    }
   ],
   "source": [
    "# Para valores particulares de k y tau\n",
    "K = 0.9\n",
    "T = 1\n",
    "kt = {k: K, tau: T}\n",
    "c_rampkt = c_ramp.subs(kt)\n",
    "c_rampkt"
   ]
  },
  {
   "cell_type": "code",
   "execution_count": 13,
   "id": "5b82a8e7",
   "metadata": {},
   "outputs": [
    {
     "data": {
      "image/png": "[encoded data removed]",
      "text/plain": [
       "<Figure size 648x216 with 1 Axes>"
      ]
     },
     "metadata": {
      "needs_background": "light"
     },
     "output_type": "display_data"
    },
    {
     "data": {
      "image/png": "[encoded data removed]",
      "text/latex": [
       "$\\displaystyle \\left\\{ k : 0.9, \\  \\tau : 1\\right\\}$"
      ],
      "text/plain": [
       "{k: 0.9, τ: 1}"
      ]
     },
     "execution_count": 13,
     "metadata": {},
     "output_type": "execute_result"
    }
   ],
   "source": [
    "plt.rcParams['figure.figsize'] = 9, 3\n",
    "g0 = sym.plot(t,(t,0,10),show = False, line_color='green');\n",
    "g1 = sym.plot(c_rampkt, (t,0,10),show = False, line_color='blue')\n",
    "g2 = sym.plot(t*K,(t,0,10),show = False, line_color='red');\n",
    "g0.extend(g1)\n",
    "g0.extend(g2)\n",
    "g0.show()\n",
    "kt"
   ]
  },
  {
   "cell_type": "code",
   "execution_count": 50,
   "id": "72f5c59c",
   "metadata": {},
   "outputs": [
    {
     "data": {
      "application/vnd.jupyter.widget-view+json": {
       "model_id": "93a76b1d6bb1487685b0573677bd9654",
       "version_major": 2,
       "version_minor": 0
      },
      "text/plain": [
       "interactive(children=(FloatSlider(value=0.5, description='tau_in', max=3.0, min=-2.0), FloatSlider(value=0.0, …"
      ]
     },
     "metadata": {},
     "output_type": "display_data"
    }
   ],
   "source": [
    "from ipywidgets import interact\n",
    "\n",
    "evalfimpulse = sym.lambdify((k, tau, t), g , 'numpy')\n",
    "evalfstep = sym.lambdify((k, tau, t), c, 'numpy')\n",
    "evalframp = sym.lambdify((k, tau, t), c_ramp, 'numpy')\n",
    "\n",
    "ts = np.linspace(0, 10)\n",
    "def orden1(tau_in, K_in):\n",
    "    plt.figure(figsize=(7, 5))\n",
    "    ax_impulse = plt.subplot2grid((3, 2), (0, 0))\n",
    "    ax_step = plt.subplot2grid((3, 2), (1, 0))\n",
    "    ax_ramp = plt.subplot2grid((3, 2), (2, 0))\n",
    "    ax_complex = plt.subplot2grid((2, 2), (0, 1), rowspan=2)\n",
    "    \n",
    "    \n",
    "    ax_impulse.plot(ts, evalfimpulse(K_in, tau_in, ts))\n",
    "    ax_impulse.set_title('Resp. al impulso')\n",
    "    ax_impulse.set_ylim(0, 10)\n",
    "    \n",
    "    tau_height = 1 - np.exp(-1)\n",
    "    ax_step.set_title('Resp. al escalón')\n",
    "    ax_step.plot(ts, evalfstep(K_in, tau_in, ts),ts,K_in*ts**0)\n",
    "    ax_step.set_ylim(0, 10)\n",
    "    \n",
    "    ax_ramp.set_title('Resp. a la rampa')\n",
    "    ax_ramp.plot(ts, evalframp(K_in, tau_in, ts),ts,K_in*ts)\n",
    "    ax_ramp.set_ylim(0, 100)\n",
    "\n",
    "    \n",
    "    ax_complex.set_title('Polos y ceros')\n",
    "    ax_complex.scatter(-1/tau_in, 0, marker='x', s=30)\n",
    "    ax_complex.axhline(0, color='black')\n",
    "    ax_complex.axvline(0, color='black')\n",
    "    ax_complex.axis([-10, 10, -10, 10])\n",
    "\n",
    "    \n",
    "    \n",
    "def orden11(tau_in, K_in):\n",
    "    plt.figure(figsize=(6, 3))\n",
    "    ax_step = plt.subplot2grid((1, 2), (0, 0))\n",
    "    ax_complex = plt.subplot2grid((1, 2), (0, 1), rowspan=2)\n",
    "    \n",
    "    \n",
    "    tau_height = 1 - np.exp(-1)\n",
    "    ax_step.set_title('Resp. al escalón')\n",
    "    ax_step.plot(ts, evalfstep(K_in, tau_in, ts),ts,K_in*ts**0)\n",
    "    ax_step.set_ylim(-6, 6)\n",
    "    \n",
    "    ax_complex.set_title('Polos y ceros')\n",
    "    ax_complex.scatter(-1/tau_in, 0, marker='x', s=30)\n",
    "    ax_complex.axhline(0, color='black')\n",
    "    ax_complex.axvline(0, color='black')\n",
    "    ax_complex.axis([-5, 5, -5, 5])\n",
    "\n",
    "interact(orden11, tau_in=(-2.0, 3.0), K_in=(-5.0, 5.0));"
   ]
  },
  {
   "cell_type": "markdown",
   "id": "feeec3f5",
   "metadata": {},
   "source": [
    "Una vez analizadas las simulaciones anteriores, comparta sus ideas para obtener modelos de primer orden de forma experimental."
   ]
  },
  {
   "cell_type": "markdown",
   "id": "4fa7cf8d",
   "metadata": {},
   "source": [
    "## Sistemas de segundo orden\n",
    "\n",
    "Considere la siguiente función de transferencia:\n",
    "\n",
    "![bloque](figuras/bloque_frecuencia.PNG)\n",
    "\n",
    "\\begin{equation}\n",
    "G(s) = \\frac{C(s)}{R(s)} = \\frac{a}{b s^2 + c s + d}\n",
    "\\end{equation}\n",
    "\n",
    "Este sistema tiene $4$ parámetros ($a$, $b$, $c$ y $d$), sin embargo, para facilitar el análisis de estos sistemas, puede transformarse la función a su forma canónica al dividir numerador y denominador por $b$.\n",
    "\n",
    "\\begin{equation}\n",
    "G(s) = \\frac{C(s)}{R(s)} = \\frac{\\frac{a}{b}}{\\frac{b}{b} s^2 + \\frac{c}{b} s + \\frac{d}{b}} = \\frac{k\\omega_0^2}{s^2 + 2 \\zeta\\omega_0s + \\omega_0^2}\n",
    "\\end{equation}\n",
    "\n",
    "En la forma canónica, se definen los parámetro como:\n",
    "- $k$: ganancia en estado estacionario.\n",
    "- $\\omega_0$: frecuencia natural.\n",
    "- $\\zeta$: coeficiente de amortiguación."
   ]
  },
  {
   "cell_type": "markdown",
   "id": "043d0971",
   "metadata": {},
   "source": [
    "Considerando que el sistema es estable, puede observarse que:\n",
    "- Este sistema no tiene **ceros**, pues no existe un valor de $s$ que haga que el numerador $k\\omega_0^2$ sea igual a cero.\n",
    "- El sistema tiene dos **polos** ubicados en \n",
    "\n",
    "$$s_1,s_2 =-\\zeta \\omega_0 \\pm \\omega_0\\sqrt{\\zeta^2 - 1}$$\n",
    "\n",
    "Así, deben considerarse 3 casos:\n",
    "1. $\\zeta < 1$, por lo cual $\\sqrt{\\zeta^2 - 1}$ arroja un parte imaginaria y el sistema tiene dos polos complejos conjugados. En este caso, el sistema es **subamortiguado**.\n",
    "\n",
    "2. $\\zeta = 1$, por lo cual $\\sqrt{\\zeta^2 - 1} = 0$ y el sistema tendría dos polos reales repetidos. En este caso, el sistema es **críticamente amortiguado**.\n",
    "\n",
    "3. $\\zeta > 1$, por lo cual $\\sqrt{\\zeta^2 - 1}$ arroja un parte real y el sistema tiene dos polos reales diferentes. En este caso, el sistema es **sobreamortiguado**."
   ]
  },
  {
   "cell_type": "markdown",
   "id": "96c8166c",
   "metadata": {},
   "source": [
    "### Caso subamortiguado\n",
    "\n",
    "La función de transferencia del sistema es:\n",
    "\n",
    "\\begin{equation}\n",
    "G(s) = \\frac{C(s)}{R(s)} = \\frac{k\\omega_0^2}{s^2 + 2 \\zeta\\omega_0s + \\omega_0^2}\n",
    "\\end{equation}\n",
    "\n",
    "En este caso se considera que $\\zeta < 1$, por lo cual $\\sqrt{\\zeta^2 - 1}$ arroja un parte imaginaria y el sistema tiene dos polos complejos conjugados.\n",
    "\n",
    "#### Respuesta al escalón\n",
    "\n",
    "Si el sistema es excitado con un escalón unitario, la señal de salida en el dominio de la frecuencia es:\n",
    "\n",
    "\\begin{equation}\n",
    "C(s) = G(s) \\cdot R(s) = \\frac{k\\omega_0^2}{s^2 + 2 \\zeta\\omega_0s + \\omega_0^2} \\cdot \\frac{1}{s}\n",
    "\\end{equation}\n",
    "\n",
    "Observe que esta expresión puede reescrbirse como:\n",
    "\n",
    "\\begin{equation}\n",
    "C(s)= k \\cdot \\left ( \\frac{1}{s} - \\frac{s + 2\\zeta\\omega_0}{s^2 + 2\\zeta\\omega_0s + \\omega_0^2} \\right )\n",
    "\\end{equation}\n",
    "\n",
    "Suponiendo que la parte imaginaria de los polos es $\\omega_d = \\omega_0\\sqrt{1-\\zeta^2}$, la respuesta se puede reescribir como:\n",
    "\n",
    "\\begin{equation}\n",
    "C(s)= k \\cdot \\left ( \\frac{1}{s} - \\frac{s + \\zeta\\omega_0}{(s+\\zeta\\omega_0)^2 + \\omega_d^2} - \\frac{\\zeta\\omega_0}{(s+\\zeta\\omega_0)^2 + \\omega_d^2} \\right )\n",
    "\\end{equation}\n",
    "\n",
    "La transformada inversa de Laplace permite obtener una expresión para la señal de salida en el dominio del tiempo $c(t)$.\n",
    "\n",
    "\\begin{align}\n",
    "c(t) &= k \\left ( 1 - e^{-\\zeta\\omega_0 t} \\cos{\\omega_d t} - \\frac{\\zeta\\omega_0}{\\omega_d}e^{-\\zeta\\omega_0 t} \\sin{\\omega_d t}\\right ) \\epsilon(t) \\\\\n",
    "&= k \\left ( 1 - e^{-\\zeta\\omega_0 t} \\cos{\\omega_d t} - \\frac{\\zeta}{\\sqrt{1-\\zeta^2}}e^{-\\zeta\\omega_0 t} \\sin{\\omega_d t}\\right ) \\epsilon(t) \\\\\n",
    "&= k \\left ( 1 - \\frac{e^{-\\zeta\\omega_0 t}}{\\sqrt{1-\\zeta^2}} \\sin \\left (\\omega_d t + \\tan^{-1} \\frac{\\sqrt{1-\\zeta^2}}{\\zeta} \\right )\\right ) \\epsilon(t) \\\\\n",
    "&= k \\left ( 1 - \\frac{e^{-\\zeta\\omega_0 t}}{\\sqrt{1-\\zeta^2}} \\sin \\left (\\omega_0 \\sqrt{1-\\zeta^2} t + \\tan^{-1} \\frac{\\sqrt{1-\\zeta^2}}{\\zeta} \\right )\\right ) \\epsilon(t) \n",
    "\\end{align}\n",
    "\n",
    "Observe que:\n",
    "\n",
    "- $c(t<0)=0$ (condción inicial).\n",
    "- $\\lim_{t\\rightarrow \\infty} c(t)=k$ (respuesta estacionaria).\n",
    "- La respuesta transitoria es dominada por $e^{-\\zeta\\omega_0 t}$ siendo modulada por una oscilación cuya frecuencia es $\\omega_d = \\omega_0 \\sqrt{1-\\zeta^2}$.\n",
    "- Si $\\zeta = 0 $, el sistema oscilaría eternamente.\n",
    "- El sistema tiene dos polos ubicado en $s_1,s_2 =-\\zeta \\omega_0 \\pm j \\omega_d$"
   ]
  },
  {
   "cell_type": "code",
   "execution_count": 15,
   "id": "3f83788c",
   "metadata": {},
   "outputs": [
    {
     "data": {
      "image/png": "[encoded data removed]",
      "text/latex": [
       "$\\displaystyle \\frac{k \\omega_{0}^{2}}{\\left(\\omega_{0} \\zeta - 1.0 i \\omega_{d} + s\\right) \\left(\\omega_{0} \\zeta + 1.0 i \\omega_{d} + s\\right)}$"
      ],
      "text/plain": [
       "                        2                    \n",
       "                    k⋅ω₀                     \n",
       "─────────────────────────────────────────────\n",
       "(ω₀⋅ζ - 1.0⋅ⅈ⋅ω_d + s)⋅(ω₀⋅ζ + 1.0⋅ⅈ⋅ω_d + s)"
      ]
     },
     "execution_count": 15,
     "metadata": {},
     "output_type": "execute_result"
    }
   ],
   "source": [
    "k, omega0, zeta, omegad = sym.symbols('k, omega_0, zeta, omega_d',real=True, positive=True)\n",
    "t = sym.symbols('t',real=True, positive=True)\n",
    "wd = {omegad : omega0*sym.sqrt(1-zeta**2)}\n",
    "\n",
    "s = sym.Symbol('s')\n",
    "\n",
    "G2_sub = k*omega0**2/((s + zeta*omega0 + omegad*1j)*(s + zeta*omega0 - omegad*1j))\n",
    "G2_sub # La función de transferencia"
   ]
  },
  {
   "cell_type": "code",
   "execution_count": 16,
   "id": "26e5befd",
   "metadata": {},
   "outputs": [
    {
     "data": {
      "image/png": "[encoded data removed]",
      "text/latex": [
       "$\\displaystyle - \\frac{1.0 k \\omega_{0}^{2} \\left(1.0 \\omega_{0} \\zeta + 0.5 s\\right)}{\\left(\\omega_{0}^{2} \\zeta^{2} + \\omega_{d}^{2}\\right) \\left(0.5 \\omega_{0}^{2} \\zeta^{2} + 1.0 \\omega_{0} s \\zeta + 0.5 \\omega_{d}^{2} + 0.5 s^{2}\\right)} + \\frac{1.0 k \\omega_{0}^{2}}{s \\left(\\omega_{0}^{2} \\zeta^{2} + \\omega_{d}^{2}\\right)}$"
      ],
      "text/plain": [
       "                           2                                                  \n",
       "                   1.0⋅k⋅ω₀ ⋅(1.0⋅ω₀⋅ζ + 0.5⋅s)                       1.0⋅k⋅ω₀\n",
       "- ───────────────────────────────────────────────────────────── + ────────────\n",
       "  ⎛  2  2      2⎞ ⎛      2  2                       2        2⎞     ⎛  2  2   \n",
       "  ⎝ω₀ ⋅ζ  + ω_d ⎠⋅⎝0.5⋅ω₀ ⋅ζ  + 1.0⋅ω₀⋅s⋅ζ + 0.5⋅ω_d  + 0.5⋅s ⎠   s⋅⎝ω₀ ⋅ζ  + \n",
       "\n",
       "2    \n",
       "     \n",
       "─────\n",
       "   2⎞\n",
       "ω_d ⎠"
      ]
     },
     "execution_count": 16,
     "metadata": {},
     "output_type": "execute_result"
    }
   ],
   "source": [
    "G2_sub_step = G2_sub*(1/s) # La respuesta ante el escalón\n",
    "G2_sub_step = G2_sub_step.apart(s)   # Descompone larespuesta al escalón en fracciones parciales\n",
    "G2_sub_step"
   ]
  },
  {
   "cell_type": "code",
   "execution_count": 17,
   "id": "c1d050b6",
   "metadata": {},
   "outputs": [
    {
     "data": {
      "image/png": "[encoded data removed]",
      "text/latex": [
       "$\\displaystyle - \\frac{1.0 k \\zeta e^{- 1.0 \\omega_{0} t \\zeta} \\sin{\\left(1.0 \\omega_{0} t \\sqrt{1 - \\zeta^{2}} \\right)}}{\\sqrt{1 - \\zeta^{2}}} + 1.0 k - 1.0 k e^{- 1.0 \\omega_{0} t \\zeta} \\cos{\\left(1.0 \\omega_{0} t \\sqrt{1 - \\zeta^{2}} \\right)}$"
      ],
      "text/plain": [
       "                          ⎛            ________⎞                              \n",
       "           -1.0⋅ω₀⋅t⋅ζ    ⎜           ╱      2 ⎟                              \n",
       "  1.0⋅k⋅ζ⋅ℯ           ⋅sin⎝1.0⋅ω₀⋅t⋅╲╱  1 - ζ  ⎠                  -1.0⋅ω₀⋅t⋅ζ \n",
       "- ────────────────────────────────────────────── + 1.0⋅k - 1.0⋅k⋅ℯ           ⋅\n",
       "                      ________                                                \n",
       "                     ╱      2                                                 \n",
       "                   ╲╱  1 - ζ                                                  \n",
       "\n",
       "                         \n",
       "   ⎛            ________⎞\n",
       "   ⎜           ╱      2 ⎟\n",
       "cos⎝1.0⋅ω₀⋅t⋅╲╱  1 - ζ  ⎠\n",
       "                         \n",
       "                         \n",
       "                         "
      ]
     },
     "execution_count": 17,
     "metadata": {},
     "output_type": "execute_result"
    }
   ],
   "source": [
    "g2_sub_step = invL(G2_sub_step).subs(wd).factor().simplify()\n",
    "g2_sub_step"
   ]
  },
  {
   "cell_type": "code",
   "execution_count": 18,
   "id": "0e608a65",
   "metadata": {},
   "outputs": [
    {
     "data": {
      "image/png": "[encoded data removed]",
      "text/plain": [
       "<Figure size 648x216 with 1 Axes>"
      ]
     },
     "metadata": {
      "needs_background": "light"
     },
     "output_type": "display_data"
    },
    {
     "data": {
      "text/plain": [
       "<sympy.plotting.plot.Plot at 0x2652dda5438>"
      ]
     },
     "execution_count": 18,
     "metadata": {},
     "output_type": "execute_result"
    }
   ],
   "source": [
    "parametros = {k: -5,omega0: 8, zeta: 0.25}\n",
    "sym.plot(g2_sub_step.subs(parametros),(t,0,10))\n"
   ]
  },
  {
   "cell_type": "markdown",
   "id": "0af1c169",
   "metadata": {},
   "source": [
    "### Caso críticamente amortiguado\n",
    "\n",
    "En este caso se considera que $\\zeta = 1$, por lo cual $\\sqrt{\\zeta^2 - 1}$ arroja un parte imaginaria igual a cero polos reales repetidos. La función de transferencia del sistema queda:\n",
    "\n",
    "\\begin{equation}\n",
    "G(s) = \\frac{C(s)}{R(s)} = \\frac{k\\omega_0^2}{s^2 + 2 \\omega_0s + \\omega_0^2} =  \\frac{k\\omega_0^2}{\\left (s + \\omega_0 \\right )^2}  \n",
    "\\end{equation}\n",
    "\n",
    "\n",
    "#### Respuesta al escalón\n",
    "\n",
    "Si el sistema es excitado con un escalón unitario, la señal de salida en el dominio de la frecuencia es:\n",
    "\n",
    "\\begin{equation}\n",
    "C(s) = G(s) \\cdot R(s) = \\frac{k\\omega_0^2}{\\left (s + \\omega_0 \\right )^2} \\cdot \\frac{1}{s}\n",
    "\\end{equation}\n",
    "\n",
    "Observe que esta expresión puede reescrbirse como:\n",
    "\n",
    "\\begin{equation}\n",
    "C(s)= k \\cdot \\left ( \\frac{1}{s} - \\frac{\\omega_0}{\\left ( s + \\omega_0 \\right )^2} - \\frac{k}{s + \\omega_0} \\right )\n",
    "\\end{equation}\n",
    "\n",
    "Aplicando la transformada inversa se obtiene:\n",
    "\n",
    "\\begin{align}\n",
    "c(t) &= k \\left ( 1 - \\omega_0 t e^{-\\omega_0 t} - e^{-\\omega_0 t} \\right ) \\epsilon(t) \\\\\n",
    "&= k \\left ( 1 - (1 + \\omega_0 t  )e^{-\\omega_0 t} \\right ) \\epsilon(t) \n",
    "\\end{align}\n",
    "\n",
    "\n",
    "- $c(t<0)=0$ (condción inicial).\n",
    "- $\\lim_{t\\rightarrow \\infty} c(t)=k$ (respuesta estacionaria).\n",
    "- La respuesta transitoria es dominada por $(1 + \\omega_0 t  )e^{-\\omega_0 t}$.\n",
    "- El sistema tiene dos polos ubicados en $s_1,s_2 =-\\omega_0$\n"
   ]
  },
  {
   "cell_type": "code",
   "execution_count": 19,
   "id": "67939277",
   "metadata": {},
   "outputs": [
    {
     "data": {
      "image/png": "[encoded data removed]",
      "text/latex": [
       "$\\displaystyle \\frac{k \\omega_{0}^{2}}{\\left(\\omega_{0} + s\\right)^{2}}$"
      ],
      "text/plain": [
       "      2  \n",
       "  k⋅ω₀   \n",
       "─────────\n",
       "        2\n",
       "(ω₀ + s) "
      ]
     },
     "execution_count": 19,
     "metadata": {},
     "output_type": "execute_result"
    }
   ],
   "source": [
    "k, omega0 = sym.symbols('k, omega_0',real=True, positive=True)\n",
    "t = sym.symbols('t',real=True, positive=True)\n",
    "\n",
    "s = sym.Symbol('s')\n",
    "\n",
    "G2_cri = k*omega0**2/(s + omega0)**2\n",
    "G2_cri # La función de transferencia"
   ]
  },
  {
   "cell_type": "code",
   "execution_count": 20,
   "id": "2d3eec79",
   "metadata": {},
   "outputs": [
    {
     "data": {
      "image/png": "[encoded data removed]",
      "text/latex": [
       "$\\displaystyle - \\frac{k \\omega_{0}}{\\left(\\omega_{0} + s\\right)^{2}} - \\frac{k}{\\omega_{0} + s} + \\frac{k}{s}$"
      ],
      "text/plain": [
       "     k⋅ω₀       k      k\n",
       "- ───────── - ────── + ─\n",
       "          2   ω₀ + s   s\n",
       "  (ω₀ + s)              "
      ]
     },
     "execution_count": 20,
     "metadata": {},
     "output_type": "execute_result"
    }
   ],
   "source": [
    "G2_cri_step = G2_cri*(1/s) # La respuesta ante el escalón\n",
    "G2_cri_step = G2_cri_step.apart(s)   # Descompone larespuesta al escalón en fracciones parciales\n",
    "G2_cri_step"
   ]
  },
  {
   "cell_type": "code",
   "execution_count": 21,
   "id": "c6befea4",
   "metadata": {},
   "outputs": [
    {
     "data": {
      "image/png": "[encoded data removed]",
      "text/latex": [
       "$\\displaystyle - k \\left(\\omega_{0} t - e^{\\omega_{0} t} + 1\\right) e^{- \\omega_{0} t}$"
      ],
      "text/plain": [
       "   ⎛        ω₀⋅t    ⎞  -ω₀⋅t\n",
       "-k⋅⎝ω₀⋅t - ℯ     + 1⎠⋅ℯ     "
      ]
     },
     "execution_count": 21,
     "metadata": {},
     "output_type": "execute_result"
    }
   ],
   "source": [
    "g2_cri_step = invL(G2_cri_step).factor().simplify()\n",
    "g2_cri_step"
   ]
  },
  {
   "cell_type": "code",
   "execution_count": 22,
   "id": "403a3d9c",
   "metadata": {},
   "outputs": [
    {
     "data": {
      "image/png": "[encoded data removed]",
      "text/plain": [
       "<Figure size 648x216 with 1 Axes>"
      ]
     },
     "metadata": {
      "needs_background": "light"
     },
     "output_type": "display_data"
    },
    {
     "data": {
      "text/plain": [
       "<sympy.plotting.plot.Plot at 0x2652e0331d0>"
      ]
     },
     "execution_count": 22,
     "metadata": {},
     "output_type": "execute_result"
    }
   ],
   "source": [
    "parametros = {k: 5,omega0: 6}\n",
    "sym.plot(g2_cri_step.subs(parametros),(t,0,2))"
   ]
  },
  {
   "cell_type": "markdown",
   "id": "5a34b469",
   "metadata": {},
   "source": [
    "### Caso sobreamortiguado\n",
    "\n",
    "En este caso se considera que $\\zeta > 1$, por lo cual $\\sqrt{\\zeta^2 - 1}$ arroja un parte imaginaria igual a cero y polos reales diferentes en $s_1,s_2 = \\omega_0 (-\\zeta  \\pm \\sqrt{\\zeta^2 - 1})$. La función de transferencia del sistema queda:\n",
    "\n",
    "\\begin{equation}\n",
    "G(s) = \\frac{C(s)}{R(s)} = \\frac{k\\omega_0^2}{s^2 + 2 \\zeta \\omega_0s + \\omega_0^2} =  \\frac{k s_1 s_2}{\\left (-s + s_1 \\right ) \\left (-s + s_2 \\right )}  \n",
    "\\end{equation}\n",
    "\n",
    "\n",
    "#### Respuesta al escalón\n",
    "\n",
    "Si el sistema es excitado con un escalón unitario, la señal de salida en el dominio de la frecuencia es:\n",
    "\n",
    "\\begin{equation}\n",
    "C(s) = G(s) \\cdot R(s) = \\frac{k s_1 s_2}{\\left (-s + s_1 \\right ) \\left (-s + s_2 \\right )} \\cdot \\frac{1}{s}\n",
    "\\end{equation}\n",
    "\n",
    "Observe que esta expresión puede reescrbirse como:\n",
    "\n",
    "\\begin{equation}\n",
    "C(s)= k \\cdot \\left ( \\frac{1}{s} - \\frac{s_1}{s_1 - s_2}\\frac{1}{s+s_2} + \\frac{s_2}{s_1 - s_2}\\frac{1}{s+s_1} \\right )\n",
    "\\end{equation}\n",
    "\n",
    "\\begin{equation}\n",
    "C(s)= k \\cdot \\left ( \\frac{1}{s} +  \\frac{1}{s_1 - s_2} \\left (  \\frac{s_1}{s+s_2} + \\frac{s_2}{s+s_1} \\right )  \\right )\n",
    "\\end{equation}\n",
    "\n",
    "Aplicando la transformada inversa se obtiene:\n",
    "\n",
    "\\begin{equation}\n",
    "c(t)= k \\cdot \\left ( 1 +  \\frac{1}{s_1 - s_2} \\left (s_1 e^{-s_2 t} +  s_2 e^{-s_1 t} \\right )  \\right )\n",
    "\\end{equation}\n",
    "\n",
    "\n",
    "- $c(t<0)=0$ (condción inicial).\n",
    "- $\\lim_{t\\rightarrow \\infty} c(t)=k$ (respuesta estacionaria).\n",
    "- La respuesta transitoria es dominada por dos exponenciales reales.\n",
    "- El sistema tiene dos polos reales ubicados en $s_1,s_2 = \\omega_0 (-\\zeta  \\pm \\sqrt{\\zeta^2 - 1})$\n"
   ]
  },
  {
   "cell_type": "code",
   "execution_count": 23,
   "id": "0f4f6795",
   "metadata": {},
   "outputs": [
    {
     "data": {
      "image/png": "[encoded data removed]",
      "text/latex": [
       "$\\displaystyle \\frac{k s_{1} s_{2}}{\\left(- s + s_{1}\\right) \\left(- s + s_{2}\\right)}$"
      ],
      "text/plain": [
       "      k⋅s₁⋅s₂      \n",
       "───────────────────\n",
       "(-s + s₁)⋅(-s + s₂)"
      ]
     },
     "execution_count": 23,
     "metadata": {},
     "output_type": "execute_result"
    }
   ],
   "source": [
    "k, s1,s2,zeta,omega0 = sym.symbols('k, s_1, s_2,\\zeta,\\omega_0',real=True, positive=True)\n",
    "t = sym.symbols('t',real=True, positive=True)\n",
    "\n",
    "s = sym.Symbol('s')\n",
    "\n",
    "G2_sob = k*s1*s2/((-s + s1)*(-s+s2))\n",
    "G2_sob # La función de transferencia"
   ]
  },
  {
   "cell_type": "code",
   "execution_count": 24,
   "id": "ae6175c5",
   "metadata": {},
   "outputs": [
    {
     "data": {
      "image/png": "[encoded data removed]",
      "text/latex": [
       "$\\displaystyle - \\frac{k s_{1}}{\\left(s - s_{2}\\right) \\left(s_{1} - s_{2}\\right)} + \\frac{k s_{2}}{\\left(s - s_{1}\\right) \\left(s_{1} - s_{2}\\right)} + \\frac{k}{s}$"
      ],
      "text/plain": [
       "         k⋅s₁                 k⋅s₂          k\n",
       "- ────────────────── + ────────────────── + ─\n",
       "  (s - s₂)⋅(s₁ - s₂)   (s - s₁)⋅(s₁ - s₂)   s"
      ]
     },
     "execution_count": 24,
     "metadata": {},
     "output_type": "execute_result"
    }
   ],
   "source": [
    "G2_sob_step = G2_sob*(1/s) # La respuesta ante el escalón\n",
    "G2_sob_step = G2_sob_step.apart(s)   # Descompone larespuesta al escalón en fracciones parciales\n",
    "G2_sob_step"
   ]
  },
  {
   "cell_type": "code",
   "execution_count": 25,
   "id": "7e7e2aab",
   "metadata": {},
   "outputs": [
    {
     "data": {
      "image/png": "[encoded data removed]",
      "text/latex": [
       "$\\displaystyle \\frac{k \\left(- s_{1} e^{s_{2} t} + s_{1} + s_{2} e^{s_{1} t} - s_{2}\\right)}{s_{1} - s_{2}}$"
      ],
      "text/plain": [
       "  ⎛      s₂⋅t            s₁⋅t     ⎞\n",
       "k⋅⎝- s₁⋅ℯ     + s₁ + s₂⋅ℯ     - s₂⎠\n",
       "───────────────────────────────────\n",
       "              s₁ - s₂              "
      ]
     },
     "execution_count": 25,
     "metadata": {},
     "output_type": "execute_result"
    }
   ],
   "source": [
    "g2_sob_step = invL(G2_sob_step).factor().simplify()\n",
    "g2_sob_step"
   ]
  },
  {
   "cell_type": "code",
   "execution_count": 26,
   "id": "529cb561",
   "metadata": {
    "scrolled": true
   },
   "outputs": [
    {
     "data": {
      "image/png": "[encoded data removed]",
      "text/latex": [
       "$\\displaystyle \\frac{k \\left(\\left(\\zeta - \\sqrt{\\zeta^{2} - 1}\\right) e^{\\omega_0 t \\left(\\zeta - \\sqrt{\\zeta^{2} - 1}\\right)} - \\left(\\zeta + \\sqrt{\\zeta^{2} - 1}\\right) e^{\\omega_0 t \\left(\\zeta + \\sqrt{\\zeta^{2} - 1}\\right)} + 2 \\sqrt{\\zeta^{2} - 1} e^{2 \\omega_0 \\zeta t}\\right) e^{- 2 \\omega_0 \\zeta t}}{2 \\sqrt{\\zeta^{2} - 1}}$"
      ],
      "text/plain": [
       "  ⎛                                     ⎛           ____________⎞             \n",
       "  ⎜⎛           ____________⎞            ⎜          ╱      2     ⎟   ⎛         \n",
       "  ⎜⎜          ╱      2     ⎟  \\omega₀⋅t⋅⎝\\zeta - ╲╱  \\zeta  - 1 ⎠   ⎜         \n",
       "k⋅⎝⎝\\zeta - ╲╱  \\zeta  - 1 ⎠⋅ℯ                                    - ⎝\\zeta + ╲\n",
       "──────────────────────────────────────────────────────────────────────────────\n",
       "                                                                              \n",
       "                                                                              \n",
       "                                                                              \n",
       "\n",
       "                           ⎛           ____________⎞                          \n",
       "  ____________⎞            ⎜          ╱      2     ⎟        ____________      \n",
       " ╱      2     ⎟  \\omega₀⋅t⋅⎝\\zeta + ╲╱  \\zeta  - 1 ⎠       ╱      2       2⋅\\o\n",
       "╱  \\zeta  - 1 ⎠⋅ℯ                                    + 2⋅╲╱  \\zeta  - 1 ⋅ℯ    \n",
       "──────────────────────────────────────────────────────────────────────────────\n",
       "             ____________                                                     \n",
       "            ╱      2                                                          \n",
       "        2⋅╲╱  \\zeta  - 1                                                      \n",
       "\n",
       "             ⎞                    \n",
       "             ⎟                    \n",
       "mega₀⋅\\zeta⋅t⎟  -2⋅\\omega₀⋅\\zeta⋅t\n",
       "             ⎠⋅ℯ                  \n",
       "──────────────────────────────────\n",
       "                                  \n",
       "                                  \n",
       "                                  "
      ]
     },
     "execution_count": 26,
     "metadata": {},
     "output_type": "execute_result"
    }
   ],
   "source": [
    "s1s2 = {s1: omega0*(-zeta + sym.sqrt(zeta**2-1)) ,s2:  omega0*(-zeta - sym.sqrt(zeta**2-1))}\n",
    "# \\omega_0 (-\\zeta  \\pm \\sqrt{\\zeta^2 - 1})\n",
    "g2_sob_step = g2_sob_step.subs(s1s2).simplify()\n",
    "g2_sob_step"
   ]
  },
  {
   "cell_type": "code",
   "execution_count": 27,
   "id": "a723bbe8",
   "metadata": {},
   "outputs": [
    {
     "data": {
      "image/png": "[encoded data removed]",
      "text/plain": [
       "<Figure size 648x216 with 1 Axes>"
      ]
     },
     "metadata": {
      "needs_background": "light"
     },
     "output_type": "display_data"
    }
   ],
   "source": [
    "parametros1 = {k: 1.0,omega0: 2.0, zeta: 1.1}\n",
    "parametros2 = {k: 1.0,omega0: 2.0, zeta: 2.5}\n",
    "parametros3 = {k: 1.0,omega0: 2.0, zeta: 5}\n",
    "\n",
    "g1 = sym.plot(g2_sob_step.subs(parametros1),\n",
    "              (t,0,10),show=False,line_color='green')\n",
    "g2 = sym.plot(g2_sob_step.subs(parametros2),\n",
    "              (t,0,10),show=False, line_color='blue')\n",
    "g3 = sym.plot(g2_sob_step.subs(parametros3),\n",
    "              (t,0,10),show=False, line_color='red')\n",
    "g1.extend(g2)\n",
    "g1.extend(g3)\n",
    "g1.show()"
   ]
  },
  {
   "cell_type": "markdown",
   "id": "7fdc3bd6",
   "metadata": {},
   "source": [
    "**Pregunta**\n",
    "¿Qué esperaría que ocurra si el coeficiente de amoriguamiento de un sistema de segundo orden es \"muy grande\"?"
   ]
  }
 ],
 "metadata": {
  "kernelspec": {
   "display_name": "Python 3",
   "language": "python",
   "name": "python3"
  },
  "language_info": {
   "codemirror_mode": {
    "name": "ipython",
    "version": 3
   },
   "file_extension": ".py",
   "mimetype": "text/x-python",
   "name": "python",
   "nbconvert_exporter": "python",
   "pygments_lexer": "ipython3",
   "version": "3.7.3"
  },
  "latex_envs": {
   "bibliofile": "biblio.bib",
   "cite_by": "apalike",
   "current_citInitial": 1,
   "eqLabelWithNumbers": true,
   "eqNumInitial": 0
  }
 },
 "nbformat": 4,
 "nbformat_minor": 5
}
