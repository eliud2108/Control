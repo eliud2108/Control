{
 "cells": [
  {
   "cell_type": "code",
   "execution_count": 1,
   "id": "c805950a",
   "metadata": {},
   "outputs": [],
   "source": [
    "# Importe módulos y defina funciones"
   ]
  },
  {
   "cell_type": "markdown",
   "id": "f7a4aaf8",
   "metadata": {},
   "source": [
    "# Ejercicio de identificación de sistemas\n",
    "**Nombres**\n",
    "\n"
   ]
  },
  {
   "cell_type": "markdown",
   "id": "192eebff",
   "metadata": {},
   "source": [
    "A menudo debe realizar experimentos sobre los procesos que va a controlar para obtener datos útiles que conlleven a modelos apropiados para los sistemas. Los datos de estos experimentos se guardan en forma de tablas para posterior análisis.\n",
    "\n",
    "Esta vez se dispone de un modelo en OpenModelica en el archivo `ResisTemp` que puede simularse para generar una tabla de datos.\n",
    "\n",
    "Una tabla de datos generada por el modelo se encuentra en el archivo `DatosResistTemp.csv`."
   ]
  },
  {
   "cell_type": "markdown",
   "id": "b31dcdec",
   "metadata": {},
   "source": [
    "1. Explore la tabla y describa su contenido."
   ]
  },
  {
   "cell_type": "markdown",
   "id": "69820d98",
   "metadata": {},
   "source": [
    "Respuesta\n",
    "\n"
   ]
  },
  {
   "cell_type": "markdown",
   "id": "136cfde4",
   "metadata": {},
   "source": [
    "2. Usando el módulo `pandas`, lea el contenido de la tabla."
   ]
  },
  {
   "cell_type": "code",
   "execution_count": 2,
   "id": "0c8d453f",
   "metadata": {},
   "outputs": [],
   "source": [
    "# Escriba su codigo"
   ]
  },
  {
   "cell_type": "markdown",
   "id": "44142bc1",
   "metadata": {},
   "source": [
    "3. Genere y analice las gráficas correspondientes a las señales de entrada y salida."
   ]
  },
  {
   "cell_type": "code",
   "execution_count": 3,
   "id": "5dd1f8ca",
   "metadata": {},
   "outputs": [],
   "source": [
    "# Su código"
   ]
  },
  {
   "cell_type": "markdown",
   "id": "940bfb19",
   "metadata": {},
   "source": [
    "Su análisis"
   ]
  },
  {
   "cell_type": "markdown",
   "id": "a4efa13e",
   "metadata": {},
   "source": [
    "4. Encuentre un modelo para el sistema explicando el procedimiento."
   ]
  },
  {
   "cell_type": "code",
   "execution_count": 4,
   "id": "c41437fe",
   "metadata": {},
   "outputs": [],
   "source": [
    "# Su código"
   ]
  },
  {
   "cell_type": "markdown",
   "id": "04774b2c",
   "metadata": {},
   "source": [
    "Su análisis"
   ]
  },
  {
   "cell_type": "markdown",
   "id": "4d3ff71a",
   "metadata": {},
   "source": [
    "5. Genere y analice las gráficas de polos y ceros y de respuesta temporal del sistema."
   ]
  },
  {
   "cell_type": "code",
   "execution_count": 5,
   "id": "0e686237",
   "metadata": {},
   "outputs": [],
   "source": [
    "# Su código"
   ]
  },
  {
   "cell_type": "markdown",
   "id": "7eae6855",
   "metadata": {},
   "source": [
    "Su análisis"
   ]
  },
  {
   "cell_type": "markdown",
   "id": "e73170dc",
   "metadata": {},
   "source": [
    "6. Conclusiones"
   ]
  }
 ],
 "metadata": {
  "kernelspec": {
   "display_name": "Python 3",
   "language": "python",
   "name": "python3"
  },
  "language_info": {
   "codemirror_mode": {
    "name": "ipython",
    "version": 3
   },
   "file_extension": ".py",
   "mimetype": "text/x-python",
   "name": "python",
   "nbconvert_exporter": "python",
   "pygments_lexer": "ipython3",
   "version": "3.7.3"
  },
  "latex_envs": {
   "bibliofile": "biblio.bib",
   "cite_by": "apalike",
   "current_citInitial": 1,
   "eqLabelWithNumbers": true,
   "eqNumInitial": 0
  }
 },
 "nbformat": 4,
 "nbformat_minor": 5
}
