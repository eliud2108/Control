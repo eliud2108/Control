{
 "cells": [
  {
   "cell_type": "code",
   "execution_count": 23,
   "id": "25964de8",
   "metadata": {
    "scrolled": true
   },
   "outputs": [
    {
     "name": "stdout",
     "output_type": "stream",
     "text": [
      "Requirement already satisfied: python-snap7==0.5 in c:\\users\\usuario\\.conda\\envs\\sistdin\\lib\\site-packages (0.5)\n",
      "Requirement already satisfied: keyboard in c:\\users\\usuario\\.conda\\envs\\sistdin\\lib\\site-packages (0.13.5)\n"
     ]
    }
   ],
   "source": [
    "!pip install python-snap7==0.5\n",
    "# va en version 1.1\n",
    "!pip install keyboard \n",
    "import snap7.client as c\n",
    "from snap7.util import * #set_int   set_bool\n",
    "from snap7.snap7types import * # areas\n",
    "import time\n",
    "import keyboard  # using module keyboard\n",
    "import os\n",
    "import math\n"
   ]
  },
  {
   "cell_type": "code",
   "execution_count": 29,
   "id": "1068da4a",
   "metadata": {
    "scrolled": false
   },
   "outputs": [],
   "source": [
    "#Conexión con el PLC\n",
    "plc = c.Client()\n",
    "IP_PLC = '192.168.0.1'"
   ]
  },
  {
   "cell_type": "code",
   "execution_count": 31,
   "id": "4c26655b",
   "metadata": {},
   "outputs": [
    {
     "name": "stdout",
     "output_type": "stream",
     "text": [
      "<snap7.client.Client object at 0x00000215C31C8DA0>\n"
     ]
    }
   ],
   "source": [
    "print(plc)"
   ]
  },
  {
   "cell_type": "code",
   "execution_count": null,
   "id": "0f3263de",
   "metadata": {},
   "outputs": [],
   "source": [
    "try:\n",
    "    plc.connect(IP_PLC,0,1)\n",
    "    print(\"Conectado\")\n",
    "except:\n",
    "    print(\"Algo no funcionó\")"
   ]
  },
  {
   "cell_type": "code",
   "execution_count": null,
   "id": "75ee6d0b",
   "metadata": {},
   "outputs": [],
   "source": [
    "#Presión \t    IW96\n",
    "#Flujo\t\t    IW98\n",
    "#Nivel\t\t    IW100\n",
    "#Run Bomba\t    Q0.5\n",
    "#Bomba\t\t    QW80\n",
    "#Válvula H20\tQW96\n",
    "\n",
    "#ESCRIBIR SALIDA BOOLEANA\n",
    "def escr_sal_bool(byte, bit, valor):\n",
    "    lectura = plc.ab_read(byte, bit)\n",
    "    set_bool(lectura, byte, bit, valor)\n",
    "    plc.ab_write(0, lectura)\n",
    "    return\n",
    "#escr_sal_bool(0,1,1)\n",
    "\n",
    "#ESCRIBIR SALIDA ENTERO\n",
    "def escr_sal_ent(byte,valor):\n",
    "    lectura = plc.read_area(areas['PA'], 0, byte, 2) #PA: salidas, 0: bloque de datos, dirección, # bytes.\n",
    "    print(lectura)\n",
    "    set_int(lectura, 0, valor)  # se da formato al valor deseado, en este caso entero\n",
    "    plc.write_area(areas['PA'], 0, byte, lectura)  # Escribe en la dirección definida\n",
    "#escr_sal_ent(90,9000)\n",
    "\n",
    "\n",
    "\n",
    "#LEER MARCA ENTERA\n",
    "def leer_ent_ent(byte):\n",
    "    leer = plc.read_area(areas['PE'],0,byte,2) #PE: entradas, 0: bloque de datos, dirección, # bytes.\n",
    "    leer_ent = get_int(leer,0) #Comando get_int(_bytearray, byte_index)\n",
    "    return leer_ent\n",
    "#lectura = leer_mk_ent(90)\n",
    "#print(lectura)\n",
    "\n"
   ]
  },
  {
   "cell_type": "code",
   "execution_count": null,
   "id": "e451acff",
   "metadata": {},
   "outputs": [],
   "source": [
    "#Activar run de la Bomba (salida Q0.5)\n",
    "escr_sal_bool(0,5,1) #Habilitar RUN motobomba\n",
    "\n",
    "#Poner bomba en 60Hz salida QW80\n",
    "motobombaHz = 0\n",
    "motobomba = motobombaHz * (22118 / 60) + 5530\n",
    "escr_sal_ent(80,motobomba)\n",
    "\n",
    "#Abrir válvula al 100% salida QW96\n",
    "valvulap = 0\n",
    "valvula = ((7800 / 71.5) * (valvulap - 7.4)) + 6200\n",
    "escr_sal_ent(96,valvula)"
   ]
  },
  {
   "cell_type": "code",
   "execution_count": null,
   "id": "4c48cdf1",
   "metadata": {},
   "outputs": [],
   "source": [
    "#INICIO DEL PROGRAMA\n",
    "while True:  # making a loop\n",
    "    try:  # used try so that if user pressed other than the given key error will not be shown\n",
    "        if keyboard.is_pressed('q'):  # if key 'q' is pressed\n",
    "            print('You Pressed Q which means \"Exit\"!')\n",
    "            break  # finishing the loop\n",
    "        elif keyboard.is_pressed('w'):\n",
    "            motobombaHz += 5\n",
    "        elif keyboard.is_pressed('s'):\n",
    "            motobombaHz -= 5\n",
    "        if motobombaHz > 60:\n",
    "            motobombaHz = 60\n",
    "        elif motobombaHz < 0:\n",
    "            motobombaHz = 0\n",
    "        elif keyboard.is_pressed('e'):\n",
    "            valvulap += 10\n",
    "        elif keyboard.is_pressed('d'):\n",
    "            valvulap -= 10\n",
    "        if valvulap > 100:\n",
    "            valvulap = 100\n",
    "        elif valvulap < 0:\n",
    "            valvulap = 0\n",
    "\n",
    "        # Lectura nivel\n",
    "        nivelplc = leer_ent_ent(100)\n",
    "        nivelcm = ((60 / 15105) * (nivelplc - 10125)) + 20\n",
    "\n",
    "        # Escritura de válvula\n",
    "        valvula = ((7800 / 71.5) * (valvulap - 7.4)) + 6200\n",
    "        escr_sal_ent(96, valvula)\n",
    "\n",
    "        # Escritura bomba\n",
    "        motobomba = motobombaHz * (22118 / 60) + 5530\n",
    "        escr_sal_ent(80, motobomba)\n",
    "\n",
    "    except:\n",
    "        break\n",
    "    time.sleep(0.5)\n",
    "    clear() #Se limpia la pantalla para presentar los datos organizados.\n",
    "    print(\"Motobomba: W incrementa, S decrementa -- Valvula: E incrementa, D decremennta -- Q: Salir\")\n",
    "    print(\"Nivel: {0:.2f}\".format(nivelcm))\n",
    "    print(\"Motobomba: {0:.2f}\".format(motobombaHz))\n",
    "    print(\"Valvula: {0:.2f}\".format(valvulap))"
   ]
  }
 ],
 "metadata": {
  "kernelspec": {
   "display_name": "Python 3",
   "language": "python",
   "name": "python3"
  },
  "language_info": {
   "codemirror_mode": {
    "name": "ipython",
    "version": 3
   },
   "file_extension": ".py",
   "mimetype": "text/x-python",
   "name": "python",
   "nbconvert_exporter": "python",
   "pygments_lexer": "ipython3",
   "version": "3.7.3"
  },
  "latex_envs": {
   "bibliofile": "biblio.bib",
   "cite_by": "apalike",
   "current_citInitial": 1,
   "eqLabelWithNumbers": true,
   "eqNumInitial": 0
  }
 },
 "nbformat": 4,
 "nbformat_minor": 5
}
