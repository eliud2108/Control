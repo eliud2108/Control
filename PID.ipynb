{
 "cells": [
  {
   "cell_type": "code",
   "execution_count": 1,
   "id": "b68bc8fe",
   "metadata": {},
   "outputs": [],
   "source": [
    "import sympy \n",
    "sympy.init_printing()\n",
    "%matplotlib inline\n",
    "\n",
    "import pandas as pd\n",
    "import numpy as np\n",
    "import matplotlib.pyplot as plt\n",
    "import control\n",
    "\n",
    "\n",
    "import scipy.optimize\n",
    "from tbcontrol.responses import fopdt, sopdt\n",
    "from ipywidgets import interact\n",
    "\n",
    "def resultplot1(K, tau, theta, y0):\n",
    "    plt.figure(figsize=(21, 7))\n",
    "    plt.scatter(ts, ym)\n",
    "    plt.plot(ts, fopdt(ts, K, tau, theta, y0), color='red')\n",
    "    plt.grid(True)\n",
    "\n",
    "def resultplot2(K, tau, zeta, theta, y0):\n",
    "    plt.figure(figsize=(21, 7))\n",
    "    plt.scatter(ts, ym)\n",
    "    plt.plot(ts, sopdt(ts, K, tau, zeta,theta, y0), color='red')\n",
    "    plt.grid(True)\n",
    "    \n"
   ]
  },
  {
   "cell_type": "markdown",
   "id": "a181595b",
   "metadata": {},
   "source": [
    "# PID\n",
    "\n",
    "El controlador PID se compone de:\n",
    "- Una acción Proporcional para brindar velocidad de respuesta y disminuir el error de estado estable\n",
    "- Una acción Integral para eliminar el error de estado estable\n",
    "- Una acción Derivativa para encargarse de errores cuando hay un cambio en el valor absoluto del error teniendo en cuenta que si el error es constante, solo actúan los modos proporcional e integral. \n",
    "\n",
    "La función de transferencia del PID es:\n",
    "\n",
    "$$K_C\\left ( 1 + \\frac{1}{\\tau_I s}+ \\tau_D s \\right )$$\n",
    "\n",
    "La forma anterior no es realizable debido a la acción derivativa. Por esta razon, es común usar la forma:\n",
    "\n",
    "$$K_C\\left ( 1 + \\frac{1}{\\tau_I s}+ \\frac{\\tau_D s}{\\alpha \\tau_I s+1} \\right )$$\n",
    "\n",
    "donde se escoge $\\alpha$ de manera que la parte derivativa sea una \"buena\" aproximación de la derivada.\n",
    "\n"
   ]
  },
  {
   "cell_type": "markdown",
   "id": "c37a3e2d",
   "metadata": {},
   "source": [
    "## Diseño directo\n",
    "\n",
    "Esta técnica parte del supuesto de definir el comportamiento deseado para el sistema en lazo cerrado, escribir una función de transferencia de lazo cerrado de una forma apropiada y despejar el compensador\n",
    "\n",
    "<img src=\"figuras/standard_feedback.png\" width=500em>\n",
    "\n",
    "Partiendo del diagrama anterior, se define la relación deseada para $\\frac{Y}{Y_{SP}}$ considerando $D=0$. Después se despeja $G_C$."
   ]
  },
  {
   "cell_type": "code",
   "execution_count": 2,
   "id": "a3fc6fe5",
   "metadata": {},
   "outputs": [
    {
     "data": {
      "image/png": "[encoded data removed]",
      "text/latex": [
       "$\\displaystyle G_{C}$"
      ],
      "text/plain": [
       "G_C"
      ]
     },
     "execution_count": 2,
     "metadata": {},
     "output_type": "execute_result"
    }
   ],
   "source": [
    "s, G_C = sympy.symbols('s, G_C')\n",
    "G_C"
   ]
  },
  {
   "cell_type": "markdown",
   "id": "edea2fb8",
   "metadata": {},
   "source": [
    "Se parte de un modelo de primer orden más tiempo muerto como expresión deseada de $\\frac{Y}{Y_{SP}}$."
   ]
  },
  {
   "cell_type": "code",
   "execution_count": 3,
   "id": "2b8f4dda",
   "metadata": {
    "scrolled": true
   },
   "outputs": [
    {
     "data": {
      "image/png": "[encoded data removed]",
      "text/latex": [
       "$\\displaystyle \\frac{e^{\\phi s}}{s \\tau_{c} + 1}$"
      ],
      "text/plain": [
       "    φ⋅s  \n",
       "   ℯ     \n",
       "─────────\n",
       "s⋅τ_c + 1"
      ]
     },
     "execution_count": 3,
     "metadata": {},
     "output_type": "execute_result"
    }
   ],
   "source": [
    "tau_c, phi = sympy.symbols('tau_c, phi', positive=True, nonzero=True)\n",
    "desired_Y_over_Y_sp = sympy.exp(phi*s)/(tau_c*s + 1)\n",
    "desired_Y_over_Y_sp"
   ]
  },
  {
   "cell_type": "markdown",
   "id": "d766e9bb",
   "metadata": {},
   "source": [
    "Recuerde la forma de la respuesta del sistema ante un escalón."
   ]
  },
  {
   "cell_type": "code",
   "execution_count": 4,
   "id": "b756fe3c",
   "metadata": {},
   "outputs": [
    {
     "data": {
      "application/vnd.jupyter.widget-view+json": {
       "model_id": "9452e87247e647be81eb25025f717876",
       "version_major": 2,
       "version_minor": 0
      },
      "text/plain": [
       "interactive(children=(FloatSlider(value=1.5, description='theta', max=3.0), FloatSlider(value=3.0, description…"
      ]
     },
     "metadata": {},
     "output_type": "display_data"
    }
   ],
   "source": [
    "from ipywidgets import interact\n",
    "t = sympy.Symbol('t', positive=True)\n",
    "def plotresponse(theta=(0, 3.), tau_c_in=(1., 5.)):\n",
    "    desired_response = sympy.inverse_laplace_transform(desired_Y_over_Y_sp.subs({phi: -theta, tau_c: tau_c_in})/s, s, t)\n",
    "    p = sympy.plot(desired_response, (t, 0, 10), show=False)\n",
    "    p2 = sympy.plot(1, (t, 0, 10), show=False)\n",
    "    p.append(p2[0])\n",
    "    p.show()\n",
    "interact(plotresponse);"
   ]
  },
  {
   "cell_type": "markdown",
   "id": "7a900cc4",
   "metadata": {},
   "source": [
    "A partir de un modelo aproximado para el proceso $\\widetilde{G_P}$, puede calcularse la función de transferencia de lazo cerrado."
   ]
  },
  {
   "cell_type": "code",
   "execution_count": 5,
   "id": "a2214edb",
   "metadata": {},
   "outputs": [
    {
     "data": {
      "image/png": "[encoded data removed]",
      "text/latex": [
       "$\\displaystyle \\frac{G_{C} \\widetilde{G_P}}{G_{C} \\widetilde{G_P} + 1}$"
      ],
      "text/plain": [
       "  G_C⋅\\widetilde{G_P}  \n",
       "───────────────────────\n",
       "G_C⋅\\widetilde{G_P} + 1"
      ]
     },
     "execution_count": 5,
     "metadata": {},
     "output_type": "execute_result"
    }
   ],
   "source": [
    "GPtilde = sympy.Symbol(r'\\widetilde{G_P}')\n",
    "actual_Y_over_Y_sp = GPtilde*G_C/(1 + GPtilde*G_C)\n",
    "actual_Y_over_Y_sp"
   ]
  },
  {
   "cell_type": "markdown",
   "id": "52acad8c",
   "metadata": {},
   "source": [
    "En este punto, podría encontrarse el compensador al resolver la igualdad con la función de transferencia  deseada para el sistema en lazo cerrado."
   ]
  },
  {
   "cell_type": "code",
   "execution_count": 6,
   "id": "8ee15609",
   "metadata": {},
   "outputs": [
    {
     "data": {
      "image/png": "[encoded data removed]",
      "text/latex": [
       "$\\displaystyle \\frac{e^{\\phi s}}{\\widetilde{G_P} \\left(s \\tau_{c} - e^{\\phi s} + 1\\right)}$"
      ],
      "text/plain": [
       "                φ⋅s               \n",
       "               ℯ                  \n",
       "──────────────────────────────────\n",
       "                ⎛         φ⋅s    ⎞\n",
       "\\widetilde{G_P}⋅⎝s⋅τ_c - ℯ    + 1⎠"
      ]
     },
     "execution_count": 6,
     "metadata": {},
     "output_type": "execute_result"
    }
   ],
   "source": [
    "G_C_solved, = sympy.solve(desired_Y_over_Y_sp - actual_Y_over_Y_sp, G_C)\n",
    "G_C_solved"
   ]
  },
  {
   "cell_type": "markdown",
   "id": "61cdc68e",
   "metadata": {},
   "source": [
    "Esta función de transferencia tiene $e^{\\phi s}$ en el numerador y en el denominador.  \n",
    "- El significado de la exponencial en el numerador es de desplazamiento temporal (tiempo muerto).\n",
    "- El denominador se aproxima mediante una expansión de serie de Taylor de primer orden."
   ]
  },
  {
   "cell_type": "code",
   "execution_count": 7,
   "id": "2f509bed",
   "metadata": {},
   "outputs": [
    {
     "data": {
      "image/png": "[encoded data removed]",
      "text/latex": [
       "$\\displaystyle \\frac{e^{\\phi s}}{\\widetilde{G_P} \\left(- \\phi s + s \\tau_{c}\\right)}$"
      ],
      "text/plain": [
       "              φ⋅s             \n",
       "             ℯ                \n",
       "──────────────────────────────\n",
       "\\widetilde{G_P}⋅(-φ⋅s + s⋅τ_c)"
      ]
     },
     "execution_count": 7,
     "metadata": {},
     "output_type": "execute_result"
    }
   ],
   "source": [
    "denom = sympy.denom(G_C_solved)\n",
    "G_C_rational = G_C_solved*denom/denom.subs(sympy.exp(phi*s), 1 + phi*s)\n",
    "G_C_rational"
   ]
  },
  {
   "cell_type": "markdown",
   "id": "235af09a",
   "metadata": {},
   "source": [
    "Se define la forma para el compensador PID\n",
    "\n",
    "$$K_C\\left ( 1 + \\frac{1}{\\tau_I s}  + \\tau_D s      \\right )$$"
   ]
  },
  {
   "cell_type": "code",
   "execution_count": 8,
   "id": "6f534d4e",
   "metadata": {},
   "outputs": [
    {
     "data": {
      "image/png": "[encoded data removed]",
      "text/latex": [
       "$\\displaystyle \\frac{K_{C} \\left(s^{2} \\tau_{D} \\tau_{I} + s \\tau_{I} + 1\\right)}{s \\tau_{I}}$"
      ],
      "text/plain": [
       "    ⎛ 2                    ⎞\n",
       "K_C⋅⎝s ⋅τ_D⋅τ_I + s⋅τ_I + 1⎠\n",
       "────────────────────────────\n",
       "           s⋅τ_I            "
      ]
     },
     "execution_count": 8,
     "metadata": {},
     "output_type": "execute_result"
    }
   ],
   "source": [
    "K_C, tau_I, tau_D = sympy.symbols('K_C, tau_I, tau_D', positive=True, nonzero=True)\n",
    "PID = K_C*(1 + 1/(tau_I*s) + tau_D*s)\n",
    "PID.expand().together()"
   ]
  },
  {
   "cell_type": "markdown",
   "id": "312bd0b1",
   "metadata": {},
   "source": [
    "Aunque la forma anterior no es realizable debido a la acción derivativa. Por esta razon, es común usar la forma:\n",
    "\n",
    "$$K_C\\left ( 1 + \\frac{1}{\\tau_I s}+ \\frac{\\tau_D s}{\\alpha \\tau_I s+1} \\right )$$"
   ]
  },
  {
   "cell_type": "code",
   "execution_count": 9,
   "id": "768efa79",
   "metadata": {},
   "outputs": [
    {
     "data": {
      "image/png": "[encoded data removed]",
      "text/latex": [
       "$\\displaystyle \\frac{K_{C} \\left(\\alpha s \\tau_{D} + s^{2} \\tau_{D} \\tau_{I} + s \\tau_{I} \\left(\\alpha s \\tau_{D} + 1\\right) + 1\\right)}{s \\tau_{I} \\left(\\alpha s \\tau_{D} + 1\\right)}$"
      ],
      "text/plain": [
       "    ⎛           2                                  ⎞\n",
       "K_C⋅⎝α⋅s⋅τ_D + s ⋅τ_D⋅τ_I + s⋅τ_I⋅(α⋅s⋅τ_D + 1) + 1⎠\n",
       "────────────────────────────────────────────────────\n",
       "                s⋅τ_I⋅(α⋅s⋅τ_D + 1)                 "
      ]
     },
     "execution_count": 9,
     "metadata": {},
     "output_type": "execute_result"
    }
   ],
   "source": [
    "alpha = sympy.symbols('alpha')\n",
    "ISA = K_C*(1 + 1/(tau_I*s) + tau_D*s/(alpha*tau_D*s + 1))\n",
    "ISA.expand().together().simplify()"
   ]
  },
  {
   "cell_type": "markdown",
   "id": "af29b31c",
   "metadata": {},
   "source": [
    "El objetivo es hallar los parámetros del compensador para satisfacer la expresión racional $G_C$"
   ]
  },
  {
   "cell_type": "code",
   "execution_count": 10,
   "id": "dac3b737",
   "metadata": {},
   "outputs": [
    {
     "data": {
      "image/png": "[encoded data removed]",
      "text/latex": [
       "$\\displaystyle \\frac{e^{\\phi s}}{\\widetilde{G_P} \\left(- \\phi s + s \\tau_{c}\\right)}$"
      ],
      "text/plain": [
       "              φ⋅s             \n",
       "             ℯ                \n",
       "──────────────────────────────\n",
       "\\widetilde{G_P}⋅(-φ⋅s + s⋅τ_c)"
      ]
     },
     "execution_count": 10,
     "metadata": {},
     "output_type": "execute_result"
    }
   ],
   "source": [
    "G_C_rational"
   ]
  },
  {
   "cell_type": "markdown",
   "id": "13d54706",
   "metadata": {},
   "source": [
    "Se requiere un modelo de proceso $G$. En este ejemplo se usará un modelo de segundo orden con tiempo muerto."
   ]
  },
  {
   "cell_type": "code",
   "execution_count": 11,
   "id": "47f12324",
   "metadata": {},
   "outputs": [
    {
     "data": {
      "image/png": "[encoded data removed]",
      "text/latex": [
       "$\\displaystyle \\frac{K e^{\\phi s}}{s^{2} \\tau^{2} + 2 s \\tau \\zeta + 1}$"
      ],
      "text/plain": [
       "          φ⋅s      \n",
       "       K⋅ℯ         \n",
       "───────────────────\n",
       " 2  2              \n",
       "s ⋅τ  + 2⋅s⋅τ⋅ζ + 1"
      ]
     },
     "execution_count": 11,
     "metadata": {},
     "output_type": "execute_result"
    }
   ],
   "source": [
    "K, tau, zeta, phi,= sympy.symbols('K, tau, zeta, phi', positive=True)\n",
    "G2 = K*sympy.exp(phi*s)/((tau*s)**2 + 2*tau*zeta*s + 1)\n",
    "G2"
   ]
  },
  {
   "cell_type": "markdown",
   "id": "31efc2fd",
   "metadata": {},
   "source": [
    "Se incorpora el modelo del sistema a la expresión del compensador."
   ]
  },
  {
   "cell_type": "code",
   "execution_count": 12,
   "id": "5112e1be",
   "metadata": {},
   "outputs": [
    {
     "data": {
      "image/png": "[encoded data removed]",
      "text/latex": [
       "$\\displaystyle \\frac{s^{2} \\tau^{2} + 2 s \\tau \\zeta + 1}{K s \\left(- \\phi + \\tau_{c}\\right)}$"
      ],
      "text/plain": [
       " 2  2              \n",
       "s ⋅τ  + 2⋅s⋅τ⋅ζ + 1\n",
       "───────────────────\n",
       "   K⋅s⋅(-φ + τ_c)  "
      ]
     },
     "execution_count": 12,
     "metadata": {},
     "output_type": "execute_result"
    }
   ],
   "source": [
    "target_G_C = G_C_rational.subs(GPtilde, G2).expand().together()\n",
    "target_G_C"
   ]
  },
  {
   "cell_type": "markdown",
   "id": "db957433",
   "metadata": {},
   "source": [
    "Se buscan los parámetros del PID que conformen el compensador despejado."
   ]
  },
  {
   "cell_type": "code",
   "execution_count": 13,
   "id": "b52a2433",
   "metadata": {},
   "outputs": [
    {
     "data": {
      "image/png": "[encoded data removed]",
      "text/latex": [
       "$\\displaystyle - \\frac{K K_{C} \\left(\\phi - \\tau_{c}\\right) \\left(s \\tau_{I} \\left(s \\tau_{D} + 1\\right) + 1\\right) + \\tau_{I} \\left(s^{2} \\tau^{2} + 2 s \\tau \\zeta + 1\\right)}{K s \\tau_{I} \\left(\\phi - \\tau_{c}\\right)}$"
      ],
      "text/plain": [
       " ⎛                                              ⎛ 2  2              ⎞⎞ \n",
       "-⎝K⋅K_C⋅(φ - τ_c)⋅(s⋅τ_I⋅(s⋅τ_D + 1) + 1) + τ_I⋅⎝s ⋅τ  + 2⋅s⋅τ⋅ζ + 1⎠⎠ \n",
       "───────────────────────────────────────────────────────────────────────\n",
       "                           K⋅s⋅τ_I⋅(φ - τ_c)                           "
      ]
     },
     "execution_count": 13,
     "metadata": {},
     "output_type": "execute_result"
    }
   ],
   "source": [
    "# diferencia entre compensadores determinados\n",
    "zeroeq = (target_G_C - PID).simplify()\n",
    "zeroeq"
   ]
  },
  {
   "cell_type": "code",
   "execution_count": 14,
   "id": "fef4a9bc",
   "metadata": {},
   "outputs": [
    {
     "data": {
      "image/png": "[encoded data removed]",
      "text/latex": [
       "$\\displaystyle \\left[ \\left( - \\frac{2 \\tau \\zeta}{K \\left(\\phi - \\tau_{c}\\right)}, \\  \\frac{\\tau}{2 \\zeta}, \\  2 \\tau \\zeta\\right)\\right]$"
      ],
      "text/plain": [
       "⎡⎛  -2⋅τ⋅ζ      τ        ⎞⎤\n",
       "⎢⎜───────────, ───, 2⋅τ⋅ζ⎟⎥\n",
       "⎣⎝K⋅(φ - τ_c)  2⋅ζ       ⎠⎦"
      ]
     },
     "execution_count": 14,
     "metadata": {},
     "output_type": "execute_result"
    }
   ],
   "source": [
    "numer, denom = zeroeq.as_numer_denom()\n",
    "eq = sympy.poly(numer, s)\n",
    "eqs = eq.coeffs()\n",
    "sympy.solve(eqs, [K_C, tau_D, tau_I])"
   ]
  },
  {
   "cell_type": "markdown",
   "id": "22047bd3",
   "metadata": {},
   "source": [
    "La solución obtenida muestra:\n",
    "\n",
    "$$K_C = -\\frac{2\\tau \\zeta}{K(\\phi-\\tau_C)}$$\n",
    "$$\\tau_D = \\frac{\\tau}{2\\zeta}$$\n",
    "$$\\tau_I = 2\\tau\\zeta$$\n",
    "\n",
    "\n",
    "Los parámetros del compensador quedan completamente definidos a partir de un modelo aproximado del proceso\n",
    "\n",
    "$$\\frac{K}{(\\tau s)^2 + 2\\tau \\zeta s + 1} \\cdot e^{s\\phi}$$\n",
    "\n",
    "Y una respuesta deseada\n",
    "\n",
    "$$\\frac{e^{\\phi s}}{\\tau_c s + 1}$$"
   ]
  },
  {
   "cell_type": "markdown",
   "id": "2a5fb562",
   "metadata": {},
   "source": [
    "**Ejemplo**\n",
    "\n",
    "Ajuste un controlador PID para un sistema que fue excitado con un escalón unitario y su respuesta fue registrada."
   ]
  },
  {
   "cell_type": "code",
   "execution_count": 15,
   "id": "27bdd961",
   "metadata": {},
   "outputs": [
    {
     "data": {
      "text/html": [
       "<div>\n",
       "<style scoped>\n",
       "    .dataframe tbody tr th:only-of-type {\n",
       "        vertical-align: middle;\n",
       "    }\n",
       "\n",
       "    .dataframe tbody tr th {\n",
       "        vertical-align: top;\n",
       "    }\n",
       "\n",
       "    .dataframe thead th {\n",
       "        text-align: right;\n",
       "    }\n",
       "</style>\n",
       "<table border=\"1\" class=\"dataframe\">\n",
       "  <thead>\n",
       "    <tr style=\"text-align: right;\">\n",
       "      <th></th>\n",
       "      <th>Unnamed: 0</th>\n",
       "      <th>tiempo</th>\n",
       "      <th>U</th>\n",
       "      <th>Y</th>\n",
       "    </tr>\n",
       "  </thead>\n",
       "  <tbody>\n",
       "    <tr>\n",
       "      <th>0</th>\n",
       "      <td>0</td>\n",
       "      <td>0.000000</td>\n",
       "      <td>1.0</td>\n",
       "      <td>5.011953</td>\n",
       "    </tr>\n",
       "    <tr>\n",
       "      <th>1</th>\n",
       "      <td>1</td>\n",
       "      <td>0.196392</td>\n",
       "      <td>1.0</td>\n",
       "      <td>5.050839</td>\n",
       "    </tr>\n",
       "    <tr>\n",
       "      <th>2</th>\n",
       "      <td>2</td>\n",
       "      <td>0.392785</td>\n",
       "      <td>1.0</td>\n",
       "      <td>5.101922</td>\n",
       "    </tr>\n",
       "    <tr>\n",
       "      <th>3</th>\n",
       "      <td>3</td>\n",
       "      <td>0.589177</td>\n",
       "      <td>1.0</td>\n",
       "      <td>4.996570</td>\n",
       "    </tr>\n",
       "    <tr>\n",
       "      <th>4</th>\n",
       "      <td>4</td>\n",
       "      <td>0.785569</td>\n",
       "      <td>1.0</td>\n",
       "      <td>5.060810</td>\n",
       "    </tr>\n",
       "  </tbody>\n",
       "</table>\n",
       "</div>"
      ],
      "text/plain": [
       "   Unnamed: 0    tiempo    U         Y\n",
       "0           0  0.000000  1.0  5.011953\n",
       "1           1  0.196392  1.0  5.050839\n",
       "2           2  0.392785  1.0  5.101922\n",
       "3           3  0.589177  1.0  4.996570\n",
       "4           4  0.785569  1.0  5.060810"
      ]
     },
     "execution_count": 15,
     "metadata": {},
     "output_type": "execute_result"
    }
   ],
   "source": [
    "GP = control.tf([1, 2], [2, 3, 4, 1])\n",
    "GP\n",
    "df = pd.read_csv('Datos\\DatoEscalon.csv')\n",
    "df.head()"
   ]
  },
  {
   "cell_type": "code",
   "execution_count": 16,
   "id": "c694ba56",
   "metadata": {
    "scrolled": false
   },
   "outputs": [
    {
     "data": {
      "application/vnd.jupyter.widget-view+json": {
       "model_id": "62a178740c8a4042b48b2c1523a5dde3",
       "version_major": 2,
       "version_minor": 0
      },
      "text/plain": [
       "interactive(children=(FloatSlider(value=5.0, description='K', max=10.0), FloatSlider(value=5.0, description='t…"
      ]
     },
     "metadata": {},
     "output_type": "display_data"
    }
   ],
   "source": [
    "ym = df.Y\n",
    "ts = df.tiempo\n",
    "interact(resultplot2, K=(0.0, 10.0), tau=(0., 10.), \n",
    "         theta=(0., 10.), zeta = (0, 10.0), y0=(0., 10.));"
   ]
  },
  {
   "cell_type": "code",
   "execution_count": 17,
   "id": "5eb20f46",
   "metadata": {},
   "outputs": [
    {
     "name": "stderr",
     "output_type": "stream",
     "text": [
      "C:\\Users\\Usuario\\.conda\\envs\\SistDin\\lib\\site-packages\\pandas\\core\\arraylike.py:364: RuntimeWarning: overflow encountered in cosh\n",
      "  result = getattr(ufunc, method)(*inputs, **kwargs)\n",
      "C:\\Users\\Usuario\\.conda\\envs\\SistDin\\lib\\site-packages\\pandas\\core\\arraylike.py:364: RuntimeWarning: overflow encountered in sinh\n",
      "  result = getattr(ufunc, method)(*inputs, **kwargs)\n"
     ]
    },
    {
     "data": {
      "image/png": "[encoded data removed]",
      "text/latex": [
       "$\\displaystyle \\left[ 1.9306664455512301, \\  0.20227941820399675, \\  6.636501909759119, \\  0.733205259516, \\  5.040268529790077\\right]$"
      ],
      "text/plain": [
       "[1.9306664455512301, 0.20227941820399675, 6.636501909759119, 0.733205259516, 5\n",
       ".040268529790077]"
      ]
     },
     "execution_count": 17,
     "metadata": {},
     "output_type": "execute_result"
    }
   ],
   "source": [
    "p_inicial = [2, 1, 1.1, 0.5, 4.9]\n",
    "[K_1, tau_1, zeta_1, theta_1, y0_1], pcov = scipy.optimize.curve_fit(sopdt, ts, ym, p_inicial)\n",
    "[K_1, tau_1, zeta_1, theta_1, y0_1]"
   ]
  },
  {
   "cell_type": "markdown",
   "id": "30d29821",
   "metadata": {},
   "source": [
    "Se define el comportamiento deseado."
   ]
  },
  {
   "cell_type": "code",
   "execution_count": 18,
   "id": "3c383730",
   "metadata": {},
   "outputs": [],
   "source": [
    "tauC = 1.2"
   ]
  },
  {
   "cell_type": "markdown",
   "id": "9318e42a",
   "metadata": {},
   "source": [
    "Se calculan los parámetros del PID "
   ]
  },
  {
   "cell_type": "code",
   "execution_count": 19,
   "id": "84fde4a8",
   "metadata": {},
   "outputs": [
    {
     "data": {
      "image/png": "[encoded data removed]",
      "text/latex": [
       "$\\displaystyle \\left[ \\left( - \\frac{2 \\tau \\zeta}{K \\left(\\phi - \\tau_{c}\\right)}, \\  \\frac{\\tau}{2 \\zeta}, \\  2 \\tau \\zeta\\right)\\right]$"
      ],
      "text/plain": [
       "⎡⎛  -2⋅τ⋅ζ      τ        ⎞⎤\n",
       "⎢⎜───────────, ───, 2⋅τ⋅ζ⎟⎥\n",
       "⎣⎝K⋅(φ - τ_c)  2⋅ζ       ⎠⎦"
      ]
     },
     "execution_count": 19,
     "metadata": {},
     "output_type": "execute_result"
    }
   ],
   "source": [
    "sympy.solve(eqs, [K_C, tau_D, tau_I])"
   ]
  },
  {
   "cell_type": "code",
   "execution_count": 20,
   "id": "bd876b0a",
   "metadata": {},
   "outputs": [
    {
     "data": {
      "image/png": "[encoded data removed]",
      "text/latex": [
       "$\\displaystyle \\left[ 0.7193424644481863, \\  2.6848554904315756, \\  0.015239912604149222\\right]$"
      ],
      "text/plain": [
       "[0.7193424644481863, 2.6848554904315756, 0.015239912604149222]"
      ]
     },
     "execution_count": 20,
     "metadata": {},
     "output_type": "execute_result"
    }
   ],
   "source": [
    "KC1 = -2*tau_1*zeta_1/(K_1*(-theta_1 - tauC))\n",
    "TD1 = tau_1/(2*zeta_1)\n",
    "TI1 = 2*tau_1*zeta_1\n",
    "[KC1,TI1,TD1]"
   ]
  },
  {
   "cell_type": "code",
   "execution_count": 21,
   "id": "a6970d20",
   "metadata": {},
   "outputs": [
    {
     "data": {
      "image/png": "[encoded data removed]",
      "text/latex": [
       "$\\displaystyle \\frac{0.0109627162906437 s^{2} + 0.719342464448186 s + 0.267925952443927}{s}$"
      ],
      "text/plain": [
       "                    2                                          \n",
       "0.0109627162906437⋅s  + 0.719342464448186⋅s + 0.267925952443927\n",
       "───────────────────────────────────────────────────────────────\n",
       "                               s                               "
      ]
     },
     "execution_count": 21,
     "metadata": {},
     "output_type": "execute_result"
    }
   ],
   "source": [
    "PID1 = KC1*(1 + 1/(TI1*s) + TD1*s)\n",
    "PID1.expand().together()"
   ]
  },
  {
   "cell_type": "code",
   "execution_count": 22,
   "id": "cdffdb06",
   "metadata": {},
   "outputs": [
    {
     "data": {
      "text/latex": [
       "$$\\frac{0.02943 s^2 + 1.931 s + 0.7193}{2.685 s}$$"
      ],
      "text/plain": [
       "TransferFunction(array([0.02943331, 1.93133057, 0.71934246]), array([2.68485549, 0.        ]))"
      ]
     },
     "execution_count": 22,
     "metadata": {},
     "output_type": "execute_result"
    }
   ],
   "source": [
    "GC_PID1 = KC1*(1 + control.tf(1,[TI1,0]) + control.tf([TD1,0],1))\n",
    "GC_PID1"
   ]
  },
  {
   "cell_type": "code",
   "execution_count": 23,
   "id": "d17f0849",
   "metadata": {
    "scrolled": true
   },
   "outputs": [
    {
     "data": {
      "image/png": "[encoded data removed]",
      "text/plain": [
       "<Figure size 432x288 with 1 Axes>"
      ]
     },
     "metadata": {
      "needs_background": "light"
     },
     "output_type": "display_data"
    }
   ],
   "source": [
    "_, yLA = control.step_response(GP,ts)\n",
    "_, yLC1 = control.step_response(control.feedback(GP,1),ts)\n",
    "_, yLCPID1 = control.step_response(control.feedback(GC_PID1*GP,1),ts)\n",
    "\n",
    "plt.plot(ts,yLA,\n",
    "         ts,yLC1,\n",
    "         ts,yLCPID1)\n",
    "plt.legend(('Lazo abierto','Realimentado','con PID directo'))\n",
    "plt.grid()\n"
   ]
  },
  {
   "cell_type": "markdown",
   "id": "e2c0c62d",
   "metadata": {},
   "source": [
    "Observe que se presentan oscilaciones aunque la respuesta deseada se modeló como un sistema de primer orden con tiempo muerto. \n",
    "\n",
    "- ¿A qué se debe esta discrepancia?\n",
    "- ¿Qué puntos débiles puede tener esta metodología?"
   ]
  },
  {
   "cell_type": "markdown",
   "id": "ed3714d7",
   "metadata": {},
   "source": [
    "------"
   ]
  },
  {
   "cell_type": "markdown",
   "id": "41073406",
   "metadata": {},
   "source": [
    "## Reglas de sintonía\n",
    "\n",
    "[Ziegler y Nichols](https://controlautomaticoeducacion.com/control-realimentado/ziegler-nichols-sintonia-de-control-pid/) propusieron métodos para sintonizar un controlador PID.\n",
    "\n",
    "### En lazo abierto\n",
    "El método está desarrollado para sistemas cuya respuesta ante un escalón unitario tienen forma de $S$., es decir, sin sobreimpulsos ni dinámicas inestables. En este caso, el sistema puede aproximarse mediante un modelo de primer orden y tiempo muerto:\n",
    "\n",
    "$$\\frac{K}{\\tau s + 1}e^{-Ls}$$\n",
    "\n",
    "\n",
    "como se muestra en la figura.\n",
    "\n",
    "<img src=\"figuras/RespOrden1delay.png\" width=500em>\n",
    "\n",
    "A partir de este modelo, se sugieren los siguientes valores para los compensadores:\n",
    "\n",
    "| Controlador | $K_C$               | $\\tau_I$       | $\\tau_D$ |\n",
    "|-------------|---------------------|----------------|----------|\n",
    "| P           |$\\frac{\\tau}{KL}$    | $\\infty$       | $0$      |\n",
    "| PI          |$0.9\\frac{\\tau}{KL}$ |$\\frac{L}{0.3}$ | $0$      |\n",
    "| PID         |$1.2\\frac{\\tau}{KL}$ |$2L$            | $0.5L$   |\n"
   ]
  },
  {
   "cell_type": "code",
   "execution_count": 24,
   "id": "96d3e34b",
   "metadata": {
    "scrolled": false
   },
   "outputs": [
    {
     "data": {
      "application/vnd.jupyter.widget-view+json": {
       "model_id": "ebc00b50354a4296bfbbb5f48fbc2b98",
       "version_major": 2,
       "version_minor": 0
      },
      "text/plain": [
       "interactive(children=(FloatSlider(value=5.0, description='K', max=10.0), FloatSlider(value=5.0, description='t…"
      ]
     },
     "metadata": {},
     "output_type": "display_data"
    }
   ],
   "source": [
    "ym = df.Y\n",
    "ts = df.tiempo\n",
    "interact(resultplot1, K=(0.0, 10.0), tau=(0., 10.), \n",
    "         theta=(0., 10.), y0=(0., 10.));"
   ]
  },
  {
   "cell_type": "code",
   "execution_count": 25,
   "id": "f2d2c929",
   "metadata": {},
   "outputs": [
    {
     "data": {
      "image/png": "[encoded data removed]",
      "text/latex": [
       "$\\displaystyle \\left[ 1.9306165800735535, \\  2.669599686257164, \\  0.7485895401527703, \\  5.040320985517678\\right]$"
      ],
      "text/plain": [
       "[1.9306165800735535, 2.669599686257164, 0.7485895401527703, 5.040320985517678]"
      ]
     },
     "execution_count": 25,
     "metadata": {},
     "output_type": "execute_result"
    }
   ],
   "source": [
    "p_inicial = [2.0, 1.5, 1.0, 4.9]\n",
    "[K_2, tau_2, theta_2, y0_2], pcov = scipy.optimize.curve_fit(fopdt, ts, ym, p_inicial)\n",
    "[K_2, tau_2, theta_2, y0_2]"
   ]
  },
  {
   "cell_type": "markdown",
   "id": "cda776f9",
   "metadata": {},
   "source": [
    "A partir del modelo, se calculan los parámetros del PID.\n",
    "\n",
    "$$K_C = 1.2 \\frac{\\tau}{KL}$$\n",
    "$$\\tau_I = 2 L$$\n",
    "$$\\tau_D = 0.5 L$$\n"
   ]
  },
  {
   "cell_type": "code",
   "execution_count": 26,
   "id": "f56d76f3",
   "metadata": {},
   "outputs": [
    {
     "data": {
      "image/png": "[encoded data removed]",
      "text/latex": [
       "$\\displaystyle \\left[ 2.216601396641145, \\  0.3742947700763852, \\  1.4971790803055407\\right]$"
      ],
      "text/plain": [
       "[2.216601396641145, 0.3742947700763852, 1.4971790803055407]"
      ]
     },
     "execution_count": 26,
     "metadata": {},
     "output_type": "execute_result"
    }
   ],
   "source": [
    "KC2 = 1.2*tau_2/(K_2*theta_2)\n",
    "TD2 = 2*theta_2\n",
    "TI2 = 0.5*theta_2\n",
    "[KC2,TI2,TD2]"
   ]
  },
  {
   "cell_type": "code",
   "execution_count": 27,
   "id": "b045b557",
   "metadata": {},
   "outputs": [
    {
     "data": {
      "text/latex": [
       "$$\\frac{1.242 s^2 + 0.8297 s + 2.217}{0.3743 s}$$"
      ],
      "text/plain": [
       "TransferFunction(array([1.24215305, 0.82966231, 2.2166014 ]), array([0.37429477, 0.        ]))"
      ]
     },
     "execution_count": 27,
     "metadata": {},
     "output_type": "execute_result"
    }
   ],
   "source": [
    "GC_PID2 = KC2*(1 + control.tf(1,[TI2,0]) + control.tf([TD2,0],1))\n",
    "GC_PID2"
   ]
  },
  {
   "cell_type": "code",
   "execution_count": 28,
   "id": "eddc452c",
   "metadata": {},
   "outputs": [
    {
     "data": {
      "image/png": "[encoded data removed]",
      "text/plain": [
       "<Figure size 432x288 with 1 Axes>"
      ]
     },
     "metadata": {
      "needs_background": "light"
     },
     "output_type": "display_data"
    }
   ],
   "source": [
    "\n",
    "_, yLCPID2 = control.step_response(control.feedback(GC_PID2*GP,1),ts)\n",
    "\n",
    "plt.plot(ts,yLA,\n",
    "         ts,yLC1,\n",
    "         ts,yLCPID1,\n",
    "         ts,yLCPID2)\n",
    "plt.legend(('Lazo abierto','Realimentado','PID directo','ZyN abierto'))\n",
    "plt.grid()\n"
   ]
  },
  {
   "cell_type": "markdown",
   "id": "67925244",
   "metadata": {},
   "source": [
    "### En lazo cerrado\n",
    "El método está desarrollado para sistemas que lleguen a oscilación con al ser realimentados. \n",
    "\n",
    "Se cierra el lazo eliminando las acciones derivativas e integradoras, es decir, se configura \n",
    "\n",
    "$$\\tau_I = \\infty$$ \n",
    "$$\\tau_D = 0$$ \n",
    "\n",
    "Se varía la ganancia proporcional hasta obtener una respuesta en lazo cerrado que sea una oscilación de amplitud constante. \n",
    "\n",
    "- La ganancia del compensador que logra esta respuesta se conoce como ganancia crítica $K_u$.\n",
    "- El periodo de dicha oscilación es el periodo crítico $T_u$.\n",
    "\n",
    "Con estos valores se encuentran los parámetros del PID\n",
    "\n",
    "| Controlador   |\t$K_p$   |\t $\\tau_I$       |  $\\tau_d$     |\n",
    "|---------------|-----------|-------------------|---------------|\n",
    "| P\t            | $0.5K_u$  | \t$\\infty$        |\t$0$         |\n",
    "| PI\t        | $0.45K_u$ |$\\frac{1}{1.2}P_u$ | \t$0 $        |\n",
    "| PID\t        | $0.6K_u$  | $0.5P_u$          |  $0.125P_u$     |\n",
    "\n"
   ]
  },
  {
   "cell_type": "code",
   "execution_count": 29,
   "id": "db64c432",
   "metadata": {},
   "outputs": [
    {
     "data": {
      "application/vnd.jupyter.widget-view+json": {
       "model_id": "3ec4e3051e3343a8855627e569439d8f",
       "version_major": 2,
       "version_minor": 0
      },
      "text/plain": [
       "interactive(children=(FloatSlider(value=10.0, description='K', max=20.0), Output()), _dom_classes=('widget-int…"
      ]
     },
     "metadata": {},
     "output_type": "display_data"
    },
    {
     "data": {
      "text/plain": [
       "<function __main__.resultplotKfeed(K)>"
      ]
     },
     "execution_count": 29,
     "metadata": {},
     "output_type": "execute_result"
    }
   ],
   "source": [
    "def resultplotKfeed(K):\n",
    "    plt.figure(figsize=(21, 7))\n",
    "    ts = np.linspace(0,5,1000)\n",
    "    _, yLCPIDk = control.step_response(control.feedback(K*GP,1),ts)\n",
    "    plt.plot(ts,yLCPIDk)\n",
    "    plt.grid(True)\n",
    "    \n",
    "interact(resultplotKfeed, K=(0.0, 20.0))"
   ]
  },
  {
   "cell_type": "code",
   "execution_count": 30,
   "id": "f04b5baa",
   "metadata": {},
   "outputs": [
    {
     "data": {
      "text/latex": [
       "$$\\frac{38.86 s^2 + 29.61 s + 5.64}{5.25 s}$$"
      ],
      "text/plain": [
       "TransferFunction(array([38.863125, 29.61    ,  5.64    ]), array([5.25, 0.  ]))"
      ]
     },
     "execution_count": 30,
     "metadata": {},
     "output_type": "execute_result"
    }
   ],
   "source": [
    "Ku = 9.4\n",
    "Pu = 10.5\n",
    "KC3 = 0.6*Ku\n",
    "TI3 = 0.5*Pu\n",
    "TD3 = 0.125*Pu\n",
    "GC_PID3 = KC3*(1 + control.tf(1,[TI3,0]) + control.tf([TD3,0],1))\n",
    "GC_PID3"
   ]
  },
  {
   "cell_type": "code",
   "execution_count": 31,
   "id": "0e241da6",
   "metadata": {},
   "outputs": [
    {
     "data": {
      "image/png": "[encoded data removed]",
      "text/plain": [
       "<Figure size 1008x504 with 1 Axes>"
      ]
     },
     "metadata": {
      "needs_background": "light"
     },
     "output_type": "display_data"
    }
   ],
   "source": [
    "_, yLCPID3 = control.step_response(control.feedback(GC_PID3*GP,1),ts)\n",
    "plt.figure(figsize=(14, 7))\n",
    "\n",
    "plt.plot(ts,yLA,\n",
    "         ts,yLC1,\n",
    "         ts,yLCPID1,\n",
    "         ts,yLCPID2,\n",
    "         ts,yLCPID3)\n",
    "plt.legend(('Lazo abierto','Realimentado','PID directo','ZyN abierto','ZyN cerrado'))\n",
    "plt.grid()"
   ]
  },
  {
   "cell_type": "markdown",
   "id": "6ec64fc4",
   "metadata": {},
   "source": [
    "- ¿Cuál es la función de ransferencia en lazo cerrado desde la Referencia hacia le señal de control?\n"
   ]
  },
  {
   "cell_type": "code",
   "execution_count": 32,
   "id": "96eced3e",
   "metadata": {},
   "outputs": [],
   "source": [
    "# código necesario"
   ]
  },
  {
   "cell_type": "markdown",
   "id": "d4905b2a",
   "metadata": {},
   "source": [
    "- ¿Cómo se comportan los distintos controladores ante una señal escalón?"
   ]
  },
  {
   "cell_type": "code",
   "execution_count": 33,
   "id": "8ddd78c3",
   "metadata": {},
   "outputs": [],
   "source": [
    "# código necesario"
   ]
  },
  {
   "cell_type": "markdown",
   "id": "56925c45",
   "metadata": {},
   "source": [
    "## Sintonización basada en criterios integrales\n",
    "\n",
    "El comportamiento de los lazos de control puede evaluarse mediante la señal de error $e(t) = ref(t) - Y(t)$. A continuación algunos índices basados en el error.\n",
    "\n",
    "| Índice                                               |        Definición          |\n",
    "|------------------------------------------------------|------------------------------|\n",
    "| IAE:Integral del valor absoluto del error            |   $$\\int_0^\\infty |e(t)|dt$$ |\n",
    "| ISE:Integral del cuadrado del error                  |   $$\\int_0^\\infty e(t)^2dt$$ |\n",
    "| ITAE:Integral de tiempo por valor absoluto del error |   $$\\int_0^\\infty t|e(t)|dt$$|\n",
    "\n",
    "Una técnica de diseño consiste en encontrar los parámetros de un compensador PID que minimicen alguno de los índices mencionados con base en un modelo para el sistema. Puede explorar más [aquí](https://www.researchgate.net/publication/260058488_METODOS_DE_SINTONIZACION_DE_CONTROLADORES_PID_QUE_OPERAN_COMO_SERVOMECANISMOS), [aquí](https://www.researchgate.net/publication/260058590_Optimizacion_del_desempeno_de_los_reguladores_y_servomecanismos_PID) y [aquí](https://www.researchgate.net/publication/255641510_SINTONIZACION_DE_CONTROLADORES_PI_Y_PID_UTILIZANDO_LOS_CRITERIOS_INTEGRALES_IAE_E_ITAE)\n",
    "\n",
    "\n"
   ]
  },
  {
   "cell_type": "markdown",
   "id": "81e453a5",
   "metadata": {},
   "source": [
    "- Encuentre y simule un controlador PID que minimice el índice ITAE para el sistema"
   ]
  },
  {
   "cell_type": "code",
   "execution_count": 34,
   "id": "1d7b3c61",
   "metadata": {},
   "outputs": [
    {
     "data": {
      "text/latex": [
       "$$\\frac{s + 2}{2 s^3 + 3 s^2 + 4 s + 1}$$"
      ],
      "text/plain": [
       "TransferFunction(array([1, 2]), array([2, 3, 4, 1]))"
      ]
     },
     "execution_count": 34,
     "metadata": {},
     "output_type": "execute_result"
    }
   ],
   "source": [
    "GP"
   ]
  },
  {
   "cell_type": "code",
   "execution_count": 35,
   "id": "dec32dfd",
   "metadata": {},
   "outputs": [],
   "source": [
    "# código necesario"
   ]
  },
  {
   "cell_type": "markdown",
   "id": "bdb04588",
   "metadata": {},
   "source": [
    "- ¿Cómo se comportan los distintos controladores ante una señal escalón?"
   ]
  },
  {
   "cell_type": "code",
   "execution_count": 35,
   "id": "ed998722",
   "metadata": {},
   "outputs": [],
   "source": [
    "# código necesario"
   ]
  }
 ],
 "metadata": {
  "kernelspec": {
   "display_name": "Python 3",
   "language": "python",
   "name": "python3"
  },
  "language_info": {
   "codemirror_mode": {
    "name": "ipython",
    "version": 3
   },
   "file_extension": ".py",
   "mimetype": "text/x-python",
   "name": "python",
   "nbconvert_exporter": "python",
   "pygments_lexer": "ipython3",
   "version": "3.7.3"
  },
  "latex_envs": {
   "bibliofile": "biblio.bib",
   "cite_by": "apalike",
   "current_citInitial": 1,
   "eqLabelWithNumbers": true,
   "eqNumInitial": 0
  }
 },
 "nbformat": 4,
 "nbformat_minor": 5
}
