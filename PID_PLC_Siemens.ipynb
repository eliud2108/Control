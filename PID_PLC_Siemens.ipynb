{
 "cells": [
  {
   "cell_type": "code",
   "execution_count": 5,
   "id": "25964de8",
   "metadata": {
    "scrolled": true
   },
   "outputs": [
    {
     "name": "stdout",
     "output_type": "stream",
     "text": [
      "Requirement already satisfied: python-snap7==0.5 in c:\\users\\usuario\\.conda\\envs\\sistdin\\lib\\site-packages (0.5)\n"
     ]
    }
   ],
   "source": [
    "!pip install python-snap7==0.5\n",
    "# va en version 1.1\n",
    "import snap7.client as c\n",
    "from snap7.util import * #set_int   set_bool\n",
    "from snap7.snap7types import * # areas\n",
    "import time\n",
    "# !pip install keyboard \n",
    "import keyboard  # using module keyboard\n",
    "import os\n",
    "import math\n",
    "import numpy as np\n",
    "import matplotlib.pyplot as plt\n",
    "import pandas as pd"
   ]
  },
  {
   "cell_type": "markdown",
   "id": "4958d302",
   "metadata": {},
   "source": [
    "# Excitación del módulo  multivariable SIEMENS del PCJIC\n",
    "\n",
    "En el laboratorio de automática del Politécnico Colombiano Jaime Isaza Cadavid se encuentra un módulo multivariable que está controlado con un PLC  SIEMENS. Por esta razón, se utiliza el módulo `SNAP7` para interactuar con el PLC desde el notebook.\n",
    "\n",
    "Para instalar `SNAP7`:\n",
    "- Use la instrucción \n",
    "~~~\n",
    "!pip install python-snap7==0.5\n",
    "~~~\n",
    "\n",
    "\n",
    "\n",
    "- Descargue la librería completa de [https://sourceforge.net/projects/snap7/files/1.2.1/](https://sourceforge.net/projects/snap7/files/1.2.1/)\n",
    "\n",
    "- Copie `snap7.dll` y `snap7.lib` a su carpeta `System32`.\n",
    "\n"
   ]
  },
  {
   "cell_type": "markdown",
   "id": "5bf45a62",
   "metadata": {},
   "source": [
    "## 1. Establezca conexión con el PLC.\n",
    "\n",
    "El PLC tiene configurada la dirección IP **192.168.0.1**. Este funcionará como un servidor al cuál debe conectar su PC configurándole una dirección estática dentro de la subred del PLC.  Su dirección puede ser **192.168.0.2**, por ejemplo. Una vez su equipo haya establecido comunicación con el PLC, establezca conexión desde el notebook con las siguientes instrucciones."
   ]
  },
  {
   "cell_type": "code",
   "execution_count": 28,
   "id": "1068da4a",
   "metadata": {
    "scrolled": false
   },
   "outputs": [],
   "source": [
    "#Conexión con el PLC\n",
    "plc = c.Client()\n",
    "IP_PLC = '192.168.0.1'"
   ]
  },
  {
   "cell_type": "code",
   "execution_count": 29,
   "id": "0f3263de",
   "metadata": {},
   "outputs": [
    {
     "name": "stdout",
     "output_type": "stream",
     "text": [
      "Conectado\n"
     ]
    }
   ],
   "source": [
    "try:\n",
    "    plc.connect(IP_PLC,0,1)\n",
    "    print(\"Conectado\")\n",
    "except:\n",
    "    print(\"Algo no funcionó\")"
   ]
  },
  {
   "cell_type": "markdown",
   "id": "b6aed829",
   "metadata": {},
   "source": [
    "## 2. Identifique actuadores y sensores.\n",
    "\n",
    "Con `SNAP7` puede manipular los actuadores del sistema y capturar los datos de los sensores. Se han construido algunas funciones para facilitar la interacción con el PLC. \n",
    "\n",
    "Tenga en cuenta la siguiente información, que le orientará en cómo se ha conectado el sistema al PLC.\n",
    "\n",
    "|Elemento   |  Punto  |\n",
    "|-----------|---------|\n",
    "| Presión \t|    IW96 |\n",
    "| Flujo\t\t|    IW98 |\n",
    "| Nivel\t\t|   IW100 |\n",
    "| Run Bomba\t|    Q0.5 |\n",
    "| Bomba\t\t|    QW80 |\n",
    "| Válvula H20 |  QW96 |"
   ]
  },
  {
   "cell_type": "code",
   "execution_count": 30,
   "id": "75ee6d0b",
   "metadata": {},
   "outputs": [],
   "source": [
    "#ESCRIBIR SALIDA BOOLEANA\n",
    "def escr_sal_bool(byte, bit, valor):\n",
    "    lectura = plc.ab_read(byte, bit)\n",
    "    set_bool(lectura, byte, bit, valor)\n",
    "    plc.ab_write(0, lectura)\n",
    "#escr_sal_bool(0,1,1)\n",
    "\n",
    "#ESCRIBIR SALIDA ENTERO\n",
    "def escr_sal_ent(byte,valor):\n",
    "    lectura = plc.read_area(areas['PA'], 0, byte, 2) #PA: salidas, 0: bloque de datos, dirección, # bytes.\n",
    "    # print(lectura)\n",
    "    set_int(lectura, 0, valor)  # se da formato al valor deseado, en este caso entero\n",
    "    plc.write_area(areas['PA'], 0, byte, lectura)  # Escribe en la dirección definida\n",
    "#escr_sal_ent(90,9000)\n",
    "\n",
    "#LEER MARCA ENTERA\n",
    "def leer_ent_ent(byte):\n",
    "    leer = plc.read_area(areas['PE'],0,byte,2) #PE: entradas, 0: bloque de datos, dirección, # bytes.\n",
    "    leer_ent = get_int(leer,0) #Comando get_int(_bytearray, byte_index)\n",
    "    return leer_ent\n",
    "\n",
    "def AbrirValvulaQW96(valvulap):\n",
    "    # Abre la valvula en QW96 a un porcentaje determinado\n",
    "    valvulap = max([0,valvulap])\n",
    "    valvulap = min([valvulap,100])\n",
    "    valvula = ((7800 / 71.5) * (valvulap - 7.4)) + 6200\n",
    "    escr_sal_ent(96,valvula)\n",
    "    \n",
    "\n",
    "def BombaQW80(motobombaHz):\n",
    "    #Poner bomba en 60Hz salida QW80\n",
    "    motobombaHz = max([0,motobombaHz])\n",
    "    motobombaHz = min([motobombaHz,60]) \n",
    "    motobomba = motobombaHz * (22118 / 60) + 5530\n",
    "    escr_sal_ent(80,motobomba)\n",
    "\n",
    "def leerNivelPLCIW100():\n",
    "    nivelplc = leer_ent_ent(100)\n",
    "    nivelcm = ((60 / 15105) * (nivelplc - 10125)) + 20\n",
    "    # print(nivelplc, nivelcm)\n",
    "    return nivelcm\n",
    "\n",
    "def leerPresionPLCIW96():\n",
    "    presionplc = leer_ent_ent(96)\n",
    "    # 0.64 5679\n",
    "    # 0.4  5623\n",
    "    mp = (0.64-0.4)/(5679-5623)\n",
    "    presion =  mp* presionplc - mp *5623+0.4\n",
    "    # print(presionplc, presion)\n",
    "    return presion\n",
    "\n",
    "\n",
    "def leerFlujoPLCIW98():\n",
    "    flujoplc = leer_ent_ent(98)\n",
    "    # 4.67 8773 \n",
    "    # 16.52  16957 \n",
    "    mf = (4.67-16.52)/(8773-16957)\n",
    "    flujo =  mf* flujoplc - mf *16957+16.52\n",
    "    # print(flujoplc, flujo)\n",
    "    return flujo\n",
    "\n",
    "def leerNada():\n",
    "    return np.random.rand(1)[0]"
   ]
  },
  {
   "cell_type": "markdown",
   "id": "7f38c08f",
   "metadata": {},
   "source": [
    "## 3. Inicie el experimento.\n",
    "\n",
    "El módulo multivariable tiene:\n",
    "- 2 actuadores:\n",
    "    - Motobomba\n",
    "    - Válvula\n",
    "- 3 sensores:\n",
    "    - Flujo\n",
    "    - Presión\n",
    "    - Nivel\n",
    "\n",
    "3.1 Escoja una variable como salida y un actuador para su experimento.\n",
    "\n",
    "3.2 Ponga un punto de operación para el otro actuador.\n",
    "\n",
    "**Establecer un punto para la bomba**\n",
    "~~~\n",
    "BombaQW80(60)\n",
    "~~~\n",
    "\n",
    "**Establecer un punto para la válvula**\n",
    "~~~\n",
    "AbrirValvulaQW96(100)\n",
    "~~~"
   ]
  },
  {
   "cell_type": "code",
   "execution_count": 37,
   "id": "e451acff",
   "metadata": {
    "scrolled": false
   },
   "outputs": [],
   "source": [
    "escr_sal_bool(0,5,1) #Habilitar RUN motobomba\n",
    "# Complete para establecer un punto de operación\n",
    "BombaQW80(60)\n",
    "AbrirValvulaQW96(10)"
   ]
  },
  {
   "cell_type": "markdown",
   "id": "bfa6cc9b",
   "metadata": {},
   "source": [
    "## 5. Defina la entrada del sistema\n",
    "\n",
    "Esta vez se configura una señal de referencia $r(t)$ en forma de un escalón.\n",
    "\n",
    "\\begin{equation}\n",
    "r(t) = \\begin{cases} V_0 & \\forall t<t_0 \\\\  V_f &  \\forall t > t_0 \\end{cases}\n",
    "\\end{equation}\n",
    "\n",
    "Defina:\n",
    "- Duración para el experimento $t_f$\n",
    "- Valor inicial para el actuador $V_0$\n",
    "- Valor final para el actuador $V_f$\n",
    "\n",
    "Recuerde el efecto de discretizar las señales con un tiempo de muestreo $t_m$."
   ]
  },
  {
   "cell_type": "markdown",
   "id": "26c85284",
   "metadata": {},
   "source": [
    "**Señal de referencia $r(t)$**"
   ]
  },
  {
   "cell_type": "code",
   "execution_count": 36,
   "id": "97600fdf",
   "metadata": {},
   "outputs": [
    {
     "data": {
      "text/plain": [
       "[<matplotlib.lines.Line2D at 0x1f48b5b9b00>]"
      ]
     },
     "execution_count": 36,
     "metadata": {},
     "output_type": "execute_result"
    },
    {
     "data": {
      "image/png": "[encoded data removed]",
      "text/plain": [
       "<Figure size 432x288 with 1 Axes>"
      ]
     },
     "metadata": {
      "needs_background": "light"
     },
     "output_type": "display_data"
    }
   ],
   "source": [
    "tm = 0.5 # periodo de muestreo\n",
    "tf = 300 # tiempo final del experimento\n",
    "t = np.linspace(0.0 ,tf, round(tf/tm) + 1)\n",
    "t0,v0,vf = 30,10,20\n",
    "r = np.where(t>=t0,vf,v0)\n",
    "plt.plot(t,r) "
   ]
  },
  {
   "cell_type": "markdown",
   "id": "38e873e6",
   "metadata": {},
   "source": [
    "\n",
    "## 6. Realimente el sistema e implemente el PID\n",
    "\n",
    "\n",
    "\n",
    "- Use los valores definidos para $r(t)$ y las lecturas $y(t)$ del sensor para calcular el error $e(t)$ como:\n",
    "\n",
    "$$e(t)=r(t)-y(t)$$\n",
    "\n",
    "- Envíe hacia el actuador una señal $u(t)$ generada a partir de la señal $e(t)$ como:\n",
    "$$u(t) = k_c \\left ( e(t) + \\frac{1}{\\tau_i} \\int_0 ^t e(\\tau)d\\tau + \\tau_d \\frac{de}{dt}\\right )$$\n",
    "\n",
    "- Guarde la información necesaria. Para esto puede crear un archivo `csv` a partir de un **dataframe**.\n",
    "\n",
    "Para leer los sensores se han definido las siguientes funciones:\n",
    "\n",
    "~~~\n",
    "leerNivelPLCIW100()\n",
    "leerPresionPLCIW96()\n",
    "leerFlujoPLCIW98()\n",
    "~~~"
   ]
  },
  {
   "cell_type": "code",
   "execution_count": 38,
   "id": "5b9327cc",
   "metadata": {
    "scrolled": false
   },
   "outputs": [
    {
     "name": "stdout",
     "output_type": "stream",
     "text": [
      "Para abortar el experimento presione ESPACIO\n"
     ]
    },
    {
     "data": {
      "text/plain": [
       "[<matplotlib.lines.Line2D at 0x1f48b615550>,\n",
       " <matplotlib.lines.Line2D at 0x1f48b6156a0>]"
      ]
     },
     "execution_count": 38,
     "metadata": {},
     "output_type": "execute_result"
    },
    {
     "data": {
      "image/png": "[encoded data removed]",
      "text/plain": [
       "<Figure size 432x288 with 1 Axes>"
      ]
     },
     "metadata": {
      "needs_background": "light"
     },
     "output_type": "display_data"
    }
   ],
   "source": [
    "# Define los parámetros del controlador\n",
    "kc,Ti,Td = 0.412,4.749,0.175\n",
    "## Inicia listas para salida y(t) , error e(t) , señal de control u(t)\n",
    "y,e,u = ([],[],[])\n",
    "e3,e2,e1,Inte = (0,0,0,0)\n",
    "# r = 15\n",
    "print('Para abortar el experimento presione ESPACIO')\n",
    "for idt,ti in enumerate(t):\n",
    "#while True:\n",
    "    ref_t = r[idt] # Referencia en instante  actual\n",
    "    # ref_t = r\n",
    "    y_t = leerFlujoPLCIW98() # Salida del sistema en instante actual\n",
    "    e_t = ref_t - y_t # Error  en instante actual\n",
    "    Inte = e_t*tm + Inte\n",
    "    dedt = (e_t - e1)/tm\n",
    "    ## Estrategia de control\n",
    "    # modifique la estrategia de control\n",
    "    u_t = kc*(e_t + (1/Ti)*Inte + Td*dedt) \n",
    "    # Señal de control en instante actual\n",
    "    ##\n",
    "    # actualiza datos de error\n",
    "    e3,e2,e1 = (e2,e1,e_t)\n",
    "    ## enviar señal de control al actuador\n",
    "    #BombaQW80(u_t) \n",
    "    AbrirValvulaQW96(u_t)\n",
    "    ## Agrupar datos para guardar\n",
    "    y.append(y_t)\n",
    "    e.append(e_t)\n",
    "    u.append(u_t)\n",
    "    ## Aborta\n",
    "    if keyboard.is_pressed(' '):\n",
    "        print('Abortando a los ' + str(ti) +' segundos')\n",
    "        escr_sal_bool(0,5,0)\n",
    "        AbrirValvulaQW96(0)\n",
    "        y = y + [np.nan]*(len(r)-len(y))\n",
    "        e = e + [np.nan]*(len(r)-len(e))\n",
    "        u = u + [np.nan]*(len(r)-len(u))\n",
    "        break\n",
    "    time.sleep(tm)\n",
    "#Termina experimento\n",
    "escr_sal_bool(0,5,0)\n",
    "AbrirValvulaQW96(0)\n",
    "# Gráfica de entrada y salida\n",
    "plt.plot(t,r,t,y)"
   ]
  },
  {
   "cell_type": "code",
   "execution_count": 35,
   "id": "234078b2",
   "metadata": {},
   "outputs": [
    {
     "data": {
      "text/plain": [
       "[<matplotlib.lines.Line2D at 0x1f48a0902b0>]"
      ]
     },
     "execution_count": 35,
     "metadata": {},
     "output_type": "execute_result"
    },
    {
     "data": {
      "image/png": "[encoded data removed]",
      "text/plain": [
       "<Figure size 432x288 with 1 Axes>"
      ]
     },
     "metadata": {
      "needs_background": "light"
     },
     "output_type": "display_data"
    }
   ],
   "source": [
    "plt.plot(y)"
   ]
  },
  {
   "cell_type": "code",
   "execution_count": 39,
   "id": "7d82c84e",
   "metadata": {},
   "outputs": [],
   "source": [
    "# Guarda datos\n",
    "df = pd.DataFrame(data={'Tiempo': t, 'Referencia': r, \n",
    "                        'Error': e, 'Señal de control': u,\n",
    "                        'Salida': y })\n",
    "archivo = \"Datos/VasquezC3\" + \".csv\"\n",
    "df.to_csv(archivo, index=False)"
   ]
  },
  {
   "cell_type": "code",
   "execution_count": 1,
   "id": "30df03d3",
   "metadata": {},
   "outputs": [],
   "source": [
    "## Escriba su código"
   ]
  },
  {
   "cell_type": "markdown",
   "id": "a9b9464f",
   "metadata": {},
   "source": [
    "## Conclusiones\n",
    "- Aquí\n",
    "- Otra"
   ]
  },
  {
   "cell_type": "code",
   "execution_count": null,
   "id": "767bf2ed",
   "metadata": {},
   "outputs": [],
   "source": []
  }
 ],
 "metadata": {
  "kernelspec": {
   "display_name": "Python 3",
   "language": "python",
   "name": "python3"
  },
  "language_info": {
   "codemirror_mode": {
    "name": "ipython",
    "version": 3
   },
   "file_extension": ".py",
   "mimetype": "text/x-python",
   "name": "python",
   "nbconvert_exporter": "python",
   "pygments_lexer": "ipython3",
   "version": "3.7.3"
  },
  "latex_envs": {
   "bibliofile": "biblio.bib",
   "cite_by": "apalike",
   "current_citInitial": 1,
   "eqLabelWithNumbers": true,
   "eqNumInitial": 0
  }
 },
 "nbformat": 4,
 "nbformat_minor": 5
}
