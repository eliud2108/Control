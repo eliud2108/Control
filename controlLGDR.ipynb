{
 "cells": [
  {
   "cell_type": "code",
   "execution_count": 1,
   "id": "8d4a14a0",
   "metadata": {},
   "outputs": [],
   "source": [
    "import sympy as sym\n",
    "import numpy as np\n",
    "import matplotlib.pyplot as plt\n",
    "%matplotlib inline\n",
    "import control\n",
    "# from ipywidgets import interact\n",
    "\n",
    "s = sym.symbols('s', complex=True)\n"
   ]
  },
  {
   "cell_type": "markdown",
   "id": "0a44f90c",
   "metadata": {},
   "source": [
    "# Diseño de controladores mediante Lugar Geométrico de las Raíces\n",
    "\n"
   ]
  },
  {
   "cell_type": "markdown",
   "id": "2a8d649c",
   "metadata": {},
   "source": [
    "Se busca encontrar compensadores a partir de análisis del **Lugar Geométrico de las Raíces**.\n",
    "\n",
    "Los compensadores se diseñan para que los procesos desarrollen tareas específicas cumpliendo con especificaciones del comportamiento en la respuesta transitoria (tiempo de estabilización, máxima sobreelongación, etc) y estacionaria (error de estado estable)."
   ]
  },
  {
   "cell_type": "markdown",
   "id": "9aa41cfb",
   "metadata": {},
   "source": [
    "\n",
    "\n",
    "## Método\n",
    "\n",
    "Se añaden polos y ceros (del compensador) a la función de transferencia del sistema en lazo directo $G(s)$, de manera que el **Lugar Geométrico de las Raíces** pase por los polos deseados en lazo cerrado. Una vez se garantiza que el **Lugar Geométrico de las Raíces** pasa por los polos deseados, se encuentra la ganancia del compensador que permite que el sistema en lazo cerrado se comporte según los polos deseados.\n",
    "\n",
    "Tenga en cuenta que la función de transferencia de lazo cerrado, en un sistema controlado con realimentación unitaria, es:\n",
    "\n",
    "$$G_{LC} = \\frac{G(s)}{1+G(s)}$$\n",
    "\n",
    "Los valores de $s$ que conforman el Lugar Geométrico de las Raíces cumplen que:\n",
    "\n",
    "$$1+G(s) = 0$$\n",
    "\n",
    "Que es equivalente a:\n",
    "\n",
    "$$G(s) = -1$$\n",
    "\n",
    "De donde se genera la condición de fase:\n",
    "\n",
    "$$\\angle G(s) = \\pm 180 ^o$$\n",
    "\n",
    "Y la condición de magnitud:\n",
    "\n",
    "$$ | G(s) | = 1$$\n",
    "\n",
    "### Compensador en adelanto\n",
    "\n",
    "Los pasos para diseñar un compensador mediante el Lugar Geométrico de las Raíces son:\n",
    "\n",
    "1. Determine la localización deseada para los polos dominantes en lazo cerrado.\n",
    "\n",
    "2. A partir del Lugar Geométrico de las Raíces, determine si un ajuste de ganancia puede brindar el comportamiento deseado. Si no, encuentre el ángulo que debe aportar el compensador para que el Lugar Geométrico de las Raíces pase por los polos deseados.\n",
    "\n",
    "3. Suponga la forma de un compensador \n",
    "\n",
    "$$ G_c(s) = k_c\\frac{s+\\frac{1}{T}}{s+\\frac{1}{\\alpha T}}$$\n",
    "\n",
    "donde los parámetros $k_c$, $\\alpha$ y $T$ se determinan a partir de los requisitos del sistema.\n",
    "\n",
    "4. Encuentre $\\alpha$ y $T$ para garanttizar que el Lugar Geométrico de las Raíces pase por los polos deseados con la condición de fase.\n",
    "\n",
    "5. Encuentre $k_c$ a partir de la condición de magnitud."
   ]
  },
  {
   "cell_type": "markdown",
   "id": "2c9a32c9",
   "metadata": {},
   "source": [
    "**Ejemplo**\n",
    "\n",
    "Suponga un proceso cuyo modelo es:\n",
    "\n",
    "$$G_p(s) = \\frac{4}{s\\left ( s+2 \\right )}$$"
   ]
  },
  {
   "cell_type": "code",
   "execution_count": 2,
   "id": "55db0798",
   "metadata": {},
   "outputs": [
    {
     "data": {
      "text/latex": [
       "$$\\frac{4}{s^2 + 2 s}$$"
      ],
      "text/plain": [
       "TransferFunction(array([4]), array([1, 2, 0]))"
      ]
     },
     "execution_count": 2,
     "metadata": {},
     "output_type": "execute_result"
    }
   ],
   "source": [
    "# Se define la función de transferencia del proceso\n",
    "Gp = control.tf(4, [1,2,0])\n",
    "Gp"
   ]
  },
  {
   "cell_type": "markdown",
   "id": "b4690c58",
   "metadata": {},
   "source": [
    "Si se realimenta el sistema con un compensador $G_c(s)=1$"
   ]
  },
  {
   "cell_type": "code",
   "execution_count": 3,
   "id": "510d431d",
   "metadata": {},
   "outputs": [],
   "source": [
    "G_LC1 = control.feedback(Gp,1)"
   ]
  },
  {
   "cell_type": "markdown",
   "id": "813d23cd",
   "metadata": {},
   "source": [
    "Los polos y ceros del sistema en lazo cerrado serían:"
   ]
  },
  {
   "cell_type": "code",
   "execution_count": 4,
   "id": "79a2dfde",
   "metadata": {},
   "outputs": [
    {
     "data": {
      "text/plain": [
       "array([-1.+1.73205081j, -1.-1.73205081j])"
      ]
     },
     "execution_count": 4,
     "metadata": {},
     "output_type": "execute_result"
    }
   ],
   "source": [
    "# Polos de lazo con Gc(s) = 1\n",
    "pLC1 = G_LC1.pole()\n",
    "pLC1"
   ]
  },
  {
   "cell_type": "code",
   "execution_count": 5,
   "id": "45ff0572",
   "metadata": {},
   "outputs": [
    {
     "data": {
      "text/plain": [
       "array([], dtype=float64)"
      ]
     },
     "execution_count": 5,
     "metadata": {},
     "output_type": "execute_result"
    }
   ],
   "source": [
    "# Ceros de lazo con Gc(s) = 1\n",
    "cLC1 = G_LC1.zero()\n",
    "cLC1"
   ]
  },
  {
   "cell_type": "markdown",
   "id": "6386fbaa",
   "metadata": {},
   "source": [
    "Suponga que requiere disminuir el tiempo de estabilización a la mitad del que obtendría al realimenta con $G_c(s)=1$ manteniendo el amortiguamiento."
   ]
  },
  {
   "cell_type": "code",
   "execution_count": 6,
   "id": "d0235a6b",
   "metadata": {},
   "outputs": [
    {
     "data": {
      "text/plain": [
       "array([-2.+3.46410162j, -2.-3.46410162j])"
      ]
     },
     "execution_count": 6,
     "metadata": {},
     "output_type": "execute_result"
    }
   ],
   "source": [
    "# Polos de lazo cerrado deseados\n",
    "pLC_deseado = 2*pLC1\n",
    "pLC_deseado"
   ]
  },
  {
   "cell_type": "markdown",
   "id": "f6c05d4e",
   "metadata": {},
   "source": [
    "Se verifica si los polos deseados hacen parte del Lugar Geométrico de las Raíces."
   ]
  },
  {
   "cell_type": "code",
   "execution_count": 7,
   "id": "21072203",
   "metadata": {},
   "outputs": [
    {
     "data": {
      "text/plain": [
       "[<matplotlib.lines.Line2D at 0x2cc7ae7ecf8>]"
      ]
     },
     "execution_count": 7,
     "metadata": {},
     "output_type": "execute_result"
    },
    {
     "data": {
      "image/png": "[encoded data removed]",
      "text/plain": [
       "<Figure size 432x288 with 1 Axes>"
      ]
     },
     "metadata": {
      "needs_background": "light"
     },
     "output_type": "display_data"
    }
   ],
   "source": [
    "_,_ = control.root_locus(Gp,plot = True);\n",
    "plt.plot(pLC_deseado.real, pLC_deseado.imag, 'r+')"
   ]
  },
  {
   "cell_type": "markdown",
   "id": "bb7c17dc",
   "metadata": {},
   "source": [
    "Como los polos deseados no hacen parte del Lugar Geométrico de las Raíces, se define una forma de compensador.\n",
    "\n",
    "$$ G_c(s) = k_c\\frac{s+\\frac{1}{T}}{s+\\frac{1}{\\alpha T}}$$\n",
    "\n",
    "y la función de transferencia de lazo directo:\n",
    "\n",
    "$$ G(s) = G_c(s)G_p(s)$$\n"
   ]
  },
  {
   "cell_type": "code",
   "execution_count": 8,
   "id": "bc914353",
   "metadata": {},
   "outputs": [
    {
     "data": {
      "text/latex": [
       "$\\displaystyle \\frac{4}{s^{2} + 2 s}$"
      ],
      "text/plain": [
       "4/(s**2 + 2*s)"
      ]
     },
     "execution_count": 8,
     "metadata": {},
     "output_type": "execute_result"
    }
   ],
   "source": [
    "G_p_sym = 4/(s**2+2*s)\n",
    "G_p_sym"
   ]
  },
  {
   "cell_type": "markdown",
   "id": "1da37732",
   "metadata": {},
   "source": [
    "Al evaluar la función de transferencia del proceso en los polos deseados se obtiene:"
   ]
  },
  {
   "cell_type": "code",
   "execution_count": 9,
   "id": "7862f762",
   "metadata": {},
   "outputs": [
    {
     "data": {
      "text/latex": [
       "$\\displaystyle -0.25 + 0.144337567297406 i$"
      ],
      "text/plain": [
       "-0.25 + 0.144337567297406*I"
      ]
     },
     "execution_count": 9,
     "metadata": {},
     "output_type": "execute_result"
    }
   ],
   "source": [
    "G_p_sym_des = G_p_sym.subs(s,pLC_deseado[0]).simplify()\n",
    "G_p_sym_des"
   ]
  },
  {
   "cell_type": "markdown",
   "id": "fe030f5a",
   "metadata": {},
   "source": [
    "Este número complejo equivale a una magnitud"
   ]
  },
  {
   "cell_type": "code",
   "execution_count": 10,
   "id": "8e429160",
   "metadata": {},
   "outputs": [
    {
     "data": {
      "text/latex": [
       "$\\displaystyle 0.288675134594813$"
      ],
      "text/plain": [
       "0.288675134594813"
      ]
     },
     "execution_count": 10,
     "metadata": {},
     "output_type": "execute_result"
    }
   ],
   "source": [
    "sym.Abs(G_p_sym_des)"
   ]
  },
  {
   "cell_type": "markdown",
   "id": "440308a6",
   "metadata": {},
   "source": [
    "y una fase"
   ]
  },
  {
   "cell_type": "code",
   "execution_count": 11,
   "id": "c6cd2df6",
   "metadata": {},
   "outputs": [
    {
     "data": {
      "text/latex": [
       "$\\displaystyle -0.523598775598299 + \\pi$"
      ],
      "text/plain": [
       "-0.523598775598299 + pi"
      ]
     },
     "execution_count": 11,
     "metadata": {},
     "output_type": "execute_result"
    }
   ],
   "source": [
    "sym.arg(G_p_sym_des)"
   ]
  },
  {
   "cell_type": "markdown",
   "id": "65ba9fa4",
   "metadata": {},
   "source": [
    "La condición de fase indica que el compensador debe aportar un ángulo que lleve el ángulo completo a $\\pm 180^o$, en este caso:\n"
   ]
  },
  {
   "cell_type": "code",
   "execution_count": 12,
   "id": "2441e030",
   "metadata": {},
   "outputs": [
    {
     "data": {
      "text/latex": [
       "$\\displaystyle 0.523598775598299$"
      ],
      "text/plain": [
       "0.523598775598299"
      ]
     },
     "execution_count": 12,
     "metadata": {},
     "output_type": "execute_result"
    }
   ],
   "source": [
    "ang_comp = -(sym.arg(G_p_sym_des) - sym.pi)\n",
    "ang_comp"
   ]
  },
  {
   "cell_type": "markdown",
   "id": "4fc433a9",
   "metadata": {},
   "source": [
    "por lo que se requiere un compensador.  Se propone usar \n",
    "\n",
    "$$ G_c(s) = k_c\\frac{s+\\frac{1}{T}}{s+\\frac{1}{\\alpha T}}$$\n"
   ]
  },
  {
   "cell_type": "code",
   "execution_count": 13,
   "id": "88e38dce",
   "metadata": {},
   "outputs": [
    {
     "data": {
      "text/latex": [
       "$\\displaystyle \\frac{k_{c} \\left(s + \\frac{1}{T}\\right)}{s + \\frac{1}{T \\alpha}}$"
      ],
      "text/plain": [
       "k_c*(s + 1/T)/(s + 1/(T*alpha))"
      ]
     },
     "execution_count": 13,
     "metadata": {},
     "output_type": "execute_result"
    }
   ],
   "source": [
    "kc,T,alpha = sym.symbols('k_c,T,alpha', real=True,positive = True)\n",
    "\n",
    "\n",
    "G_c_sym = kc*(s+1/T)/(s+1/(alpha*T))\n",
    "G_c_sym"
   ]
  },
  {
   "cell_type": "markdown",
   "id": "6a9203e4",
   "metadata": {},
   "source": [
    "El ángulo que aporta el compensador es:"
   ]
  },
  {
   "cell_type": "code",
   "execution_count": 14,
   "id": "043cbbeb",
   "metadata": {},
   "outputs": [
    {
     "data": {
      "text/latex": [
       "$\\displaystyle \\arg{\\left(\\frac{T \\left(-2.0 + 3.46410161513775 i\\right) + 1}{T \\alpha \\left(-2.0 + 3.46410161513775 i\\right) + 1} \\right)}$"
      ],
      "text/plain": [
       "arg((T*(-2.0 + 3.46410161513775*I) + 1)/(T*alpha*(-2.0 + 3.46410161513775*I) + 1))"
      ]
     },
     "execution_count": 14,
     "metadata": {},
     "output_type": "execute_result"
    }
   ],
   "source": [
    "sym.arg(G_c_sym.subs(s,pLC_deseado[0]).simplify())"
   ]
  },
  {
   "cell_type": "markdown",
   "id": "657b9e5e",
   "metadata": {},
   "source": [
    "Observe que tiene dos parámetros y una sola condición. En este caso se selecciona un parámetro de forma arbitraria para determinar el otro.\n",
    "\n",
    "Una posible solución es ubicar el cero del compensador bajo el polo deseado.\n",
    "\n",
    "$$-2+\\frac{1}{T} = 0$$\n",
    "$$T = \\frac{1}{2}$$"
   ]
  },
  {
   "cell_type": "markdown",
   "id": "5fb00a8b",
   "metadata": {},
   "source": [
    "y se soluciona la condición de fase"
   ]
  },
  {
   "cell_type": "code",
   "execution_count": 15,
   "id": "274f6d2e",
   "metadata": {},
   "outputs": [],
   "source": [
    "parametros = {T:1/2}"
   ]
  },
  {
   "cell_type": "code",
   "execution_count": 16,
   "id": "d081c387",
   "metadata": {},
   "outputs": [
    {
     "data": {
      "text/plain": [
       "[0.500000000000000]"
      ]
     },
     "execution_count": 16,
     "metadata": {},
     "output_type": "execute_result"
    }
   ],
   "source": [
    "CondFase = sym.arg(G_c_sym.subs(s,pLC_deseado[0]).\n",
    "                   subs(parametros))-ang_comp\n",
    "sym.solve(CondFase,alpha)"
   ]
  },
  {
   "cell_type": "code",
   "execution_count": 17,
   "id": "14706395",
   "metadata": {},
   "outputs": [],
   "source": [
    "parametros = {T:1/2, alpha:0.5}"
   ]
  },
  {
   "cell_type": "code",
   "execution_count": 18,
   "id": "9b267b73",
   "metadata": {},
   "outputs": [
    {
     "data": {
      "text/latex": [
       "$\\displaystyle \\frac{k_{c} \\left(s + 2.0\\right)}{s + 4.0}$"
      ],
      "text/plain": [
       "k_c*(s + 2.0)/(s + 4.0)"
      ]
     },
     "execution_count": 18,
     "metadata": {},
     "output_type": "execute_result"
    }
   ],
   "source": [
    "G_c_sym.subs(parametros)"
   ]
  },
  {
   "cell_type": "markdown",
   "id": "bf512f04",
   "metadata": {},
   "source": [
    "Así, el compensador es:\n",
    "\n",
    "$$G_c(s) = k_c \\frac{s+2}{s+4}$$\n",
    "\n",
    "Y falta encontrar $k_c$"
   ]
  },
  {
   "cell_type": "code",
   "execution_count": 19,
   "id": "d000cc07",
   "metadata": {},
   "outputs": [
    {
     "data": {
      "text/latex": [
       "$$\\frac{s + 2}{s + 4}$$"
      ],
      "text/plain": [
       "TransferFunction(array([1, 2]), array([1, 4]))"
      ]
     },
     "execution_count": 19,
     "metadata": {},
     "output_type": "execute_result"
    }
   ],
   "source": [
    "Gc = control.tf([1,2],[1,4])\n",
    "Gc"
   ]
  },
  {
   "cell_type": "code",
   "execution_count": 20,
   "id": "8fab98ef",
   "metadata": {},
   "outputs": [
    {
     "data": {
      "text/latex": [
       "$$\\frac{4 s + 8}{s^3 + 6 s^2 + 8 s}$$"
      ],
      "text/plain": [
       "TransferFunction(array([4., 8.]), array([1, 6, 8, 0]))"
      ]
     },
     "execution_count": 20,
     "metadata": {},
     "output_type": "execute_result"
    }
   ],
   "source": [
    "G = Gc*Gp\n",
    "G"
   ]
  },
  {
   "cell_type": "markdown",
   "id": "9bbc9d93",
   "metadata": {},
   "source": [
    "El Lugar Geométrico de las Raíces del proceso y el compensador es:"
   ]
  },
  {
   "cell_type": "code",
   "execution_count": 21,
   "id": "2e7d6e04",
   "metadata": {},
   "outputs": [
    {
     "data": {
      "text/plain": [
       "[<matplotlib.lines.Line2D at 0x2cc017e7780>]"
      ]
     },
     "execution_count": 21,
     "metadata": {},
     "output_type": "execute_result"
    },
    {
     "data": {
      "image/png": "[encoded data removed]",
      "text/plain": [
       "<Figure size 432x288 with 1 Axes>"
      ]
     },
     "metadata": {
      "needs_background": "light"
     },
     "output_type": "display_data"
    }
   ],
   "source": [
    "_,_ = control.root_locus(G,plot = True);\n",
    "plt.plot(pLC_deseado.real, pLC_deseado.imag, 'r+')"
   ]
  },
  {
   "cell_type": "markdown",
   "id": "7cb3f1f0",
   "metadata": {},
   "source": [
    "Ahora debe hallarse $k_c$ con la condición de magnitud.\n",
    "\n",
    "Ya se ha calculado que la magnitud del proceso evaluado en el polo deseado es:"
   ]
  },
  {
   "cell_type": "code",
   "execution_count": 22,
   "id": "5ae004d8",
   "metadata": {},
   "outputs": [
    {
     "data": {
      "text/latex": [
       "$\\displaystyle 0.288675134594813$"
      ],
      "text/plain": [
       "0.288675134594813"
      ]
     },
     "execution_count": 22,
     "metadata": {},
     "output_type": "execute_result"
    }
   ],
   "source": [
    "sym.Abs(G_p_sym_des)"
   ]
  },
  {
   "cell_type": "markdown",
   "id": "c94569b1",
   "metadata": {},
   "source": [
    "Por lo que el compensador debe aportar una magnitud de:"
   ]
  },
  {
   "cell_type": "code",
   "execution_count": 23,
   "id": "80c468b5",
   "metadata": {},
   "outputs": [],
   "source": [
    "mag_comp = 1/sym.Abs(G_p_sym_des)"
   ]
  },
  {
   "cell_type": "code",
   "execution_count": 24,
   "id": "e3f27d91",
   "metadata": {},
   "outputs": [
    {
     "data": {
      "text/plain": [
       "[4.00000000000000]"
      ]
     },
     "execution_count": 24,
     "metadata": {},
     "output_type": "execute_result"
    }
   ],
   "source": [
    "CondMag = sym.Abs(G_c_sym.subs(s,pLC_deseado[0]).\n",
    "                   subs(parametros))/mag_comp - 1\n",
    "sym.solve(CondMag,kc)"
   ]
  },
  {
   "cell_type": "code",
   "execution_count": 25,
   "id": "49efd74b",
   "metadata": {},
   "outputs": [],
   "source": [
    "parametros = {T:1/2, alpha:0.5, kc: 4}"
   ]
  },
  {
   "cell_type": "markdown",
   "id": "4045adc2",
   "metadata": {},
   "source": [
    "Y  el compensador es:"
   ]
  },
  {
   "cell_type": "code",
   "execution_count": 26,
   "id": "0c91fccb",
   "metadata": {},
   "outputs": [
    {
     "data": {
      "text/latex": [
       "$\\displaystyle \\frac{4 \\left(s + 2.0\\right)}{s + 4.0}$"
      ],
      "text/plain": [
       "4*(s + 2.0)/(s + 4.0)"
      ]
     },
     "execution_count": 26,
     "metadata": {},
     "output_type": "execute_result"
    }
   ],
   "source": [
    "G_c_sym.subs(parametros)"
   ]
  },
  {
   "cell_type": "code",
   "execution_count": 27,
   "id": "84c37d52",
   "metadata": {},
   "outputs": [
    {
     "data": {
      "text/latex": [
       "$$\\frac{4 s + 8}{s + 4}$$"
      ],
      "text/plain": [
       "TransferFunction(array([4., 8.]), array([1, 4]))"
      ]
     },
     "execution_count": 27,
     "metadata": {},
     "output_type": "execute_result"
    }
   ],
   "source": [
    "Gc = 4*control.tf([1,2],[1,4])\n",
    "Gc"
   ]
  },
  {
   "cell_type": "code",
   "execution_count": 28,
   "id": "523265b6",
   "metadata": {},
   "outputs": [
    {
     "data": {
      "text/latex": [
       "$$\\frac{16 s + 32}{s^3 + 6 s^2 + 8 s}$$"
      ],
      "text/plain": [
       "TransferFunction(array([16., 32.]), array([1, 6, 8, 0]))"
      ]
     },
     "execution_count": 28,
     "metadata": {},
     "output_type": "execute_result"
    }
   ],
   "source": [
    "G = Gc*Gp\n",
    "G"
   ]
  },
  {
   "cell_type": "markdown",
   "id": "a35a63d9",
   "metadata": {},
   "source": [
    "Verifique el comportamiento en el dominio del tiempo"
   ]
  },
  {
   "cell_type": "markdown",
   "id": "0aba9d15",
   "metadata": {},
   "source": [
    "**Respuesta al escalón del proceso sin compensador**\n"
   ]
  },
  {
   "cell_type": "code",
   "execution_count": 29,
   "id": "ba2161a3",
   "metadata": {},
   "outputs": [
    {
     "data": {
      "image/png": "[encoded data removed]",
      "text/plain": [
       "<Figure size 432x288 with 1 Axes>"
      ]
     },
     "metadata": {
      "needs_background": "light"
     },
     "output_type": "display_data"
    }
   ],
   "source": [
    "ts = np.linspace(0, 5, 1000)\n",
    "\n",
    "_, yLA = control.step_response(Gp, ts)\n",
    "plt.plot(ts,yLA)\n",
    "plt.grid()\n"
   ]
  },
  {
   "cell_type": "markdown",
   "id": "54f8b4ca",
   "metadata": {},
   "source": [
    "**Respuesta al escalón del proceso realimentado**\n"
   ]
  },
  {
   "cell_type": "code",
   "execution_count": 30,
   "id": "80f2d4d3",
   "metadata": {},
   "outputs": [
    {
     "data": {
      "image/png": "[encoded data removed]",
      "text/plain": [
       "<Figure size 432x288 with 1 Axes>"
      ]
     },
     "metadata": {
      "needs_background": "light"
     },
     "output_type": "display_data"
    }
   ],
   "source": [
    "\n",
    "_, yLC1 = control.step_response(control.feedback(Gp,1),ts)\n",
    "plt.plot(ts,yLC1)\n",
    "plt.grid()\n"
   ]
  },
  {
   "cell_type": "markdown",
   "id": "9f3f41fa",
   "metadata": {},
   "source": [
    "**Respuesta al escalón del proceso con compensador**\n"
   ]
  },
  {
   "cell_type": "code",
   "execution_count": 31,
   "id": "a1fecdd1",
   "metadata": {},
   "outputs": [
    {
     "data": {
      "image/png": "[encoded data removed]",
      "text/plain": [
       "<Figure size 432x288 with 1 Axes>"
      ]
     },
     "metadata": {
      "needs_background": "light"
     },
     "output_type": "display_data"
    }
   ],
   "source": [
    "\n",
    "_, yLC = control.step_response(control.feedback(Gc*Gp,1),ts)\n",
    "plt.plot(ts,yLC)\n",
    "plt.grid()\n"
   ]
  },
  {
   "cell_type": "markdown",
   "id": "72ddd576",
   "metadata": {},
   "source": [
    "Puede compararse la respuesta del sistema solo realimentado con la respuesta del sistema compensado"
   ]
  },
  {
   "cell_type": "code",
   "execution_count": 32,
   "id": "35d5a827",
   "metadata": {},
   "outputs": [
    {
     "data": {
      "image/png": "[encoded data removed]",
      "text/plain": [
       "<Figure size 432x288 with 1 Axes>"
      ]
     },
     "metadata": {
      "needs_background": "light"
     },
     "output_type": "display_data"
    }
   ],
   "source": [
    "plt.plot(ts,yLC,ts,yLC1)\n",
    "plt.legend(('Compensado','Realimentado'))\n",
    "plt.grid()\n"
   ]
  },
  {
   "cell_type": "markdown",
   "id": "ee6cd2d4",
   "metadata": {},
   "source": [
    "Observe que el sistema controlado tiene un **error de estado estale** nulo para una entrada escalón. ¿Qué ocurre si la referencia es una rampa?"
   ]
  },
  {
   "cell_type": "code",
   "execution_count": 33,
   "id": "fd101996",
   "metadata": {},
   "outputs": [
    {
     "data": {
      "image/png": "[encoded data removed]",
      "text/plain": [
       "<Figure size 432x288 with 1 Axes>"
      ]
     },
     "metadata": {
      "needs_background": "light"
     },
     "output_type": "display_data"
    }
   ],
   "source": [
    "_, yLCr = control.step_response(control.feedback(Gc*Gp,1)*\n",
    "                                control.tf(1,[1,0]),ts)\n",
    "plt.plot(ts,yLCr)\n",
    "plt.plot([ts[0],ts[-1]], [0,ts[-1]])\n",
    "plt.legend(('Com. Adelanto','Referencia'))\n",
    "plt.grid()"
   ]
  },
  {
   "cell_type": "markdown",
   "id": "62823dde",
   "metadata": {},
   "source": [
    "¿Cómo disminuir el error en estado estable sin afectar drásticamente la respuesta transitoria?"
   ]
  },
  {
   "cell_type": "markdown",
   "id": "f565d3da",
   "metadata": {},
   "source": [
    "-----------------------\n",
    "**Ejercicio**\n",
    "\n",
    "Considere el proceso modelado por\n",
    "\n",
    "$$G_p(s) =  \\frac{5}{s(s+4)(s+10)}$$\n",
    "\n",
    "Encuentre un compensador para que los polos dominantes en lazo cerrado estén en $-3 \\pm j3$"
   ]
  },
  {
   "cell_type": "code",
   "execution_count": null,
   "id": "8a3f748d",
   "metadata": {},
   "outputs": [],
   "source": []
  }
 ],
 "metadata": {
  "kernelspec": {
   "display_name": "Python 3",
   "language": "python",
   "name": "python3"
  },
  "language_info": {
   "codemirror_mode": {
    "name": "ipython",
    "version": 3
   },
   "file_extension": ".py",
   "mimetype": "text/x-python",
   "name": "python",
   "nbconvert_exporter": "python",
   "pygments_lexer": "ipython3",
   "version": "3.7.3"
  },
  "latex_envs": {
   "bibliofile": "biblio.bib",
   "cite_by": "apalike",
   "current_citInitial": 1,
   "eqLabelWithNumbers": true,
   "eqNumInitial": 0
  }
 },
 "nbformat": 4,
 "nbformat_minor": 5
}
