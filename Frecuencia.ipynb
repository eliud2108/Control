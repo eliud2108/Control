{
 "cells": [
  {
   "cell_type": "code",
   "execution_count": null,
   "id": "a29f8aad",
   "metadata": {},
   "outputs": [],
   "source": [
    "import numpy\n",
    "from numpy.polynomial.polynomial import polyvalfromroots\n",
    "\n",
    "from matplotlib import pyplot as plt\n",
    "%matplotlib inline\n",
    "\n",
    "from tbcontrol.plotting import cross_axis\n",
    "\n",
    "from ipywidgets import interact\n",
    "\n"
   ]
  },
  {
   "cell_type": "markdown",
   "id": "3ad50e15",
   "metadata": {},
   "source": [
    "# Respuesta en frecuencia\n",
    "\n",
    "La respuesta en frecuencia de un sistema hace referencia a cómo reacciona en estado estacionario ante entradas sinoidales. Analizar dicha respuesta para sistemas en lazo abierto permite determinar estabilidad de los mismos en lazo cerrado.\n"
   ]
  },
  {
   "cell_type": "code",
   "execution_count": null,
   "id": "31115958",
   "metadata": {},
   "outputs": [],
   "source": [
    "# Polos Ceros y Ganancia de una FdT\n",
    "zeros = [1]\n",
    "poles = [-1 + 1j, -1 - 1j]\n",
    "gain = 1\n",
    "def G(s):# función G para evaluar en frecuencias\n",
    "    return gain*polyvalfromroots(s, zeros)/polyvalfromroots(s, poles)"
   ]
  },
  {
   "cell_type": "code",
   "execution_count": null,
   "id": "b35f3b34",
   "metadata": {},
   "outputs": [],
   "source": [
    "#funciones para graficar\n",
    "def plotcomplex(curve, color='blue', marker=None):\n",
    "    plt.plot(numpy.real(curve), numpy.imag(curve), color=color, marker=marker)\n",
    "def plotpz():\n",
    "    for p in poles:\n",
    "        plotcomplex(p, color='red', marker='x')\n",
    "    for z in zeros:\n",
    "        plotcomplex(z, color='red', marker='o')\n",
    "        \n",
    "def plotsituation(contour):\n",
    "    plotcomplex(contour)\n",
    "    plotcomplex(G(contour), color='red')\n",
    "    plotpz()\n",
    "    cross_axis()"
   ]
  },
  {
   "cell_type": "code",
   "execution_count": null,
   "id": "6a655a01",
   "metadata": {},
   "outputs": [],
   "source": [
    "theta = numpy.linspace(0, 2*numpy.pi, 1000)"
   ]
  },
  {
   "cell_type": "code",
   "execution_count": null,
   "id": "6605f2f0",
   "metadata": {},
   "outputs": [],
   "source": [
    "def argumentprinciple(centerreal=(-2., 2.), centerimag=(-2., 2.), radius=(0.5, 3)):\n",
    "    contour = radius*numpy.exp(1j*theta) + centerreal + 1j*centerimag\n",
    "    plotsituation(contour)    "
   ]
  },
  {
   "cell_type": "code",
   "execution_count": null,
   "id": "ebb06283",
   "metadata": {},
   "outputs": [],
   "source": [
    "interact(argumentprinciple)"
   ]
  }
 ],
 "metadata": {
  "kernelspec": {
   "display_name": "Python 3",
   "language": "python",
   "name": "python3"
  },
  "language_info": {
   "codemirror_mode": {
    "name": "ipython",
    "version": 3
   },
   "file_extension": ".py",
   "mimetype": "text/x-python",
   "name": "python",
   "nbconvert_exporter": "python",
   "pygments_lexer": "ipython3",
   "version": "3.7.3"
  },
  "latex_envs": {
   "bibliofile": "biblio.bib",
   "cite_by": "apalike",
   "current_citInitial": 1,
   "eqLabelWithNumbers": true,
   "eqNumInitial": 0
  }
 },
 "nbformat": 4,
 "nbformat_minor": 5
}
