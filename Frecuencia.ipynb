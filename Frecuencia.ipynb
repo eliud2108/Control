{
 "cells": [
  {
   "cell_type": "code",
   "execution_count": 1,
   "id": "a29f8aad",
   "metadata": {},
   "outputs": [],
   "source": [
    "import numpy as np\n",
    "\n",
    "from numpy.polynomial.polynomial import polyvalfromroots\n",
    "\n",
    "from matplotlib import pyplot as plt\n",
    "%matplotlib inline\n",
    "\n",
    "from tbcontrol.plotting import cross_axis\n",
    "\n",
    "from ipywidgets import interact\n",
    "\n"
   ]
  },
  {
   "cell_type": "markdown",
   "id": "3ad50e15",
   "metadata": {},
   "source": [
    "# Respuesta en frecuencia\n",
    "\n",
    "La respuesta en frecuencia de un sistema hace referencia a cómo reacciona en estado estacionario ante entradas sinoidales. Analizar dicha respuesta para sistemas en lazo abierto permite determinar estabilidad de los mismos en lazo cerrado. Para analizar la respuesta en frecuencia desde la función de transferencia en el dominio de Laplace se elimina la parte real de la variable $s$.\n",
    "\n",
    "La función de transferencia de lazo cerrado es\n",
    "\n",
    "$$\\frac{G(s)}{1+G(s)}$$\n",
    "\n",
    "Como interesa que $s = j\\omega$, la expresión queda:\n",
    "\n",
    "$$\\frac{G(j\\omega)}{1+G(j\\omega)}$$\n",
    "\n",
    "Para verificar la estabilidad del sistema en lazo cerrado, debe verificarse que \n",
    "\n",
    "$$ |G(j\\omega_{\\pi}| < 1 \\; \\text{cuando} \\; \\angle G(j\\omega_{\\pi}) = \\pi $$"
   ]
  },
  {
   "cell_type": "markdown",
   "id": "e0768a69",
   "metadata": {},
   "source": [
    "Suponga dos funciones de transferencia:\n",
    "\n",
    "$$G_1(s)=\\frac{1}{\\tau_1s+1}$$\n",
    "\n",
    "$$G_2(s)=\\frac{1}{\\tau_2^2s^2+2\\zeta \\tau_2 s +1}$$"
   ]
  },
  {
   "cell_type": "markdown",
   "id": "47bb89b0",
   "metadata": {},
   "source": [
    "A menudo se usan escalas logarítmicas para generar gráficas de respuesta en frecuencia.\n"
   ]
  },
  {
   "cell_type": "code",
   "execution_count": 2,
   "id": "b11bc727",
   "metadata": {},
   "outputs": [],
   "source": [
    "omega = np.logspace(-2, 2, 1000)\n",
    "s = omega*1j"
   ]
  },
  {
   "cell_type": "code",
   "execution_count": 3,
   "id": "d354e2d4",
   "metadata": {},
   "outputs": [],
   "source": [
    "tau1 = 2\n",
    "G1 = 1 / (tau1*s+1)\n",
    "\n",
    "tau2 = 1\n",
    "zeta = 0.5\n",
    "G2 = 1/(tau2**2*s**2 + 2*tau2*zeta*s+1)"
   ]
  },
  {
   "cell_type": "markdown",
   "id": "da709b4e",
   "metadata": {},
   "source": [
    "## Diagramas de bode\n",
    "\n",
    "Una gráfica de $|G(j\\omega)| \\; \\text{vs} \\; \\omega$ junto a un gráfica de $\\angle G(j\\omega) \\; \\text{vs} \\; \\omega$"
   ]
  },
  {
   "cell_type": "code",
   "execution_count": 4,
   "id": "371e8e97",
   "metadata": {},
   "outputs": [],
   "source": [
    "def bode(G):\n",
    "    fig, [ax_mag, ax_phase] = plt.subplots(2, 1)\n",
    "    \n",
    "    ax_mag.loglog(omega, np.abs(G))\n",
    "    ax_mag.loglog(omega, np.ones(len(omega)))\n",
    "    ax_mag.grid(True)\n",
    "    ax_phase.semilogx(omega, np.angle(G))\n",
    "    # ax_phase.semilogx(omega, np.unwrap(np.angle(G)))\n",
    "    ax_phase.semilogx(omega, -3.14*np.ones(len(omega)))\n",
    "    ax_phase.grid(True)\n"
   ]
  },
  {
   "cell_type": "markdown",
   "id": "e05e9698",
   "metadata": {},
   "source": [
    "Diagrama de Bode del sistema G1"
   ]
  },
  {
   "cell_type": "code",
   "execution_count": 5,
   "id": "6915c5eb",
   "metadata": {},
   "outputs": [
    {
     "data": {
      "image/png": "[encoded data removed]",
      "text/plain": [
       "<Figure size 432x288 with 2 Axes>"
      ]
     },
     "metadata": {
      "needs_background": "light"
     },
     "output_type": "display_data"
    }
   ],
   "source": [
    "bode(G1)"
   ]
  },
  {
   "cell_type": "markdown",
   "id": "e949a48d",
   "metadata": {},
   "source": [
    "Observe que el sistema no alcanza a tener desfase de $\\pi$, esto indica que el sistema en lazo cerrado será estable."
   ]
  },
  {
   "cell_type": "markdown",
   "id": "83289b1d",
   "metadata": {},
   "source": [
    "Diagrama de Bode del sistema G2"
   ]
  },
  {
   "cell_type": "code",
   "execution_count": null,
   "id": "4dba43c1",
   "metadata": {},
   "outputs": [],
   "source": []
  },
  {
   "cell_type": "markdown",
   "id": "f947d0a3",
   "metadata": {},
   "source": [
    "Observe que el sistema no alcanza a tener desfase de $\\pi$, esto indica que el sistema en lazo cerrado será estable."
   ]
  },
  {
   "cell_type": "markdown",
   "id": "8636afb2",
   "metadata": {},
   "source": [
    "Diagrama de Bode del sistema G1 conectado en serie con G2"
   ]
  },
  {
   "cell_type": "code",
   "execution_count": null,
   "id": "983073e5",
   "metadata": {},
   "outputs": [],
   "source": []
  },
  {
   "cell_type": "markdown",
   "id": "f2486784",
   "metadata": {},
   "source": [
    "- Observe que el sistema alcanza a tener desfase de $\\pi$ a una frecuencia de aproximadamente $1$.\n",
    "- A esa misma frecuencia, la ganancia es $<1$.\n",
    "- Esto indica que el sistema en lazo cerrado será estable, sin embarg, si la ganancia crece, el sistema en lazo cerrado será inestable."
   ]
  },
  {
   "cell_type": "markdown",
   "id": "51f6cbb4",
   "metadata": {},
   "source": [
    "## Nyquist\n",
    "\n",
    "Una gráfica de $\\Re \\{G(j\\omega)\\} \\; \\text{vs} \\; \\Im \\{G(j\\omega)\\}$. Es común graficar el comportamiento para frecuencias negativas."
   ]
  },
  {
   "cell_type": "code",
   "execution_count": 6,
   "id": "810aa54d",
   "metadata": {},
   "outputs": [],
   "source": [
    "def nyquist(G):\n",
    "    plt.plot(G.real, G.imag,\n",
    "             G.real, -G.imag)\n",
    "    plt.plot([0.0,-1.0],[0.0,0.0],'k')\n",
    "    plt.xlabel('Real')\n",
    "    plt.ylabel('Imag')\n",
    "    plt.axis('equal')\n",
    "    plt.grid(True)"
   ]
  },
  {
   "cell_type": "markdown",
   "id": "b1045d61",
   "metadata": {},
   "source": [
    "Diagrama de Nyquist del sistema G1"
   ]
  },
  {
   "cell_type": "code",
   "execution_count": 7,
   "id": "28044fd9",
   "metadata": {},
   "outputs": [
    {
     "data": {
      "image/png": "[encoded data removed]",
      "text/plain": [
       "<Figure size 432x288 with 1 Axes>"
      ]
     },
     "metadata": {
      "needs_background": "light"
     },
     "output_type": "display_data"
    }
   ],
   "source": [
    "nyquist(G1)"
   ]
  },
  {
   "cell_type": "markdown",
   "id": "fd15dee1",
   "metadata": {},
   "source": [
    "Observe que el sistema no alcanza a tener desfase de $\\pi$, esto indica que el sistema en lazo cerrado será estable."
   ]
  },
  {
   "cell_type": "markdown",
   "id": "51769a3e",
   "metadata": {},
   "source": [
    "Diagrama de Nyquist del sistema G2"
   ]
  },
  {
   "cell_type": "code",
   "execution_count": null,
   "id": "b491c274",
   "metadata": {},
   "outputs": [],
   "source": []
  },
  {
   "cell_type": "markdown",
   "id": "ab07e12d",
   "metadata": {},
   "source": [
    "Observe que el sistema no alcanza a tener desfase de $\\pi$, esto indica que el sistema en lazo cerrado será estable."
   ]
  },
  {
   "cell_type": "markdown",
   "id": "f5aa65e0",
   "metadata": {},
   "source": [
    "Diagrama de Nyquist del sistema G1 conectado en serie con G2"
   ]
  },
  {
   "cell_type": "code",
   "execution_count": null,
   "id": "c2dde86b",
   "metadata": {},
   "outputs": [],
   "source": []
  },
  {
   "cell_type": "markdown",
   "id": "8355a338",
   "metadata": {},
   "source": [
    "- Observe que el sistema alcanza a tener desfase de $\\pi$.\n",
    "- A esa misma frecuencia, la parte real es aproximadamente $0.2$\n",
    "- A esa frecuencia, la ganancia es $<1$.\n",
    "- Esto indica que el sistema en lazo cerrado será estable, sin embargo, si la ganancia crece, el sistema en lazo cerrado será inestable."
   ]
  },
  {
   "cell_type": "markdown",
   "id": "333c27a6",
   "metadata": {},
   "source": [
    "------------"
   ]
  },
  {
   "cell_type": "markdown",
   "id": "66404eea",
   "metadata": {},
   "source": [
    "La librería `control` permite analizar el sistema en el dominio de la frecuencia."
   ]
  },
  {
   "cell_type": "code",
   "execution_count": 8,
   "id": "9169f05f",
   "metadata": {},
   "outputs": [],
   "source": [
    "import control"
   ]
  },
  {
   "cell_type": "code",
   "execution_count": 9,
   "id": "18592039",
   "metadata": {},
   "outputs": [],
   "source": [
    "G1C = control.tf(1, [tau1, 1])"
   ]
  },
  {
   "cell_type": "markdown",
   "id": "a90fa2e3",
   "metadata": {},
   "source": [
    "Defina G2 con la librería `control`"
   ]
  },
  {
   "cell_type": "code",
   "execution_count": 10,
   "id": "9abdfab0",
   "metadata": {},
   "outputs": [],
   "source": [
    "# G2C"
   ]
  },
  {
   "cell_type": "markdown",
   "id": "f9f02f62",
   "metadata": {},
   "source": [
    "Diagrama de Bode del sistema G1"
   ]
  },
  {
   "cell_type": "code",
   "execution_count": 11,
   "id": "9499a356",
   "metadata": {},
   "outputs": [
    {
     "data": {
      "image/png": "[encoded data removed]",
      "text/plain": [
       "<Figure size 432x288 with 2 Axes>"
      ]
     },
     "metadata": {
      "needs_background": "light"
     },
     "output_type": "display_data"
    }
   ],
   "source": [
    "control.bode(G1C, omega,);"
   ]
  },
  {
   "cell_type": "markdown",
   "id": "f28d25e7",
   "metadata": {},
   "source": [
    "Diagrama de Nyquist del sistema G1"
   ]
  },
  {
   "cell_type": "code",
   "execution_count": 12,
   "id": "812693c5",
   "metadata": {},
   "outputs": [
    {
     "data": {
      "image/png": "[encoded data removed]",
      "text/plain": [
       "<Figure size 432x288 with 1 Axes>"
      ]
     },
     "metadata": {
      "needs_background": "light"
     },
     "output_type": "display_data"
    }
   ],
   "source": [
    "control.nyquist_plot(G1C, omega);"
   ]
  },
  {
   "cell_type": "markdown",
   "id": "0fa3f96b",
   "metadata": {},
   "source": [
    "Genere y analice los diagramas de Bode y de Nyquist para los sistemas $G_1$, $G_2$ y su serie."
   ]
  },
  {
   "cell_type": "code",
   "execution_count": null,
   "id": "4f2e71d6",
   "metadata": {},
   "outputs": [],
   "source": []
  },
  {
   "cell_type": "markdown",
   "id": "d01be91a",
   "metadata": {},
   "source": [
    "Preste atención al sistema $G_1G_2$.\n",
    "- ¿Cuánto podría aumentar la ganancia antes de hacer que el sistema en lazo cerrado se vuelva inestable?\n",
    "\n",
    "- Verifique con simulaciones"
   ]
  },
  {
   "cell_type": "markdown",
   "id": "2d07d004",
   "metadata": {},
   "source": [
    "Repita sus analisis con:\n",
    "\n",
    "$$G_{e1}(s)=\\frac{1}{s}$$\n",
    "\n",
    "$$G_{e2}(s)=\\frac{1}{s(s+1)}$$\n",
    "\n",
    "$$G_{e3}(s)=\\frac{2}{(0.3s+1)(0.3s+1)}$$\n",
    "\n",
    "$$G_{e4}(s)=\\frac{2}{(0.3s+1)(0.3s+1)}$$\n",
    "\n",
    "$$G_{e5}(s)=\\frac{s+2}{2s^3 + 3s^2 + 4s + 1}$$\n",
    "\n",
    "\n",
    "- ¿Qué puede decir de la estabilidad de cada sistema cuando se cierre el lazo?\n",
    "\n",
    "- De ser estable en lazo cerrado, ¿cuánto podría aumentar la ganancia antes de hacer que el sistema en lazo cerrado se vuelva inestable?\n",
    "\n",
    "- De ser inestable en lazo cerrado, ¿cuánto debería bajar la ganancia antes de hacer que el sistema en lazo cerrado se vuelva estable?\n",
    "\n",
    "- Verifique con simulaciones\n"
   ]
  },
  {
   "cell_type": "code",
   "execution_count": null,
   "id": "8ce2eb35",
   "metadata": {},
   "outputs": [],
   "source": []
  }
 ],
 "metadata": {
  "kernelspec": {
   "display_name": "Python 3",
   "language": "python",
   "name": "python3"
  },
  "language_info": {
   "codemirror_mode": {
    "name": "ipython",
    "version": 3
   },
   "file_extension": ".py",
   "mimetype": "text/x-python",
   "name": "python",
   "nbconvert_exporter": "python",
   "pygments_lexer": "ipython3",
   "version": "3.7.3"
  },
  "latex_envs": {
   "bibliofile": "biblio.bib",
   "cite_by": "apalike",
   "current_citInitial": 1,
   "eqLabelWithNumbers": true,
   "eqNumInitial": 0
  }
 },
 "nbformat": 4,
 "nbformat_minor": 5
}
